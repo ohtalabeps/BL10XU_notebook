{
 "cells": [
  {
   "cell_type": "code",
   "execution_count": null,
   "id": "initial_id",
   "metadata": {
    "ExecuteTime": {
     "end_time": "",
     "start_time": ""
    },
    "collapsed": true
   },
   "outputs": [],
   "source": [
    "import os\n",
    "import sys"
   ]
  },
  {
   "cell_type": "code",
   "execution_count": null,
   "id": "378de1ddd2d57e0d",
   "metadata": {
    "ExecuteTime": {
     "end_time": "",
     "start_time": ""
    }
   },
   "outputs": [],
   "source": [
    "\"\"\"\n",
    "このnotebookがbaseフォルダを読めるようになるための処理\n",
    "\"\"\"\n",
    "\n",
    "root_rel = '../../'\n",
    "\n",
    "# 相対パスを絶対パスに変換してsys.pathに追加\n",
    "root_abs = os.path.abspath(root_rel)\n",
    "if root_abs not in sys.path:\n",
    "    sys.path.append(root_abs)\n",
    "print(root_abs)"
   ]
  },
  {
   "cell_type": "markdown",
   "id": "83079d4ead2d989d",
   "metadata": {},
   "source": [
    "# モデルのテスト"
   ]
  },
  {
   "cell_type": "code",
   "execution_count": null,
   "id": "74626c204a1668c7",
   "metadata": {},
   "outputs": [],
   "source": [
    "# テストデータのpath\n"
   ]
  },
  {
   "cell_type": "code",
   "execution_count": null,
   "id": "71a7a376f9a5b3a4",
   "metadata": {},
   "outputs": [],
   "source": []
  },
  {
   "cell_type": "code",
   "execution_count": null,
   "id": "f2ffa7ddecaed964",
   "metadata": {},
   "outputs": [],
   "source": []
  }
 ],
 "metadata": {
  "kernelspec": {
   "display_name": "Python 3",
   "language": "python",
   "name": "python3"
  },
  "language_info": {
   "codemirror_mode": {
    "name": "ipython",
    "version": 2
   },
   "file_extension": ".py",
   "mimetype": "text/x-python",
   "name": "python",
   "nbconvert_exporter": "python",
   "pygments_lexer": "ipython2",
   "version": "2.7.6"
  }
 },
 "nbformat": 4,
 "nbformat_minor": 5
}
