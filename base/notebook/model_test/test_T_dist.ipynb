{
 "cells": [
  {
   "cell_type": "code",
   "execution_count": null,
   "id": "initial_id",
   "metadata": {
    "ExecuteTime": {
     "end_time": "",
     "start_time": ""
    },
    "collapsed": true
   },
   "outputs": [],
   "source": [
    "import os\n",
    "import sys\n",
    "\n",
    "import matplotlib.pyplot as plt\n",
    "\n",
    "\"\"\"\n",
    "このnotebookがbaseフォルダを読めるようになるための処理\n",
    "\"\"\"\n",
    "\n",
    "root_rel = '../../'\n",
    "\n",
    "# 相対パスを絶対パスに変換してsys.pathに追加\n",
    "root_abs = os.path.abspath(root_rel)\n",
    "if root_abs not in sys.path:\n",
    "    sys.path.append(root_abs)\n",
    "print(root_abs)"
   ]
  },
  {
   "cell_type": "markdown",
   "id": "83079d4ead2d989d",
   "metadata": {},
   "source": [
    "# クラスとテストデータの読み込み"
   ]
  },
  {
   "cell_type": "code",
   "execution_count": null,
   "id": "74626c204a1668c7",
   "metadata": {
    "ExecuteTime": {
     "end_time": "",
     "start_time": ""
    }
   },
   "outputs": [],
   "source": [
    "# テストデータのpath\n",
    "# やりたい時は適当にテストデータを用意してください。dist.csvならなんでも大丈夫です。\n",
    "test_path = \"rotated_OIbDia08_6_dist(50).csv\""
   ]
  },
  {
   "cell_type": "code",
   "execution_count": null,
   "id": "71a7a376f9a5b3a4",
   "metadata": {
    "ExecuteTime": {
     "end_time": "",
     "start_time": ""
    }
   },
   "outputs": [],
   "source": [
    "from model.Temperature.T_dist import T_dist"
   ]
  },
  {
   "cell_type": "code",
   "execution_count": null,
   "id": "f2ffa7ddecaed964",
   "metadata": {
    "ExecuteTime": {
     "end_time": "",
     "start_time": ""
    }
   },
   "outputs": [],
   "source": [
    "dist = T_dist(filepath=test_path)"
   ]
  },
  {
   "cell_type": "code",
   "execution_count": null,
   "id": "b11d0c0abd2eb153",
   "metadata": {
    "ExecuteTime": {
     "end_time": "",
     "start_time": ""
    }
   },
   "outputs": [],
   "source": [
    "for attr in dir(dist):\n",
    "    if not attr.startswith('_'):\n",
    "        print(\"dist.\" + attr)"
   ]
  },
  {
   "cell_type": "markdown",
   "id": "1c5eccde202dd722",
   "metadata": {},
   "source": [
    "# テスト"
   ]
  },
  {
   "cell_type": "code",
   "execution_count": null,
   "id": "11c491c508c6ac8c",
   "metadata": {
    "ExecuteTime": {
     "end_time": "",
     "start_time": ""
    }
   },
   "outputs": [],
   "source": [
    "dist.set_T_data() # target\n",
    "\n",
    "print(f\"{dist.frame = }\")\n",
    "print(f\"{dist.pixel = }\")\n"
   ]
  },
  {
   "cell_type": "code",
   "execution_count": null,
   "id": "7a9a99f168ac6382",
   "metadata": {
    "ExecuteTime": {
     "end_time": "",
     "start_time": ""
    }
   },
   "outputs": [],
   "source": [
    "# testじゃない\n",
    "plt.imshow(dist.temp_df, aspect='auto', cmap='jet')"
   ]
  },
  {
   "cell_type": "code",
   "execution_count": null,
   "id": "a50b5cbe9571f53",
   "metadata": {
    "ExecuteTime": {
     "end_time": "",
     "start_time": ""
    }
   },
   "outputs": [],
   "source": [
    "frame = 700\n",
    "\n",
    "profile_arr = dist.return_T_profile(frame=frame) # target / plotして確認\n",
    "\n",
    "plt.plot(profile_arr)\n",
    "plt.title(f\"T Profile at {frame} frame\")\n",
    "plt.xlabel(\"Pixel\")\n",
    "plt.ylabel(\"Temperature (K)\")"
   ]
  },
  {
   "cell_type": "code",
   "execution_count": null,
   "id": "2b81b754b14c45ef",
   "metadata": {
    "ExecuteTime": {
     "end_time": "",
     "start_time": ""
    }
   },
   "outputs": [],
   "source": [
    "pixel = 380\n",
    "\n",
    "variation_arr = dist.return_T_variation(pixel=pixel) # target / plotして確認\n",
    "\n",
    "plt.plot(variation_arr)\n",
    "plt.title(f\"T time series at {pixel} pixel\")\n",
    "plt.xlabel(\"Frame\")\n",
    "plt.ylabel(\"Temperature (K)\")"
   ]
  },
  {
   "cell_type": "code",
   "execution_count": null,
   "id": "63e1fc8d54ea9d64",
   "metadata": {
    "ExecuteTime": {
     "end_time": "",
     "start_time": ""
    }
   },
   "outputs": [],
   "source": [
    "start_frame = 500\n",
    "end_frame = 760\n",
    "center = 385\n",
    "half_width = 8\n",
    "\n",
    "min_arr, mean_arr, max_arr = dist.return_stats_arr(start_frame=start_frame,\n",
    "                                                   end_frame=end_frame,\n",
    "                                                   center=center,\n",
    "                                                   half_width=half_width) # target / plotして確認\n",
    "\n",
    "plt.plot(max_arr, c=\"red\", label=\"Max\")\n",
    "plt.plot(mean_arr, c=\"gray\", label=\"Mean\")\n",
    "plt.plot(min_arr, c=\"blue\", label=\"Min\")\n",
    "plt.legend()\n",
    "plt.title(f\"T variation \\n{start_frame} ~ {end_frame} frame\\n{center-half_width} ~ {center+half_width} pixel\")\n",
    "plt.xlabel(\"Frame\")\n",
    "plt.ylabel(\"Temperature (K)\")\n"
   ]
  },
  {
   "cell_type": "code",
   "execution_count": null,
   "id": "31b95fc49d5d9da3",
   "metadata": {},
   "outputs": [],
   "source": []
  }
 ],
 "metadata": {
  "kernelspec": {
   "display_name": "Python 3",
   "language": "python",
   "name": "python3"
  },
  "language_info": {
   "codemirror_mode": {
    "name": "ipython",
    "version": 2
   },
   "file_extension": ".py",
   "mimetype": "text/x-python",
   "name": "python",
   "nbconvert_exporter": "python",
   "pygments_lexer": "ipython2",
   "version": "2.7.6"
  }
 },
 "nbformat": 4,
 "nbformat_minor": 5
}
