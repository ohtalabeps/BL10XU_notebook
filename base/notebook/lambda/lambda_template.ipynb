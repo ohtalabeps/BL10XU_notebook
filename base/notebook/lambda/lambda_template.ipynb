{
 "cells": [
  {
   "cell_type": "markdown",
   "id": "bab0f4b9faa10492",
   "metadata": {},
   "source": [
    "# 共通処理"
   ]
  },
  {
   "cell_type": "code",
   "execution_count": null,
   "id": "ac12a16dc28bccf9",
   "metadata": {
    "ExecuteTime": {
     "end_time": "",
     "start_time": ""
    }
   },
   "outputs": [],
   "source": [
    "import os\n",
    "import sys\n",
    "\n",
    "import h5py\n",
    "\n",
    "\"\"\"\n",
    "このnotebookがbaseフォルダを読めるようになるための処理\n",
    "\"\"\"\n",
    "\n",
    "root_rel = '../../'\n",
    "\n",
    "# 相対パスを絶対パスに変換してsys.pathに追加\n",
    "root_abs = os.path.abspath(root_rel)\n",
    "if root_abs not in sys.path:\n",
    "    sys.path.append(root_abs)\n",
    "print(root_abs)"
   ]
  },
  {
   "cell_type": "code",
   "execution_count": null,
   "id": "f3a572171f83b16",
   "metadata": {
    "ExecuteTime": {
     "end_time": "",
     "start_time": ""
    }
   },
   "outputs": [],
   "source": [
    "import json\n",
    "\n",
    "try:\n",
    "    with open('setting.json', 'r') as file:\n",
    "        setting = json.load(file)\n",
    "except FileNotFoundError:\n",
    "    print(\"先にset_run.ipynbで解析runを設定してください\")\n",
    "\n",
    "hdf5_path = setting['hdf5_path']\n",
    "hdf5_path\n",
    "\n",
    "run_name = hdf5_path.split('/')[-1].split('.')[0]\n",
    "\n",
    "hdf5_path, run_name"
   ]
  },
  {
   "cell_type": "code",
   "execution_count": null,
   "id": "751072aa89214490",
   "metadata": {
    "ExecuteTime": {
     "end_time": "",
     "start_time": ""
    }
   },
   "outputs": [],
   "source": [
    "from model.File.HDF5 import HDF5\n",
    "\n",
    "import numpy as np\n",
    "import matplotlib.pyplot as plt\n",
    "import pandas as pd\n",
    "from tqdm import tqdm"
   ]
  },
  {
   "cell_type": "code",
   "execution_count": null,
   "id": "a8782424d6a28f45",
   "metadata": {
    "ExecuteTime": {
     "end_time": "",
     "start_time": ""
    }
   },
   "outputs": [],
   "source": [
    "plt.rcParams['font.family'] = 'Arial'\n",
    "plt.rcParams['mathtext.fontset'] = 'cm'     #数式用のフォントejavuserif\" or \"cm\"\n",
    "plt.rcParams['xtick.direction'] = 'in'      #x軸の目盛線 #内in')か外向き('out')か双方向か('inout')\n",
    "plt.rcParams['ytick.direction'] = 'in'      #y軸の目盛線 #内in')か外向き('out')か双方向か('inout')\n",
    "plt.rcParams['xtick.major.width'] = 1.0     #x軸主目盛り線の線幅\n",
    "plt.rcParams['ytick.major.width'] = 1.0     #y軸主目盛り線の線幅\n",
    "plt.rcParams['font.size'] = 18               #フォントの大きさ\n",
    "plt.rcParams['axes.linewidth'] = 0.8        #軸の線幅edge linewidth。囲みの太さ\n",
    "plt.rcParams['figure.dpi'] = 300\n",
    "plt.rcParams['figure.figsize'] = (8, 6)\n"
   ]
  },
  {
   "cell_type": "code",
   "execution_count": null,
   "id": "1884b692d0fc2187",
   "metadata": {
    "ExecuteTime": {
     "end_time": "",
     "start_time": ""
    }
   },
   "outputs": [],
   "source": [
    "# hdf5内のlayer pathを取得する\n",
    "with h5py.File(hdf5_path, 'r') as f_read:\n",
    "    hdf = HDF5(f=f_read)"
   ]
  },
  {
   "cell_type": "code",
   "execution_count": null,
   "id": "69e995944c65960a",
   "metadata": {
    "ExecuteTime": {
     "end_time": "",
     "start_time": ""
    }
   },
   "outputs": [],
   "source": [
    "def return_hdf5_data(hdf5_path: str, *, query: str, shape=None):\n",
    "    with h5py.File(hdf5_path, 'r') as f_read:\n",
    "        hdf = HDF5(f=f_read)\n",
    "        \n",
    "        to_data = hdf.search_data_path(query=query)\n",
    "        \n",
    "        if type(to_data) is str:\n",
    "            return hdf.return_data(data_path=to_data, shape=shape)\n",
    "        elif type(to_data) is list:\n",
    "            raise Exception(\"複数のlayer pathが見つかりました。一括で返して欲しい場合は実装してください。\")\n",
    "        else:\n",
    "            raise Exception(\"layer pathが見つかりませんでした。\")"
   ]
  },
  {
   "cell_type": "markdown",
   "id": "865e851fece8c333",
   "metadata": {},
   "source": [
    "# データの取得"
   ]
  },
  {
   "cell_type": "code",
   "execution_count": null,
   "id": "fee4ac1d16821af6",
   "metadata": {
    "ExecuteTime": {
     "end_time": "",
     "start_time": ""
    }
   },
   "outputs": [],
   "source": []
  }
 ],
 "metadata": {
  "kernelspec": {
   "display_name": "Python 3",
   "language": "python",
   "name": "python3"
  },
  "language_info": {
   "codemirror_mode": {
    "name": "ipython",
    "version": 2
   },
   "file_extension": ".py",
   "mimetype": "text/x-python",
   "name": "python",
   "nbconvert_exporter": "python",
   "pygments_lexer": "ipython2",
   "version": "2.7.6"
  }
 },
 "nbformat": 4,
 "nbformat_minor": 5
}
