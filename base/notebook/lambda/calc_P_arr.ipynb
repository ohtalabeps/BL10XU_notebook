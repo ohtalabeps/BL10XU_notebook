{
 "cells": [
  {
   "cell_type": "markdown",
   "id": "bab0f4b9faa10492",
   "metadata": {},
   "source": [
    "# 共通処理"
   ]
  },
  {
   "cell_type": "code",
   "execution_count": null,
   "id": "ac12a16dc28bccf9",
   "metadata": {
    "ExecuteTime": {
     "end_time": "",
     "start_time": ""
    }
   },
   "outputs": [],
   "source": [
    "import os\n",
    "import sys\n",
    "\n",
    "import h5py\n",
    "\n",
    "\"\"\"\n",
    "このnotebookがbaseフォルダを読めるようになるための処理\n",
    "\"\"\"\n",
    "\n",
    "root_rel = '../../'\n",
    "\n",
    "# 相対パスを絶対パスに変換してsys.pathに追加\n",
    "root_abs = os.path.abspath(root_rel)\n",
    "if root_abs not in sys.path:\n",
    "    sys.path.append(root_abs)\n",
    "print(root_abs)"
   ]
  },
  {
   "cell_type": "code",
   "execution_count": null,
   "id": "f3a572171f83b16",
   "metadata": {
    "ExecuteTime": {
     "end_time": "",
     "start_time": ""
    }
   },
   "outputs": [],
   "source": [
    "import json\n",
    "\n",
    "try:\n",
    "    with open('setting.json', 'r') as file:\n",
    "        setting = json.load(file)\n",
    "except FileNotFoundError:\n",
    "    print(\"先にset_run.ipynbで解析runを設定してください\")\n",
    "\n",
    "hdf5_path = setting['hdf5_path']\n",
    "hdf5_path\n",
    "\n",
    "run_name = hdf5_path.split('/')[-1].split('.')[0]\n",
    "\n",
    "hdf5_path, run_name"
   ]
  },
  {
   "cell_type": "code",
   "execution_count": null,
   "id": "751072aa89214490",
   "metadata": {
    "ExecuteTime": {
     "end_time": "",
     "start_time": ""
    }
   },
   "outputs": [],
   "source": [
    "from model.File.HDF5 import HDF5\n",
    "\n",
    "import numpy as np\n",
    "import matplotlib.pyplot as plt\n",
    "import pandas as pd\n",
    "from tqdm import tqdm"
   ]
  },
  {
   "cell_type": "code",
   "execution_count": null,
   "id": "a8782424d6a28f45",
   "metadata": {
    "ExecuteTime": {
     "end_time": "",
     "start_time": ""
    }
   },
   "outputs": [],
   "source": [
    "plt.rcParams['font.family'] = 'Arial'\n",
    "plt.rcParams['mathtext.fontset'] = 'cm'     #数式用のフォントejavuserif\" or \"cm\"\n",
    "plt.rcParams['xtick.direction'] = 'in'      #x軸の目盛線 #内in')か外向き('out')か双方向か('inout')\n",
    "plt.rcParams['ytick.direction'] = 'in'      #y軸の目盛線 #内in')か外向き('out')か双方向か('inout')\n",
    "plt.rcParams['xtick.major.width'] = 1.0     #x軸主目盛り線の線幅\n",
    "plt.rcParams['ytick.major.width'] = 1.0     #y軸主目盛り線の線幅\n",
    "plt.rcParams['font.size'] = 18               #フォントの大きさ\n",
    "plt.rcParams['axes.linewidth'] = 0.8        #軸の線幅edge linewidth。囲みの太さ\n",
    "plt.rcParams['figure.dpi'] = 300\n",
    "plt.rcParams['figure.figsize'] = (8, 6)\n"
   ]
  },
  {
   "cell_type": "code",
   "execution_count": null,
   "id": "1884b692d0fc2187",
   "metadata": {
    "ExecuteTime": {
     "end_time": "",
     "start_time": ""
    }
   },
   "outputs": [],
   "source": [
    "# hdf5内のlayer pathを取得する\n",
    "with h5py.File(hdf5_path, 'r') as f_read:\n",
    "    hdf = HDF5(f=f_read)"
   ]
  },
  {
   "cell_type": "code",
   "execution_count": null,
   "id": "69e995944c65960a",
   "metadata": {
    "ExecuteTime": {
     "end_time": "",
     "start_time": ""
    }
   },
   "outputs": [],
   "source": [
    "def return_hdf5_data(hdf5_path: str, *, query: str, shape=None):\n",
    "    with h5py.File(hdf5_path, 'r') as f_read:\n",
    "        hdf = HDF5(f=f_read)\n",
    "        \n",
    "        to_data = hdf.search_data_path(query=query)\n",
    "        \n",
    "        if type(to_data) is str:\n",
    "            return hdf.return_data(data_path=to_data, shape=shape)\n",
    "        elif type(to_data) is list:\n",
    "            raise Exception(\"複数のlayer pathが見つかりました。一括で返して欲しい場合は実装してください。\")\n",
    "        else:\n",
    "            raise Exception(\"layer pathが見つかりませんでした。\")"
   ]
  },
  {
   "cell_type": "markdown",
   "id": "5e9eaf758204444c",
   "metadata": {},
   "source": [
    "# 格子体積を計算する"
   ]
  },
  {
   "cell_type": "code",
   "execution_count": null,
   "id": "6867108a028950b5",
   "metadata": {},
   "outputs": [],
   "source": [
    "# TODO 汚すぎるのであとで整形する"
   ]
  },
  {
   "cell_type": "markdown",
   "id": "865e851fece8c333",
   "metadata": {},
   "source": [
    "## データの取得"
   ]
  },
  {
   "cell_type": "code",
   "execution_count": null,
   "id": "fee4ac1d16821af6",
   "metadata": {
    "ExecuteTime": {
     "end_time": "",
     "start_time": ""
    }
   },
   "outputs": [],
   "source": [
    "# 軽いデータ\n",
    "fps = return_hdf5_data(hdf5_path, query='nxs/fps')\n",
    "exposure_ms = return_hdf5_data(hdf5_path, query='nxs/exposure_ms')\n",
    "frame_num = return_hdf5_data(hdf5_path, query='nxs/frame_num')\n",
    "\n",
    "tth_arr = return_hdf5_data(hdf5_path, query='nxs/tth')\n",
    "azi_arr = return_hdf5_data(hdf5_path, query='nxs/azi')\n",
    "\n",
    "time_arr = np.arange(frame_num) / fps"
   ]
  },
  {
   "cell_type": "code",
   "execution_count": null,
   "id": "530b04ed82572ed",
   "metadata": {
    "ExecuteTime": {
     "end_time": "",
     "start_time": ""
    }
   },
   "outputs": [],
   "source": [
    "# 強度\n",
    "I = return_hdf5_data(hdf5_path, query='nxs/I')"
   ]
  },
  {
   "cell_type": "code",
   "execution_count": null,
   "id": "be6afa0836448c6d",
   "metadata": {
    "ExecuteTime": {
     "end_time": "",
     "start_time": ""
    }
   },
   "outputs": [],
   "source": [
    "# 温度も取得しておく\n",
    "T_up = return_hdf5_data(hdf5_path, query='T/T_up_mean')\n",
    "T_down = return_hdf5_data(hdf5_path, query='T/T_down_mean')\n",
    "\n",
    "T_up_err_minus = return_hdf5_data(hdf5_path, query='T/T_up_err_minus')\n",
    "T_up_err_plus = return_hdf5_data(hdf5_path, query='T/T_up_err_plus')\n",
    "T_down_err_minus = return_hdf5_data(hdf5_path, query='T/T_down_err_minus')\n",
    "T_down_err_plus = return_hdf5_data(hdf5_path, query='T/T_down_err_plus')"
   ]
  },
  {
   "cell_type": "markdown",
   "id": "a5a35ddb9f9932e8",
   "metadata": {},
   "source": [
    "## 強度のplot"
   ]
  },
  {
   "cell_type": "code",
   "execution_count": null,
   "id": "1cd7409b6f6bfca8",
   "metadata": {
    "ExecuteTime": {
     "end_time": "",
     "start_time": ""
    }
   },
   "outputs": [],
   "source": [
    "df_I = pd.DataFrame(I)\n",
    "\n",
    "plt.plot(tth_arr, df_I.sum())\n",
    "plt.grid()\n",
    "plt.show()\n",
    "plt.close()"
   ]
  },
  {
   "cell_type": "code",
   "execution_count": null,
   "id": "e69bd95f0b041f75",
   "metadata": {
    "ExecuteTime": {
     "end_time": "",
     "start_time": ""
    }
   },
   "outputs": [],
   "source": [
    "I.shape"
   ]
  },
  {
   "cell_type": "code",
   "execution_count": null,
   "id": "9f433f6cd5218367",
   "metadata": {
    "ExecuteTime": {
     "end_time": "",
     "start_time": ""
    },
    "jupyter": {
     "is_executing": true
    }
   },
   "outputs": [],
   "source": [
    "# 1d patternの時間進化を確認する\n",
    "plt.imshow(I, aspect='auto', cmap='jet', origin='lower',\n",
    "           extent=[tth_arr[0], tth_arr[-1], time_arr[0], time_arr[-1]])\n",
    "plt.colorbar()\n",
    "plt.show()\n",
    "plt.close()"
   ]
  },
  {
   "cell_type": "markdown",
   "id": "47bb01559c94c360",
   "metadata": {},
   "source": [
    "## 角度を狭めて見ていく"
   ]
  },
  {
   "cell_type": "code",
   "execution_count": null,
   "id": "ac7811df6245aa33",
   "metadata": {
    "ExecuteTime": {
     "end_time": "",
     "start_time": ""
    }
   },
   "outputs": [],
   "source": [
    "# tthを指定したら、そのindexを返す関数\n",
    "def return_idx(arr, value):\n",
    "    idx = (np.abs(arr - value)).argmin()\n",
    "    return idx"
   ]
  },
  {
   "cell_type": "code",
   "execution_count": null,
   "id": "79ef0119003363c9",
   "metadata": {
    "ExecuteTime": {
     "end_time": "",
     "start_time": ""
    }
   },
   "outputs": [],
   "source": [
    "return_idx(tth_arr, 10)"
   ]
  },
  {
   "cell_type": "code",
   "execution_count": null,
   "id": "602a18ed0716e5",
   "metadata": {
    "ExecuteTime": {
     "end_time": "",
     "start_time": ""
    },
    "jupyter": {
     "is_executing": true
    }
   },
   "outputs": [],
   "source": [
    "# 特定のピークとか見る\n",
    "from_tth = 9.7\n",
    "to_tth = 10.7\n",
    "\n",
    "from_idx = return_idx(tth_arr, from_tth)\n",
    "to_idx = return_idx(tth_arr, to_tth)\n",
    "plt.imshow(I[:, from_idx:to_idx].T, aspect='auto', cmap='jet', origin='lower',\n",
    "           extent=[time_arr[0], time_arr[-1], from_tth, to_tth])\n",
    "plt.colorbar()\n",
    "plt.show()\n",
    "plt.close()\n"
   ]
  },
  {
   "cell_type": "code",
   "execution_count": null,
   "id": "6805ee0de0592531",
   "metadata": {
    "ExecuteTime": {
     "end_time": "",
     "start_time": ""
    }
   },
   "outputs": [],
   "source": [
    "fig, ax = plt.subplots()\n",
    "ax.plot(time_arr, df_I.iloc[:, from_idx:to_idx].max(axis=1))\n",
    "twin = ax.twinx()\n",
    "twin.plot(time_arr, T_up)\n",
    "twin.plot(time_arr, T_down)\n",
    "twin.set_ylim(1_000, 6_000)\n",
    "plt.show()\n",
    "plt.close()"
   ]
  },
  {
   "cell_type": "markdown",
   "id": "c5343d7793f99107",
   "metadata": {},
   "source": [
    "## 回折角を得る"
   ]
  },
  {
   "cell_type": "code",
   "execution_count": null,
   "id": "8de27749bb13a4eb",
   "metadata": {
    "ExecuteTime": {
     "end_time": "",
     "start_time": ""
    }
   },
   "outputs": [],
   "source": [
    "# 最大値をえる\n",
    "idxmax_arr = df_I.iloc[:, from_idx:to_idx].idxmax(axis=1)\n",
    "print(idxmax_arr.shape)\n",
    "\n",
    "maxtth_list = []\n",
    "for frame in range(frame_num):\n",
    "    if I[frame, from_idx:to_idx].max() == 0:\n",
    "        maxtth = maxtth_list[-1]\n",
    "    else:\n",
    "        maxtth = tth_arr[(idxmax_arr[frame])]\n",
    "    maxtth_list.append(maxtth)\n",
    "kcl_tth_arr = np.array(maxtth_list)\n",
    "\n",
    "# center_list = []\n",
    "# indices = np.arange(from_idx, to_idx)\n",
    "# for frame in tqdm(range(frame_num)):\n",
    "#     intensities = I[frame, from_idx:to_idx]\n",
    "#     if np.sum(intensities) == 0:\n",
    "#         maxtth = tth_arr[(idxmax_arr[frame])]\n",
    "#         center_list.append(maxtth) \n",
    "#     else:\n",
    "#         center_idx = int(np.sum(indices * intensities) / np.sum(intensities))\n",
    "#         center_list.append(tth_arr[center_idx])\n",
    "# center_arr = np.array([center_list])[0]\n",
    "\n",
    "plt.plot(time_arr, kcl_tth_arr)\n",
    "# plt.plot(time_arr, center_arr)\n",
    "plt.show()\n",
    "plt.close()"
   ]
  },
  {
   "cell_type": "code",
   "execution_count": null,
   "id": "551e87f3ab02b0ab",
   "metadata": {
    "ExecuteTime": {
     "end_time": "",
     "start_time": ""
    }
   },
   "outputs": [],
   "source": [
    "# 格子体積を計算\n",
    "\n",
    "nxs_path = return_hdf5_data(hdf5_path, query='path/nxs_path')\n",
    "poni_path = return_hdf5_data(hdf5_path, query='path/poni_path')\n",
    "# nxsファイルとponiファイルを読み込む\n",
    "from model.XRD.Nxs import NxsFile\n",
    "\n",
    "nxs = NxsFile(nxs_path=nxs_path, poni_path=poni_path)\n"
   ]
  },
  {
   "cell_type": "code",
   "execution_count": null,
   "id": "74d539dc5ad6e6ce",
   "metadata": {
    "ExecuteTime": {
     "end_time": "",
     "start_time": ""
    }
   },
   "outputs": [],
   "source": [
    "xray_wl = nxs.ai.wavelength\n",
    "xray_wl *= 10**10\n",
    "xray_wl # Å"
   ]
  },
  {
   "cell_type": "code",
   "execution_count": null,
   "id": "e2c0f5f49e6f384f",
   "metadata": {
    "ExecuteTime": {
     "end_time": "",
     "start_time": ""
    }
   },
   "outputs": [],
   "source": [
    "def calc_cubic_a(peak_twotheta_deg,\n",
    "                 h=1,k=1,l=0,\n",
    "                 wl=xray_wl):\n",
    "    peak_twotheta_rad = (peak_twotheta_deg/ 360) *2 *  np.pi\n",
    "    a = np.sqrt(h**2 + k**2 + l**2) * wl/(2 * np.sin(peak_twotheta_rad/2) )\n",
    "    return a"
   ]
  },
  {
   "cell_type": "code",
   "execution_count": null,
   "id": "1caef3850441a6ba",
   "metadata": {
    "ExecuteTime": {
     "end_time": "",
     "start_time": ""
    }
   },
   "outputs": [],
   "source": [
    "a = calc_cubic_a(kcl_tth_arr)"
   ]
  },
  {
   "cell_type": "code",
   "execution_count": null,
   "id": "e96e160f3bd439dc",
   "metadata": {
    "ExecuteTime": {
     "end_time": "",
     "start_time": ""
    }
   },
   "outputs": [],
   "source": [
    "plt.plot(time_arr, a)\n",
    "plt.show()\n",
    "plt.close()"
   ]
  },
  {
   "cell_type": "code",
   "execution_count": null,
   "id": "5153786eda3b0976",
   "metadata": {
    "ExecuteTime": {
     "end_time": "",
     "start_time": ""
    }
   },
   "outputs": [],
   "source": [
    "V_arr = a**3\n",
    "plt.plot(time_arr, V_arr)\n",
    "plt.show()\n",
    "plt.close()\n"
   ]
  },
  {
   "cell_type": "markdown",
   "id": "43f87bfcbe8dd6e3",
   "metadata": {},
   "source": [
    "# 圧力を計算する"
   ]
  },
  {
   "cell_type": "code",
   "execution_count": null,
   "id": "b63e8194b6a25d7f",
   "metadata": {
    "ExecuteTime": {
     "end_time": "",
     "start_time": ""
    }
   },
   "outputs": [],
   "source": [
    "from model.Calculation import eqn_vinet"
   ]
  },
  {
   "cell_type": "code",
   "execution_count": null,
   "id": "cafd4acf22bf91f7",
   "metadata": {
    "ExecuteTime": {
     "end_time": "",
     "start_time": ""
    }
   },
   "outputs": [],
   "source": [
    "# KCl B2\n",
    "v0 = 54.5\n",
    "k0 = 17.2\n",
    "k0p = 5.89\n",
    "\n",
    "P_non_T = eqn_vinet.vinet_p(V_arr, v0, k0, k0p)"
   ]
  },
  {
   "cell_type": "code",
   "execution_count": null,
   "id": "c9412e531e203525",
   "metadata": {
    "ExecuteTime": {
     "end_time": "",
     "start_time": ""
    }
   },
   "outputs": [],
   "source": [
    "fig, ax = plt.subplots()\n",
    "ax.plot(time_arr, P_non_T)\n",
    "twin = ax.twinx()\n",
    "twin.plot(time_arr, T_up)\n",
    "twin.plot(time_arr, T_down)\n",
    "twin.set_ylim(1_000, 6_000)\n",
    "plt.show()\n",
    "plt.close()\n"
   ]
  },
  {
   "cell_type": "code",
   "execution_count": null,
   "id": "2af63c7ba0b6bbb8",
   "metadata": {
    "ExecuteTime": {
     "end_time": "",
     "start_time": ""
    }
   },
   "outputs": [],
   "source": [
    "# 温度誤差を考える\n",
    "# 上限と下限\n",
    "T_range = [\n",
    "    T_up - T_up_err_minus,\n",
    "    T_up + T_up_err_plus,\n",
    "    T_down - T_down_err_minus,\n",
    "    T_down + T_down_err_plus,\n",
    "]\n",
    "df_T_range = pd.DataFrame(T_range)\n",
    "df_T_range[df_T_range < 1_000] = 0\n",
    "T_high_arr = df_T_range.max()\n",
    "T_low_arr = df_T_range.min()\n",
    "\n",
    "# 真ん中\n",
    "T_mean = [T_up, T_down]\n",
    "T_mean = pd.DataFrame(T_mean)\n",
    "T_mean_arr = df_T_range.mean()\n",
    "\n",
    "\n",
    "plt.plot(time_arr, T_high_arr)\n",
    "plt.plot(time_arr, T_low_arr)\n",
    "plt.plot(time_arr, T_mean_arr, color='black')\n",
    "plt.show()\n",
    "plt.close()"
   ]
  },
  {
   "cell_type": "code",
   "execution_count": null,
   "id": "b6fd336a37a86a5c",
   "metadata": {
    "ExecuteTime": {
     "end_time": "",
     "start_time": ""
    }
   },
   "outputs": [],
   "source": [
    "# 温度を取り入れる\n",
    "akt = 0.00224\n",
    "\n",
    "P_max_arr = P_non_T + T_high_arr * akt\n",
    "P_mean_arr = P_non_T + T_mean_arr * akt\n",
    "P_min_arr = P_non_T + T_low_arr * akt\n",
    "\n",
    "P_err = [\n",
    "    P_mean_arr - P_min_arr,\n",
    "    P_max_arr - P_mean_arr,\n",
    "]\n",
    "\n",
    "T_err = [\n",
    "    T_mean_arr - T_low_arr,\n",
    "    T_high_arr - T_mean_arr,\n",
    "]"
   ]
  },
  {
   "cell_type": "code",
   "execution_count": null,
   "id": "6ab52cdc60e675ab",
   "metadata": {
    "ExecuteTime": {
     "end_time": "",
     "start_time": ""
    }
   },
   "outputs": [],
   "source": [
    "plt.errorbar(x=P_mean_arr, y=T_mean_arr, yerr=T_err, xerr=P_err,\n",
    "             fmt='o', c='black',mfc='white', capsize=3, elinewidth=1, alpha=0.5)\n",
    "plt.xlim(0, 60)\n",
    "plt.ylim(1_000, 7_000)\n",
    "plt.show()\n",
    "plt.close()"
   ]
  },
  {
   "cell_type": "code",
   "execution_count": null,
   "id": "b53cb791803a6710",
   "metadata": {
    "ExecuteTime": {
     "end_time": "",
     "start_time": ""
    }
   },
   "outputs": [],
   "source": [
    "# satuあり、全体、レーザーあり\n",
    "fig, ax = plt.subplots()\n",
    "\n",
    "ax.set_title(f\"T evolution of {run_name}\")\n",
    "\n",
    "ax.errorbar(x=time_arr, y=T_mean_arr, yerr=T_err,\n",
    "            c='black', marker='.',mfc='white', capsize=3, elinewidth=1, alpha=0.5,)\n",
    "\n",
    "ax.set_ylim(1_000, 7_000)\n",
    "ax.set_xlabel('Time (sec)')\n",
    "ax.set_ylabel('Temperature (K)')\n",
    "\n",
    "plt.show()\n",
    "plt.close()\n",
    "# for i in range(region_num):\n",
    "#     idx = i * 2\n",
    "#     ax.axvspan(xmin=saturation_time_arr[idx], xmax=saturation_time_arr[idx+1],\n",
    "#                facecolor='red', alpha=0.3)\n",
    "\n",
    "# twin = ax.twinx()\n",
    "# twin.plot(laser_time_arr, laser_power_arr, color='black', alpha=0.3, label='Laser')\n",
    "# twin.legend(loc=\"upper left\", bbox_to_anchor=(0, 0.8))\n"
   ]
  },
  {
   "cell_type": "markdown",
   "id": "cd958515e55c0cf6",
   "metadata": {},
   "source": [
    "# 保存しておく"
   ]
  },
  {
   "cell_type": "code",
   "execution_count": null,
   "id": "f4610f490b3da6c7",
   "metadata": {
    "ExecuteTime": {
     "end_time": "",
     "start_time": ""
    }
   },
   "outputs": [],
   "source": [
    "PT_layer = 'entry/PT/'\n",
    "\n",
    "# P_mean_arr\n",
    "# P_err\n",
    "# T_mean_arr\n",
    "# T_err\n",
    "\n",
    "\n",
    "with h5py.File(hdf5_path, 'a') as f_append:\n",
    "    layer = PT_layer + 'P_mean_arr'\n",
    "    f_append.create_dataset(name=layer, data=P_mean_arr)\n",
    "    layer = PT_layer + 'T_mean_arr'\n",
    "    f_append.create_dataset(name=layer, data=T_mean_arr)\n",
    "\n",
    "    layer = PT_layer + 'P_err'\n",
    "    f_append.create_dataset(name=layer, data=P_err)\n",
    "    layer = PT_layer + 'T_err'\n",
    "    f_append.create_dataset(name=layer, data=T_err)\n",
    "    \n",
    "print(\"書き込み終了\")\n",
    "\n",
    "# 確認\n",
    "with h5py.File(hdf5_path, 'r') as f_read:\n",
    "    HDF5(f=f_read).show_all_hierarchy(f=f_read, display_length=80)\n"
   ]
  },
  {
   "cell_type": "code",
   "execution_count": null,
   "id": "5bf256e51d6ce76c",
   "metadata": {},
   "outputs": [],
   "source": []
  }
 ],
 "metadata": {
  "kernelspec": {
   "display_name": "Python 3",
   "language": "python",
   "name": "python3"
  },
  "language_info": {
   "codemirror_mode": {
    "name": "ipython",
    "version": 2
   },
   "file_extension": ".py",
   "mimetype": "text/x-python",
   "name": "python",
   "nbconvert_exporter": "python",
   "pygments_lexer": "ipython2",
   "version": "2.7.6"
  }
 },
 "nbformat": 4,
 "nbformat_minor": 5
}
