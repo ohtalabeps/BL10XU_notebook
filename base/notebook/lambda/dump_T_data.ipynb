{
 "cells": [
  {
   "cell_type": "markdown",
   "id": "4df6641124072a43",
   "metadata": {},
   "source": [
    "# 共通処理"
   ]
  },
  {
   "cell_type": "code",
   "execution_count": null,
   "id": "8a203b1da66e22b4",
   "metadata": {
    "ExecuteTime": {
     "end_time": "",
     "start_time": ""
    }
   },
   "outputs": [],
   "source": [
    "import os\n",
    "import sys\n",
    "\n",
    "import h5py\n",
    "\n",
    "\"\"\"\n",
    "このnotebookがbaseフォルダを読めるようになるための処理\n",
    "\"\"\"\n",
    "\n",
    "root_rel = '../../'\n",
    "\n",
    "# 相対パスを絶対パスに変換してsys.pathに追加\n",
    "root_abs = os.path.abspath(root_rel)\n",
    "if root_abs not in sys.path:\n",
    "    sys.path.append(root_abs)\n",
    "print(root_abs)\n"
   ]
  },
  {
   "cell_type": "code",
   "execution_count": null,
   "id": "738d6de13585ab32",
   "metadata": {
    "ExecuteTime": {
     "end_time": "",
     "start_time": ""
    }
   },
   "outputs": [],
   "source": [
    "import json\n",
    "\n",
    "try:\n",
    "    with open('setting.json', 'r') as file:\n",
    "        setting = json.load(file)\n",
    "except FileNotFoundError:\n",
    "    print(\"先にset_run.ipynbで解析runを設定してください\")\n",
    "\n",
    "hdf5_path = setting['hdf5_path']\n",
    "hdf5_path\n"
   ]
  },
  {
   "cell_type": "code",
   "execution_count": null,
   "id": "cc8e58bb1f77c319",
   "metadata": {
    "ExecuteTime": {
     "end_time": "",
     "start_time": ""
    }
   },
   "outputs": [],
   "source": [
    "from model.File.HDF5 import HDF5\n",
    "\n",
    "import numpy as np\n",
    "import matplotlib.pyplot as plt\n",
    "from tqdm import tqdm"
   ]
  },
  {
   "cell_type": "markdown",
   "id": "c73d6ed4ecc291db",
   "metadata": {},
   "source": [
    "# データを取り出す準備"
   ]
  },
  {
   "cell_type": "code",
   "execution_count": null,
   "id": "aa52017e4604d3d1",
   "metadata": {
    "ExecuteTime": {
     "end_time": "",
     "start_time": ""
    }
   },
   "outputs": [],
   "source": [
    "# hdf5内のlayer pathを取得する\n",
    "with h5py.File(hdf5_path, 'r') as f_read:\n",
    "    hdf = HDF5(f=f_read)\n",
    "    print(\"\")\n",
    "    to_spe = hdf.search_data_path(query='spe_path')\n",
    "    to_calib = hdf.search_data_path(query='calib_path')\n",
    "    to_dist = hdf.search_data_path(query='dist_path')"
   ]
  },
  {
   "cell_type": "code",
   "execution_count": null,
   "id": "9548fbb4641ebb92",
   "metadata": {
    "ExecuteTime": {
     "end_time": "",
     "start_time": ""
    }
   },
   "outputs": [],
   "source": [
    "# それぞれのファイルのpathを取得する\n",
    "with h5py.File(hdf5_path, 'r') as f_read:\n",
    "    hdf = HDF5(f=f_read)\n",
    "    print(\"\")\n",
    "    spe_path = hdf.return_data(data_path=to_spe)\n",
    "    calib_path = hdf.return_data(data_path=to_calib)\n",
    "    dist_path = hdf.return_data(data_path=to_dist)"
   ]
  },
  {
   "cell_type": "markdown",
   "id": "7ec229ffb24215",
   "metadata": {},
   "source": [
    "# データを取り出して格納する"
   ]
  },
  {
   "cell_type": "markdown",
   "id": "59fe937611b31db9",
   "metadata": {},
   "source": [
    "## Laser"
   ]
  },
  {
   "cell_type": "code",
   "execution_count": null,
   "id": "b0b7bd64747979d6",
   "metadata": {
    "ExecuteTime": {
     "end_time": "",
     "start_time": ""
    }
   },
   "outputs": [],
   "source": [
    "# クラスのimportとインスタンスの作成\n",
    "from model.Temperature.Laser import LaserProfile\n",
    "laser = LaserProfile()"
   ]
  },
  {
   "cell_type": "code",
   "execution_count": null,
   "id": "8b9447b13e8dfc7",
   "metadata": {
    "ExecuteTime": {
     "end_time": "",
     "start_time": ""
    }
   },
   "outputs": [],
   "source": [
    "# 設定したLaserパラメータを取得して確認\n",
    "with open('setting.json', 'r') as file:\n",
    "    setting = json.load(file)\n",
    "\n",
    "laser_params = setting['laser_params']\n",
    "laser_params"
   ]
  },
  {
   "cell_type": "code",
   "execution_count": null,
   "id": "a7242550004b4068",
   "metadata": {
    "ExecuteTime": {
     "end_time": "",
     "start_time": ""
    }
   },
   "outputs": [],
   "source": [
    "# 設定して配列を作成する\n",
    "params_list = list(laser_params.keys())\n",
    "\n",
    "for param in params_list:\n",
    "    exec(f\"laser.{param} = {laser_params[param]}\")\n",
    "    exec(f\"print(laser.{param})\")\n",
    "laser.get_laser_profile_arr()\n",
    "\n",
    "# plotして確認しておく\n",
    "plt.plot(laser.time_arr, laser.power_arr)\n",
    "plt.show()\n",
    "plt.close()"
   ]
  },
  {
   "cell_type": "code",
   "execution_count": null,
   "id": "fc89b5622830daac",
   "metadata": {
    "ExecuteTime": {
     "end_time": "",
     "start_time": ""
    }
   },
   "outputs": [],
   "source": [
    "# hdf5に書き込む\n",
    "laser_layer = 'entry/laser/'\n",
    "\n",
    "with h5py.File(hdf5_path, 'a') as f_append:\n",
    "    f_append.create_dataset(name=laser_layer + 'time_arr', data=laser.time_arr)\n",
    "    f_append.create_dataset(name=laser_layer + 'power_arr', data=laser.power_arr)"
   ]
  },
  {
   "cell_type": "code",
   "execution_count": null,
   "id": "89becd9330e1489b",
   "metadata": {
    "ExecuteTime": {
     "end_time": "",
     "start_time": ""
    }
   },
   "outputs": [],
   "source": [
    "# 確認\n",
    "with h5py.File(hdf5_path, 'r') as f_read:\n",
    "    HDF5(f=f_read).show_all_hierarchy(f=f_read, display_length=80)"
   ]
  },
  {
   "cell_type": "markdown",
   "id": "aaf15635ebb2e121",
   "metadata": {},
   "source": [
    "## dist"
   ]
  },
  {
   "cell_type": "code",
   "execution_count": null,
   "id": "36138a764356f705",
   "metadata": {
    "ExecuteTime": {
     "end_time": "",
     "start_time": ""
    }
   },
   "outputs": [],
   "source": [
    "# クラスのimportとインスタンスの作成\n",
    "from model.Temperature.T_dist import T_dist\n",
    "dist = T_dist(filepath=dist_path)"
   ]
  },
  {
   "cell_type": "code",
   "execution_count": null,
   "id": "d117b327cfea7fbd",
   "metadata": {
    "ExecuteTime": {
     "end_time": "",
     "start_time": ""
    }
   },
   "outputs": [],
   "source": [
    "# 温度データを整形する\n",
    "dist.set_T_data()"
   ]
  },
  {
   "cell_type": "code",
   "execution_count": null,
   "id": "5b42c6727d0d3e7e",
   "metadata": {
    "ExecuteTime": {
     "end_time": "",
     "start_time": ""
    }
   },
   "outputs": [],
   "source": [
    "# plotして確認しておく\n",
    "plt.imshow(dist.temp_df, aspect='auto')\n",
    "plt.show()\n",
    "plt.close()"
   ]
  },
  {
   "cell_type": "code",
   "execution_count": null,
   "id": "d6e7d8d79e94a7c2",
   "metadata": {
    "ExecuteTime": {
     "end_time": "",
     "start_time": ""
    }
   },
   "outputs": [],
   "source": [
    "# hdf5に書き込む\n",
    "dist_layer = 'entry/dist/'\n",
    "\n",
    "with h5py.File(hdf5_path, 'a') as f_append:\n",
    "    f_append.create_dataset(name=dist_layer + 'T_arr', data=dist.temp_df.values)"
   ]
  },
  {
   "cell_type": "code",
   "execution_count": null,
   "id": "892da4263c6717e7",
   "metadata": {
    "ExecuteTime": {
     "end_time": "",
     "start_time": ""
    }
   },
   "outputs": [],
   "source": [
    "# 確認\n",
    "with h5py.File(hdf5_path, 'r') as f_read:\n",
    "    HDF5(f=f_read).show_all_hierarchy(f=f_read, display_length=80)"
   ]
  },
  {
   "cell_type": "markdown",
   "id": "4f42d01fc72e4fbc",
   "metadata": {},
   "source": [
    "## spe"
   ]
  },
  {
   "cell_type": "code",
   "execution_count": null,
   "id": "3c8f4d166cd7669d",
   "metadata": {
    "ExecuteTime": {
     "end_time": "",
     "start_time": ""
    }
   },
   "outputs": [],
   "source": [
    "# クラスのimportとインスタンスの作成\n",
    "from model.Temperature.Spe import SpeFile\n",
    "spe = SpeFile(filepath=spe_path)"
   ]
  },
  {
   "cell_type": "code",
   "execution_count": null,
   "id": "32c946ffe10eefba",
   "metadata": {
    "ExecuteTime": {
     "end_time": "",
     "start_time": ""
    }
   },
   "outputs": [],
   "source": [
    "# あると便利そうな配列を作る\n",
    "spe.time_arr = np.arange(spe.num_frames) / spe.framerate\n",
    "spe.pixel_arr = np.arange(spe.roi_height)"
   ]
  },
  {
   "cell_type": "code",
   "execution_count": null,
   "id": "36c7641eeb580eba",
   "metadata": {
    "ExecuteTime": {
     "end_time": "",
     "start_time": ""
    }
   },
   "outputs": [],
   "source": [
    "# hdf5に書き込む\n",
    "spe_layer = 'entry/spe/'\n",
    "\n",
    "with h5py.File(hdf5_path, 'a') as f_append:\n",
    "    f_append.create_dataset(name=spe_layer + 'filename',         data=spe.filename)\n",
    "    f_append.create_dataset(name=spe_layer + 'frame_num',        data=spe.num_frames)\n",
    "    f_append.create_dataset(name=spe_layer + 'exposure_ms',      data=spe.exposure_time)\n",
    "    f_append.create_dataset(name=spe_layer + 'fps',              data=spe.framerate)\n",
    "    f_append.create_dataset(name=spe_layer + 'OD',               data=spe.OD)\n",
    "    f_append.create_dataset(name=spe_layer + 'date',             data=spe.date)\n",
    "    f_append.create_dataset(name=spe_layer + 'calibration_date', data=spe.calibration_date)\n",
    "    f_append.create_dataset(name=spe_layer + 'img',              data=spe.img)\n",
    "    f_append.create_dataset(name=spe_layer + 'wl_arr',           data=spe.x_calibration)\n",
    "    f_append.create_dataset(name=spe_layer + 'time_arr',         data=spe.time_arr)\n",
    "    f_append.create_dataset(name=spe_layer + 'pixel_arr',        data=spe.time_arr)"
   ]
  },
  {
   "cell_type": "code",
   "execution_count": null,
   "id": "29f479eb45cc1b",
   "metadata": {
    "ExecuteTime": {
     "end_time": "",
     "start_time": ""
    }
   },
   "outputs": [],
   "source": [
    "# 確認\n",
    "with h5py.File(hdf5_path, 'r') as f_read:\n",
    "    HDF5(f=f_read).show_all_hierarchy(f=f_read, display_length=80)"
   ]
  },
  {
   "cell_type": "markdown",
   "id": "962b2855dd578d03",
   "metadata": {},
   "source": [
    "## calib"
   ]
  },
  {
   "cell_type": "code",
   "execution_count": null,
   "id": "4f8fd32f29dcb488",
   "metadata": {
    "ExecuteTime": {
     "end_time": "",
     "start_time": ""
    }
   },
   "outputs": [],
   "source": [
    "# クラスのimportとインスタンスの作成\n",
    "from model.Temperature.T_calib import T_calib\n",
    "calib = T_calib(filepath=calib_path)"
   ]
  },
  {
   "cell_type": "code",
   "execution_count": null,
   "id": "dc6be307ee492e73",
   "metadata": {
    "ExecuteTime": {
     "end_time": "",
     "start_time": ""
    }
   },
   "outputs": [],
   "source": [
    "# スペクトルデータを取得する\n",
    "calib_img = calib.return_calib_img(frame_num=spe.num_frames)"
   ]
  },
  {
   "cell_type": "code",
   "execution_count": null,
   "id": "48e65ca578e6e649",
   "metadata": {
    "ExecuteTime": {
     "end_time": "",
     "start_time": ""
    }
   },
   "outputs": [],
   "source": [
    "# hdf5に書き込む\n",
    "calib_layer = 'entry/calib/'\n",
    "\n",
    "with h5py.File(hdf5_path, 'a') as f_append:\n",
    "    f_append.create_dataset(name=calib_layer + 'spectra', data=calib_img)"
   ]
  },
  {
   "cell_type": "code",
   "execution_count": null,
   "id": "595e627cf252da0c",
   "metadata": {
    "ExecuteTime": {
     "end_time": "",
     "start_time": ""
    }
   },
   "outputs": [],
   "source": [
    "# 確認\n",
    "with h5py.File(hdf5_path, 'r') as f_read:\n",
    "    # HDF5(f=f_read).show_all_hierarchy(f=f_read, display_length=80)\n",
    "    hdf = HDF5(f=f_read)\n",
    "    img = hdf.return_data(data_path='entry/calib/spectra')\n",
    "    img.shape"
   ]
  },
  {
   "cell_type": "code",
   "execution_count": null,
   "id": "ae90b0bce45539ca",
   "metadata": {
    "ExecuteTime": {
     "end_time": "",
     "start_time": ""
    }
   },
   "outputs": [],
   "source": []
  }
 ],
 "metadata": {
  "kernelspec": {
   "display_name": "Python 3",
   "language": "python",
   "name": "python3"
  },
  "language_info": {
   "codemirror_mode": {
    "name": "ipython",
    "version": 2
   },
   "file_extension": ".py",
   "mimetype": "text/x-python",
   "name": "python",
   "nbconvert_exporter": "python",
   "pygments_lexer": "ipython2",
   "version": "2.7.6"
  }
 },
 "nbformat": 4,
 "nbformat_minor": 5
}
