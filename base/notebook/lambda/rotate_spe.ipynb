{
 "cells": [
  {
   "cell_type": "code",
   "execution_count": null,
   "id": "initial_id",
   "metadata": {
    "ExecuteTime": {
     "end_time": "",
     "start_time": ""
    },
    "collapsed": true
   },
   "outputs": [],
   "source": [
    "\n",
    "import os\n",
    "import sys\n",
    "\n",
    "\"\"\"\n",
    "このnotebookがbaseフォルダを読めるようになるための処理\n",
    "\"\"\"\n",
    "\n",
    "root_rel = '../../'\n",
    "\n",
    "# 相対パスを絶対パスに変換してsys.pathに追加\n",
    "root_abs = os.path.abspath(root_rel)\n",
    "if root_abs not in sys.path:\n",
    "    sys.path.append(root_abs)\n",
    "print(root_abs)\n"
   ]
  },
  {
   "cell_type": "code",
   "execution_count": null,
   "id": "496485e412c1b1a6",
   "metadata": {
    "ExecuteTime": {
     "end_time": "",
     "start_time": ""
    }
   },
   "outputs": [],
   "source": [
    "\n",
    "# ライブラリの取り込み\n",
    "import numpy as np\n",
    "import pandas as pd\n",
    "import matplotlib.pyplot as plt\n",
    "import matplotlib.animation as animation\n",
    "\n",
    "from tqdm import tqdm\n",
    "\n",
    "import shutil\n",
    "from scipy.ndimage import rotate\n"
   ]
  },
  {
   "cell_type": "markdown",
   "id": "b22113ddfd4261c0",
   "metadata": {},
   "source": [
    "# Speクラスの読み込み"
   ]
  },
  {
   "cell_type": "code",
   "execution_count": null,
   "id": "59fa5b141d1acd3d",
   "metadata": {
    "ExecuteTime": {
     "end_time": "",
     "start_time": ""
    }
   },
   "outputs": [],
   "source": [
    "\n",
    "from model.Temperature.Spe import SpeFile\n"
   ]
  },
  {
   "cell_type": "code",
   "execution_count": null,
   "id": "ff5ee1b97d32de9c",
   "metadata": {
    "ExecuteTime": {
     "end_time": "",
     "start_time": ""
    }
   },
   "outputs": [],
   "source": [
    "# spe_movieの作成メソッド\n",
    "# NOTE ffmpegが必要です(多分) それ関連のエラーが出たら誰かに聞いてください\n",
    "def make_spe_movie(spe: SpeFile, save_folder: str):\n",
    "    save_mp4_path = os.path.join(save_folder, f\"img_{spe.basename}{spe.filenum}.mp4\")\n",
    "    time_arr = np.arange(spe.num_frames) / spe.framerate\n",
    "    time_arr = np.round(time_arr, 2) # 小数点2桁まで拾う\n",
    "    \n",
    "    if not os.path.exists(save_mp4_path):\n",
    "        os.makedirs(os.path.dirname(save_mp4_path), exist_ok=True) # 自動的にフォルダを作るので注意\n",
    "        fig, ax = plt.subplots(dpi=300)\n",
    "        ax.set_xlabel('Pixel (correspond to Wavelength)')\n",
    "        ax.set_ylabel('Pixel (correspond to Position)')\n",
    "        vmax = spe.img.max() # 全体強度の最大値を保存しておく\n",
    "        \n",
    "        ims = []\n",
    "        for i in tqdm(range(spe.num_frames)):\n",
    "            data = pd.DataFrame(spe.img[i])\n",
    "            title = ax.text(x=0.5, y=1.02,\n",
    "                            s=f\"{spe.basename}{spe.filenum} / {spe.OD}\\nTime = {time_arr[i]:6.2f} s / Frame = {i: >4}\",\n",
    "                            ha='center',\n",
    "                            va='bottom',\n",
    "                            transform=ax.transAxes,\n",
    "                            fontsize='large')\n",
    "            img_plot = ax.imshow(data, animated=True, vmin=0, vmax=vmax, cmap='jet')\n",
    "            if i == 0:\n",
    "                fig.colorbar(img_plot, ax=ax, label='Intensity (a.u.)')\n",
    "            ims.append([img_plot, title])\n",
    "        print(\"for finish\")\n",
    "        ani = animation.ArtistAnimation(fig, ims, interval=100, blit=True)\n",
    "        print(\"ani finish\")\n",
    "        writer = animation.FFMpegWriter(fps=10)\n",
    "        ani.save(save_mp4_path, writer=writer)\n",
    "        del ani\n",
    "        print(\"save finish\")\n",
    "        print(f\"保存先: {save_mp4_path}\")\n",
    "    else:\n",
    "        print(f\"すでに\\n\\t{save_mp4_path}\\nに作成済み\")\n"
   ]
  },
  {
   "cell_type": "markdown",
   "id": "dbf8587af0e0d427",
   "metadata": {},
   "source": [
    "# ファイルpathの設定"
   ]
  },
  {
   "cell_type": "markdown",
   "id": "6e7c4ef5325679ca",
   "metadata": {},
   "source": [
    "## フォルダに入れたものを一括で回転させる時"
   ]
  },
  {
   "cell_type": "code",
   "execution_count": null,
   "id": "af38324d30d11599",
   "metadata": {
    "ExecuteTime": {
     "end_time": "",
     "start_time": ""
    }
   },
   "outputs": [],
   "source": [
    "\"\"\"\n",
    "複数のファイルを同じ角度で一括で回転させる時\n",
    "\"\"\"\n",
    "# オリジナル\n",
    "before_folder = \"/Volumes/T7 Touch/data/rotated_spe/before/\"\n",
    "\n",
    "# 回転したあとを保存する\n",
    "after_folder = \"/Volumes/T7 Touch/data/rotated_spe/after/\"\n",
    "\n",
    "# spe_movieの保存先\n",
    "movie_folder = \"/Volumes/T7 Touch/data/rotated_spe/spe_movie/\""
   ]
  },
  {
   "cell_type": "code",
   "execution_count": null,
   "id": "dd1fb7fc7a681764",
   "metadata": {
    "ExecuteTime": {
     "end_time": "",
     "start_time": ""
    }
   },
   "outputs": [],
   "source": [
    "print(\"Before folder: \", before_folder)\n",
    "before_files = os.listdir(before_folder)\n",
    "\n",
    "for i, file in enumerate(before_files):\n",
    "    print(f\"{i+1}: {file}\")"
   ]
  },
  {
   "cell_type": "code",
   "execution_count": null,
   "id": "a480a7c8f149fd04",
   "metadata": {
    "ExecuteTime": {
     "end_time": "",
     "start_time": ""
    }
   },
   "outputs": [],
   "source": [
    "# ファイルへのアクセス方法\n",
    "os.path.join(before_folder, before_files[0])"
   ]
  },
  {
   "cell_type": "markdown",
   "id": "f88a4894c5f17be8",
   "metadata": {},
   "source": [
    "# ファイルをコピーする"
   ]
  },
  {
   "cell_type": "code",
   "execution_count": null,
   "id": "add23d2f2e6bfdf5",
   "metadata": {
    "ExecuteTime": {
     "end_time": "",
     "start_time": ""
    }
   },
   "outputs": [],
   "source": [
    "before_spe_list = []\n",
    "\n",
    "for files in before_files:\n",
    "    spe_path = os.path.join(before_folder, files)\n",
    "    before_spe_list.append(SpeFile(filepath=spe_path))"
   ]
  },
  {
   "cell_type": "code",
   "execution_count": null,
   "id": "2100f5a542492eff",
   "metadata": {
    "ExecuteTime": {
     "end_time": "",
     "start_time": ""
    }
   },
   "outputs": [],
   "source": [
    "before_spe_list"
   ]
  },
  {
   "cell_type": "code",
   "execution_count": null,
   "id": "8f3bfa01d69209f2",
   "metadata": {
    "ExecuteTime": {
     "end_time": "",
     "start_time": ""
    }
   },
   "outputs": [],
   "source": [
    "# 保存先path\n",
    "spe = before_spe_list[0]\n",
    "os.path.join(after_folder, spe.OD, f\"rotated_{spe.basename + str(spe.filenum)}.spe\")"
   ]
  },
  {
   "cell_type": "code",
   "execution_count": null,
   "id": "4c689dd2ad22704e",
   "metadata": {
    "ExecuteTime": {
     "end_time": "",
     "start_time": ""
    }
   },
   "outputs": [],
   "source": [
    "copied_spe_list = []\n",
    "\n",
    "# WARNING このセルを実行すると、オリジナルで再度初期化されます。回転したあとは注意!\n",
    "\n",
    "for i, spe in enumerate(before_spe_list):\n",
    "    # speはオリジナルから作成されたSpeFileオブジェクト\n",
    "    print(f\"{i+1}: {spe}\")\n",
    "    after_path = os.path.join(after_folder, spe.OD, f\"rotated_{spe.basename + str(spe.filenum)}.spe\")\n",
    "    os.makedirs(os.path.dirname(after_path), exist_ok=True) # 自動的にフォルダを作るので注意\n",
    "\n",
    "    shutil.copyfile(src=spe.filename, dst=after_path)\n",
    "    copied_spe_list.append(SpeFile(filepath=after_path)) # SpeFileオブジェクトにしておく"
   ]
  },
  {
   "cell_type": "code",
   "execution_count": null,
   "id": "2cfac424cfca9fd4",
   "metadata": {
    "ExecuteTime": {
     "end_time": "",
     "start_time": ""
    }
   },
   "outputs": [],
   "source": [
    "# コピーされた後のファイル名を見て確認しておく\n"
   ]
  },
  {
   "cell_type": "code",
   "execution_count": null,
   "id": "6170376518951b59",
   "metadata": {
    "ExecuteTime": {
     "end_time": "",
     "start_time": ""
    }
   },
   "outputs": [],
   "source": [
    "# オリジナルでspe movieを作っておく\n",
    "# ffmpeg関連でエラー出たらコメントアウトしてください。回転後でもmovie作るセルがあるのでそちらもコメントアウトしてください。\n",
    "# 参考: 石澤PCで11個movieを作ろうとしたら 25min 45sec かかった\n",
    "# for i, spe in enumerate(before_spe_list):\n",
    "#     print(f\"\\n{i+1}: {spe.filename}\")\n",
    "#     make_spe_movie(spe,\n",
    "#                    save_folder = os.path.join(movie_folder, 'before'))"
   ]
  },
  {
   "cell_type": "markdown",
   "id": "e9d8fac752710ef7",
   "metadata": {},
   "source": [
    "# 回転角度を設定する"
   ]
  },
  {
   "cell_type": "code",
   "execution_count": null,
   "id": "7a1f80d71454bbbf",
   "metadata": {
    "ExecuteTime": {
     "end_time": "",
     "start_time": ""
    }
   },
   "outputs": [],
   "source": [
    "rotate_deg = 0.5"
   ]
  },
  {
   "cell_type": "code",
   "execution_count": null,
   "id": "496c239439c76c1b",
   "metadata": {
    "ExecuteTime": {
     "end_time": "",
     "start_time": ""
    }
   },
   "outputs": [],
   "source": [
    "# 関数定義\n",
    "def rotate_spe(before_spe: SpeFile,\n",
    "               copied_spe: SpeFile,\n",
    "               rotate_deg: float):\n",
    "    spe_file_id = open(copied_spe.filename, \"r+b\")\n",
    "    # FIXME これは岡崎がSpeFileに実装してくれたのであとで消す。\n",
    "    data_type_dict = {\n",
    "        0: np.float32,\n",
    "        1: np.int32,\n",
    "        2: np.int16,\n",
    "        3: np.uint16,\n",
    "        8: np.uint32\n",
    "    }\n",
    "    img_type = data_type_dict[before_spe._data_type]\n",
    "    \n",
    "    xdim = np.int64(_read_at(spe_file_id, pos=42, size=1, ntype=np.int16))[0]\n",
    "    ydim = np.int64(_read_at(spe_file_id, pos=656, size=1, ntype=np.int16))[0]\n",
    "    img_size = xdim * ydim\n",
    "    num_frames = _read_at(spe_file_id, pos=1446, size=1, ntype=np.int32)[0]\n",
    "    \n",
    "    # saturation_flag = False # これも保存した方が良いんだろうなと思うが、重要性は低い\n",
    "    \n",
    "    # 書き換える位置にシークし、imgデータを書き込む\n",
    "    pos = 4100 # 1個目の位置\n",
    "    for i in tqdm(range(num_frames)):\n",
    "        spe_file_id.seek(pos)\n",
    "        if before_spe.img[i].max() < 65_000: # サチってなければ回転。閾値が65535でないのはそういう時があるから。この数字はなんとなく\n",
    "            new_img = rotate(before_spe.img[i], rotate_deg, reshape=False) # 回転\n",
    "            new_img = new_img.reshape(img_size, 1) # 2次元データを1次元に\n",
    "            new_img = new_img.astype(dtype=img_type)\n",
    "        else: # サチってれば0にする\n",
    "            # saturation_flag = True # これも保存した方が良いんだろうなと思うが、重要性は低い\n",
    "            new_img = np.zeros(before_spe.img[i].shape, dtype=img_type)\n",
    "        spe_file_id.write(new_img.tobytes()) # バイナリ書き込み\n",
    "        pos = spe_file_id.tell() # 書き込み終了したところのposに更新する\n",
    "    \n",
    "    spe_file_id.close()\n",
    "\n",
    "def _read_at(file_id, pos, size, ntype):\n",
    "    pos = int(pos)\n",
    "    size = int(size)\n",
    "    file_id.seek(pos)\n",
    "    return np.fromfile(file_id, ntype, size)\n"
   ]
  },
  {
   "cell_type": "code",
   "execution_count": null,
   "id": "7e6defee99cb4aa9",
   "metadata": {
    "ExecuteTime": {
     "end_time": "",
     "start_time": ""
    }
   },
   "outputs": [],
   "source": [
    "# 確認\n",
    "# ここで確認してることはコピーした時に確認するべきことではある気がする\n",
    "\n",
    "def get_file_name(spe: SpeFile): # これSpeFileクラスにないっけ？ありそう\n",
    "    return spe.basename + str(spe.filenum)\n",
    "\n",
    "# 数が等しいことを確認\n",
    "assert len(before_spe_list) == len(copied_spe_list)\n",
    "\n",
    "# それぞれのファイル名が等しいことを確認\n",
    "for i in range(len(before_spe_list)):\n",
    "    assert get_file_name(before_spe_list[i]) == get_file_name(copied_spe_list[i])\n",
    "\n",
    "print(\"OK\")"
   ]
  },
  {
   "cell_type": "code",
   "execution_count": null,
   "id": "434293c22aa5f5d1",
   "metadata": {
    "ExecuteTime": {
     "end_time": "",
     "start_time": ""
    }
   },
   "outputs": [],
   "source": [
    "# 回転させる\n",
    "for i in range(len(copied_spe_list)):\n",
    "    rotate_spe(before_spe_list[i], copied_spe_list[i], rotate_deg)"
   ]
  },
  {
   "cell_type": "code",
   "execution_count": null,
   "id": "27bfbe13c919d1b6",
   "metadata": {
    "ExecuteTime": {
     "end_time": "",
     "start_time": ""
    }
   },
   "outputs": [],
   "source": [
    "# ここでコピーしたspeファイルをもう一度インスタンス化して確認する\n",
    "after_spe_list = []\n",
    "\n",
    "for files in copied_spe_list: # コピーした時に作ったインスタンスを参照\n",
    "    after_spe_list.append(SpeFile(filepath=files.filename))"
   ]
  },
  {
   "cell_type": "code",
   "execution_count": null,
   "id": "5108dc37e10f1b19",
   "metadata": {
    "ExecuteTime": {
     "end_time": "",
     "start_time": ""
    }
   },
   "outputs": [],
   "source": [
    "# imshowして確認\n",
    "\"\"\"\n",
    "・適切に回転 -> ロンギヌスの槍みたいになる\n",
    "・サチ      -> 片方サチって回転後は0埋めしているので確認できない。frame変える\n",
    "・0        -> 温度が低すぎて測温できてない。frame変える\n",
    "\"\"\"\n",
    "frame = -50 # 最後から50 frame\n",
    "\n",
    "for i in range(len(before_spe_list)):\n",
    "    fig  = plt.figure()\n",
    "    plt.imshow(before_spe_list[i].img[frame] - after_spe_list[i].img[frame])\n",
    "    plt.colorbar()\n",
    "    plt.suptitle(get_file_name(before_spe_list[i]))"
   ]
  },
  {
   "cell_type": "code",
   "execution_count": null,
   "id": "9112f56da70482e4",
   "metadata": {
    "ExecuteTime": {
     "end_time": "",
     "start_time": ""
    }
   },
   "outputs": [],
   "source": [
    "# 回転後でspe movieを作っておく\n",
    "# 参考: 石澤PCで11個movieを作ろうとしたら 25min 45sec かかった\n",
    "# for i, spe in enumerate(after_spe_list):\n",
    "#     print(f\"\\n{i+1}: {spe.filename}\")\n",
    "#     make_spe_movie(spe,\n",
    "#                    save_folder = os.path.join(movie_folder, 'before'))\n"
   ]
  },
  {
   "cell_type": "code",
   "execution_count": null,
   "id": "7205bdf105de6030",
   "metadata": {},
   "outputs": [],
   "source": []
  }
 ],
 "metadata": {
  "kernelspec": {
   "display_name": "Python 3",
   "language": "python",
   "name": "python3"
  },
  "language_info": {
   "codemirror_mode": {
    "name": "ipython",
    "version": 2
   },
   "file_extension": ".py",
   "mimetype": "text/x-python",
   "name": "python",
   "nbconvert_exporter": "python",
   "pygments_lexer": "ipython2",
   "version": "2.7.6"
  }
 },
 "nbformat": 4,
 "nbformat_minor": 5
}
