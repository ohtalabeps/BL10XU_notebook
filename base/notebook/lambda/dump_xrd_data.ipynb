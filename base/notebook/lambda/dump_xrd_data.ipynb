{
 "cells": [
  {
   "cell_type": "markdown",
   "id": "1c1afd7753a6c18a",
   "metadata": {},
   "source": [
    "# 共通処理"
   ]
  },
  {
   "cell_type": "code",
   "execution_count": null,
   "id": "initial_id",
   "metadata": {
    "ExecuteTime": {
     "end_time": "",
     "start_time": ""
    }
   },
   "outputs": [],
   "source": [
    "import os\n",
    "import sys\n",
    "\n",
    "import h5py\n",
    "\n",
    "\"\"\"\n",
    "このnotebookがbaseフォルダを読めるようになるための処理\n",
    "\"\"\"\n",
    "\n",
    "root_rel = '../../'\n",
    "\n",
    "# 相対パスを絶対パスに変換してsys.pathに追加\n",
    "root_abs = os.path.abspath(root_rel)\n",
    "if root_abs not in sys.path:\n",
    "    sys.path.append(root_abs)\n",
    "print(root_abs)\n"
   ]
  },
  {
   "cell_type": "code",
   "execution_count": null,
   "id": "ae158ddd386e66db",
   "metadata": {
    "ExecuteTime": {
     "end_time": "",
     "start_time": ""
    }
   },
   "outputs": [],
   "source": [
    "import json\n",
    "\n",
    "try:\n",
    "    with open('setting.json', 'r') as file:\n",
    "        setting = json.load(file)\n",
    "except FileNotFoundError:\n",
    "    print(\"先にset_run.ipynbで解析runを設定してください\")\n",
    "\n",
    "hdf5_path = setting['hdf5_path']\n",
    "hdf5_path"
   ]
  },
  {
   "cell_type": "code",
   "execution_count": null,
   "id": "84ce478e3000306d",
   "metadata": {
    "ExecuteTime": {
     "end_time": "",
     "start_time": ""
    }
   },
   "outputs": [],
   "source": [
    "from model.File.HDF5 import HDF5"
   ]
  },
  {
   "cell_type": "code",
   "execution_count": null,
   "id": "e724adddd8c0218d",
   "metadata": {
    "ExecuteTime": {
     "end_time": "",
     "start_time": ""
    }
   },
   "outputs": [],
   "source": [
    "import numpy as np\n",
    "import matplotlib.pyplot as plt\n",
    "from tqdm import tqdm\n",
    "import time"
   ]
  },
  {
   "cell_type": "markdown",
   "id": "17c67a92c276edc8",
   "metadata": {},
   "source": [
    "# データを取り出す準備"
   ]
  },
  {
   "cell_type": "code",
   "execution_count": null,
   "id": "f98cd420a154703f",
   "metadata": {
    "ExecuteTime": {
     "end_time": "",
     "start_time": ""
    }
   },
   "outputs": [],
   "source": [
    "# hdf5内のpath\n",
    "with h5py.File(hdf5_path, 'r') as f_read:\n",
    "    hdf = HDF5(f=f_read)\n",
    "    to_nxs = hdf.search_data_path(query='nxs_path')\n",
    "    to_poni = hdf.search_data_path(query='poni_path')\n",
    "    to_mask = hdf.search_data_path(query='mask_path')"
   ]
  },
  {
   "cell_type": "code",
   "execution_count": null,
   "id": "e3c1ce3e2b7a5e74",
   "metadata": {
    "ExecuteTime": {
     "end_time": "",
     "start_time": ""
    }
   },
   "outputs": [],
   "source": [
    "# ファイルのpathを取得する\n",
    "with h5py.File(hdf5_path, 'r') as f_read:\n",
    "    hdf = HDF5(f=f_read)\n",
    "    nxs_path = hdf.return_data(data_path=to_nxs)\n",
    "    poni_path = hdf.return_data(data_path=to_poni)\n",
    "    mask_path = hdf.return_data(data_path=to_mask)"
   ]
  },
  {
   "cell_type": "code",
   "execution_count": null,
   "id": "14edc1c085e47984",
   "metadata": {
    "ExecuteTime": {
     "end_time": "",
     "start_time": ""
    }
   },
   "outputs": [],
   "source": [
    "# nxsファイルとponiファイルを読み込む\n",
    "from model.XRD.Nxs import NxsFile\n",
    "nxs = NxsFile(nxs_path=nxs_path, poni_path=poni_path, mask_path=mask_path)"
   ]
  },
  {
   "cell_type": "markdown",
   "id": "db9cb9caa278b9f1",
   "metadata": {},
   "source": [
    "# データを取り出す"
   ]
  },
  {
   "cell_type": "code",
   "execution_count": null,
   "id": "dd97fb794c50d2a",
   "metadata": {
    "ExecuteTime": {
     "end_time": "",
     "start_time": ""
    }
   },
   "outputs": [],
   "source": [
    "# nxsファイルを開く\n",
    "nxs.read_file()"
   ]
  },
  {
   "cell_type": "code",
   "execution_count": null,
   "id": "fffbf65a41e3994c",
   "metadata": {
    "ExecuteTime": {
     "end_time": "",
     "start_time": ""
    }
   },
   "outputs": [],
   "source": [
    "# hdfとしても開く\n",
    "hdf_nxs = HDF5(f = h5py.File(nxs_path, 'r'))"
   ]
  },
  {
   "cell_type": "code",
   "execution_count": null,
   "id": "aa387cf20f93ec9",
   "metadata": {
    "ExecuteTime": {
     "end_time": "",
     "start_time": ""
    }
   },
   "outputs": [],
   "source": [
    "# 格納するときのlayerを作っておく\n",
    "nxs_layer = 'entry/nxs/'"
   ]
  },
  {
   "cell_type": "markdown",
   "id": "b2baa77271b6cd6b",
   "metadata": {},
   "source": [
    "## 直接取り出す"
   ]
  },
  {
   "cell_type": "code",
   "execution_count": null,
   "id": "ecdb42113eaf2784",
   "metadata": {
    "ExecuteTime": {
     "end_time": "",
     "start_time": ""
    }
   },
   "outputs": [],
   "source": [
    "# nxsから直接取り出す変数\n",
    "nxs_var = [\n",
    "    'file_name',\n",
    "    'frame_num',\n",
    "    'count_time',\n",
    "    'data',\n",
    "    'saturation_value',\n",
    "    'x_pixel_size',\n",
    "    'y_pixel_size'\n",
    "]"
   ]
  },
  {
   "cell_type": "code",
   "execution_count": null,
   "id": "da744409dfbb895d",
   "metadata": {
    "ExecuteTime": {
     "end_time": "",
     "start_time": ""
    }
   },
   "outputs": [],
   "source": [
    "# まずデータまでのpath\n",
    "for var in nxs_var:\n",
    "    exec(f\"to_{var} = hdf_nxs.search_data_path(query=\\\"{var}\\\")\") # to_~という変数でpathを取り出す"
   ]
  },
  {
   "cell_type": "code",
   "execution_count": null,
   "id": "d5d9f49a9801701c",
   "metadata": {
    "ExecuteTime": {
     "end_time": "",
     "start_time": ""
    }
   },
   "outputs": [],
   "source": [
    "# データを取り出す\n",
    "for var in nxs_var:\n",
    "    exec(f\"{var} = hdf_nxs.return_data(data_path=to_{var})\")\n",
    "    exec(f\"if type({var}[0]) == bytes:\\n\" + \n",
    "         f\"\\t{var} = {var}[0].decode('utf8')\\n\" + \n",
    "         f\"elif {var}.shape == (1,):\\n\" +\n",
    "         f\"\\t{var} = {var}[0]\\n\" +\n",
    "         f\"else:\\n\" + \n",
    "         f\"\\tpass\")"
   ]
  },
  {
   "cell_type": "code",
   "execution_count": null,
   "id": "da5a0b8dbaffea02",
   "metadata": {
    "ExecuteTime": {
     "end_time": "",
     "start_time": ""
    }
   },
   "outputs": [],
   "source": [
    "# 一応テスト\n",
    "assert file_name.endswith('00000')\n",
    "assert type(frame_num) == np.int32\n",
    "assert type(count_time) == np.float64\n",
    "assert type(data) == np.ndarray\n",
    "assert type(saturation_value) == np.uint32\n",
    "assert type(x_pixel_size) == np.float64\n",
    "assert type(y_pixel_size) == np.float64\n",
    "\n",
    "print(\"OK\")"
   ]
  },
  {
   "cell_type": "code",
   "execution_count": null,
   "id": "a2cd33f02d19f2a8",
   "metadata": {
    "ExecuteTime": {
     "end_time": "",
     "start_time": ""
    }
   },
   "outputs": [],
   "source": [
    "# 一旦書き込む\n",
    "with h5py.File(hdf5_path, 'a') as f_append:\n",
    "    for var in nxs_var:\n",
    "        exec(f\"layer = nxs_layer + \\\"{var}\\\"\")\n",
    "        if var == 'data':        \n",
    "            # exec(f\"f_append.create_dataset(name=layer, data={var}, compression='gzip')\") # データを節約したい場合はこちらを使う\n",
    "            exec(f\"f_append.create_dataset(name=layer, data={var})\")\n",
    "        else:\n",
    "            exec(f\"f_append.create_dataset(name=layer, data={var})\")"
   ]
  },
  {
   "cell_type": "code",
   "execution_count": null,
   "id": "6cd33734f4040580",
   "metadata": {
    "ExecuteTime": {
     "end_time": "",
     "start_time": ""
    }
   },
   "outputs": [],
   "source": [
    "# 確認\n",
    "with h5py.File(hdf5_path, 'r') as f_read:\n",
    "    HDF5(f=f_read).show_all_hierarchy(f=f_read, display_length=80)"
   ]
  },
  {
   "cell_type": "markdown",
   "id": "7361f425dfecf95d",
   "metadata": {},
   "source": [
    "## 計算が必要なデータを作る"
   ]
  },
  {
   "cell_type": "code",
   "execution_count": null,
   "id": "1ad8e6dec9026b11",
   "metadata": {
    "ExecuteTime": {
     "end_time": "",
     "start_time": ""
    }
   },
   "outputs": [],
   "source": [
    "# 加工して格納する変数\n",
    "integrate_var = [\n",
    "    'exposure_ms',\n",
    "    'fps',\n",
    "    'x_shape',\n",
    "    'y_shape',\n",
    "    'I',\n",
    "    'cake'\n",
    "]"
   ]
  },
  {
   "cell_type": "code",
   "execution_count": null,
   "id": "bca13be4c80e908e",
   "metadata": {
    "ExecuteTime": {
     "end_time": "",
     "start_time": ""
    }
   },
   "outputs": [],
   "source": [
    "# 簡単な加工\n",
    "exposure_ms = count_time / 1_000\n",
    "print(f\"{exposure_ms = }\")\n",
    "\n",
    "fps = 1 / exposure_ms\n",
    "print(f\"{fps = }\")\n",
    "\n",
    "x_shape = data.shape[1]\n",
    "print(f\"{x_shape = }\")\n",
    "\n",
    "y_shape = data.shape[2]\n",
    "print(f\"{y_shape = }\")\n",
    "\n",
    "del data\n",
    "time.sleep(3)"
   ]
  },
  {
   "cell_type": "code",
   "execution_count": null,
   "id": "87e291035f3fb788",
   "metadata": {
    "ExecuteTime": {
     "end_time": "",
     "start_time": ""
    }
   },
   "outputs": [],
   "source": [
    "# 一旦書き込む\n",
    "with h5py.File(hdf5_path, 'a') as f_append:\n",
    "    for var in integrate_var[:4]:\n",
    "        exec(f\"layer = nxs_layer + \\\"{var}\\\"\")\n",
    "        exec(f\"f_append.create_dataset(name=layer, data={var})\")\n",
    "# 確認\n",
    "with h5py.File(hdf5_path, 'r') as f_read:\n",
    "    HDF5(f=f_read).show_all_hierarchy(f=f_read, display_length=80)"
   ]
  },
  {
   "cell_type": "code",
   "execution_count": null,
   "id": "dac2a8b4dc17416",
   "metadata": {
    "ExecuteTime": {
     "end_time": "",
     "start_time": ""
    }
   },
   "outputs": [],
   "source": [
    "# 重たい加工\n",
    "npt_rad = 2000\n",
    "npt_azim = 360"
   ]
  },
  {
   "cell_type": "code",
   "execution_count": null,
   "id": "3f2be9261c7fa558",
   "metadata": {
    "ExecuteTime": {
     "end_time": "",
     "start_time": ""
    }
   },
   "outputs": [],
   "source": [
    "# 重たい加工 1: 1d_pattern\n",
    "# 書き込んで消すまでやる\n",
    "\n",
    "I = np.zeros((frame_num, npt_rad))\n",
    "\n",
    "with h5py.File(hdf5_path, 'r') as f_read:\n",
    "    hdf = HDF5(f=f_read)\n",
    "    to_data = hdf.search_data_path(query='nxs/data')\n",
    "    \n",
    "    # 積算する\n",
    "    for frame in tqdm(range(frame_num)):\n",
    "        data_tmp = hdf.return_data(data_path=to_data, shape=[frame])\n",
    "        tth, I_tmp = nxs.ai.integrate1d(data=data_tmp,\n",
    "                                        npt=npt_rad,\n",
    "                                        unit=\"2th_deg\",\n",
    "                                        mask=nxs.mask)\n",
    "        I[frame] = I_tmp\n",
    "\n",
    "# 書き込み\n",
    "with h5py.File(hdf5_path, 'a') as f_append:\n",
    "    layer = nxs_layer + 'I'\n",
    "    # f_append.create_dataset(name=layer, data=I, compression='gzip') # データを節約したい場合はこちらを使う\n",
    "    f_append.create_dataset(name=layer, data=I)\n",
    "    layer = nxs_layer + 'tth'\n",
    "    f_append.create_dataset(name=layer, data=tth)\n",
    "\n",
    "# 確認\n",
    "with h5py.File(hdf5_path, 'r') as f_read:\n",
    "    HDF5(f=f_read).show_all_hierarchy(f=f_read, display_length=80)\n",
    "\n",
    "time.sleep(3)\n",
    "del I\n",
    "time.sleep(3)\n"
   ]
  },
  {
   "cell_type": "code",
   "execution_count": null,
   "id": "b5a0e90470092599",
   "metadata": {
    "ExecuteTime": {
     "end_time": "",
     "start_time": ""
    }
   },
   "outputs": [],
   "source": [
    "# plt.imshow(I, aspect='auto') # 確認したい場合"
   ]
  },
  {
   "cell_type": "code",
   "execution_count": null,
   "id": "b613c973c413cd3b",
   "metadata": {
    "ExecuteTime": {
     "end_time": "",
     "start_time": ""
    }
   },
   "outputs": [],
   "source": [
    "# 重たい加工 2: caking\n",
    "# 書き込んで消すまでやる\n",
    "\n",
    "cake = np.zeros((frame_num, npt_azim, npt_rad))\n",
    "\n",
    "with h5py.File(hdf5_path, 'r') as f_read:\n",
    "    hdf = HDF5(f=f_read)\n",
    "    to_data = hdf.search_data_path(query='nxs/data')\n",
    "\n",
    "    # cakingする\n",
    "    for frame in tqdm(range(frame_num)):\n",
    "        data_tmp = hdf.return_data(data_path=to_data, shape=[frame])\n",
    "        cake_tmp, tth, azi = nxs.ai.integrate2d(data=data_tmp,\n",
    "                                                npt_rad=npt_rad,\n",
    "                                                npt_azim=npt_azim,\n",
    "                                                unit=\"2th_deg\",\n",
    "                                                mask=nxs.mask)\n",
    "        cake[frame] = cake_tmp\n",
    "\n",
    "time.sleep(3)\n",
    "# 書き込み\n",
    "print(\"書き込み開始\")\n",
    "with h5py.File(hdf5_path, 'a') as f_append:\n",
    "    layer = nxs_layer + 'cake'\n",
    "    # f_append.create_dataset(name=layer, data=cake, compression='gzip') # 保存のデータ容量を節約したい場合はこちらを使う\n",
    "    f_append.create_dataset(name=layer, data=cake)\n",
    "    layer = nxs_layer + 'azi'\n",
    "    f_append.create_dataset(name=layer, data=azi)\n",
    "print(\"書き込み終了\")\n",
    "\n",
    "time.sleep(3)\n",
    "# 確認\n",
    "with h5py.File(hdf5_path, 'r') as f_read:\n",
    "    HDF5(f=f_read).show_all_hierarchy(f=f_read, display_length=80)\n",
    "\n",
    "time.sleep(3)\n",
    "del cake\n"
   ]
  },
  {
   "cell_type": "markdown",
   "id": "d016ae4685107c7a",
   "metadata": {},
   "source": [
    "# ファイルを閉じる"
   ]
  },
  {
   "cell_type": "code",
   "execution_count": null,
   "id": "267787592de20098",
   "metadata": {
    "ExecuteTime": {
     "end_time": "",
     "start_time": ""
    }
   },
   "outputs": [],
   "source": [
    "want_to_close = False\n",
    "if want_to_close:\n",
    "    f.close()"
   ]
  }
 ],
 "metadata": {
  "kernelspec": {
   "display_name": "Python 3",
   "language": "python",
   "name": "python3"
  },
  "language_info": {
   "codemirror_mode": {
    "name": "ipython",
    "version": 2
   },
   "file_extension": ".py",
   "mimetype": "text/x-python",
   "name": "python",
   "nbconvert_exporter": "python",
   "pygments_lexer": "ipython2",
   "version": "2.7.6"
  }
 },
 "nbformat": 4,
 "nbformat_minor": 5
}
