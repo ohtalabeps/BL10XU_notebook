{
 "cells": [
  {
   "cell_type": "markdown",
   "id": "bab0f4b9faa10492",
   "metadata": {},
   "source": [
    "# 共通処理"
   ]
  },
  {
   "cell_type": "code",
   "execution_count": null,
   "id": "ac12a16dc28bccf9",
   "metadata": {
    "ExecuteTime": {
     "end_time": "",
     "start_time": ""
    }
   },
   "outputs": [],
   "source": [
    "import os\n",
    "import sys\n",
    "\n",
    "import h5py\n",
    "\n",
    "\"\"\"\n",
    "このnotebookがbaseフォルダを読めるようになるための処理\n",
    "\"\"\"\n",
    "\n",
    "root_rel = '../../'\n",
    "\n",
    "# 相対パスを絶対パスに変換してsys.pathに追加\n",
    "root_abs = os.path.abspath(root_rel)\n",
    "if root_abs not in sys.path:\n",
    "    sys.path.append(root_abs)\n",
    "print(root_abs)\n"
   ]
  },
  {
   "cell_type": "code",
   "execution_count": null,
   "id": "f3a572171f83b16",
   "metadata": {
    "ExecuteTime": {
     "end_time": "",
     "start_time": ""
    }
   },
   "outputs": [],
   "source": [
    "import json\n",
    "\n",
    "try:\n",
    "    with open('setting.json', 'r') as file:\n",
    "        setting = json.load(file)\n",
    "except FileNotFoundError:\n",
    "    print(\"先にset_run.ipynbで解析runを設定してください\")\n",
    "\n",
    "hdf5_path = setting['hdf5_path']\n",
    "hdf5_path\n",
    "\n",
    "run_name = hdf5_path.split('/')[-1].split('.')[0]\n",
    "\n",
    "hdf5_path, run_name"
   ]
  },
  {
   "cell_type": "code",
   "execution_count": null,
   "id": "751072aa89214490",
   "metadata": {
    "ExecuteTime": {
     "end_time": "",
     "start_time": ""
    }
   },
   "outputs": [],
   "source": [
    "from model.File.HDF5 import HDF5\n",
    "\n",
    "import numpy as np\n",
    "import matplotlib.pyplot as plt\n",
    "import pandas as pd\n",
    "from tqdm import tqdm"
   ]
  },
  {
   "cell_type": "code",
   "execution_count": null,
   "id": "d242d5e97c7aa118",
   "metadata": {
    "ExecuteTime": {
     "end_time": "",
     "start_time": ""
    }
   },
   "outputs": [],
   "source": [
    "plt.rcParams['font.family'] = 'Arial'\n",
    "plt.rcParams['mathtext.fontset'] = 'cm'     #数式用のフォントejavuserif\" or \"cm\"\n",
    "plt.rcParams['xtick.direction'] = 'in'      #x軸の目盛線 #内in')か外向き('out')か双方向か('inout')\n",
    "plt.rcParams['ytick.direction'] = 'in'      #y軸の目盛線 #内in')か外向き('out')か双方向か('inout')\n",
    "plt.rcParams['xtick.major.width'] = 1.0     #x軸主目盛り線の線幅\n",
    "plt.rcParams['ytick.major.width'] = 1.0     #y軸主目盛り線の線幅\n",
    "plt.rcParams['font.size'] = 18               #フォントの大きさ\n",
    "plt.rcParams['axes.linewidth'] = 0.8        #軸の線幅edge linewidth。囲みの太さ\n",
    "plt.rcParams['figure.dpi'] = 300\n",
    "plt.rcParams['figure.figsize'] = (8, 6)\n"
   ]
  },
  {
   "cell_type": "code",
   "execution_count": null,
   "id": "a603fc8ca2413cfc",
   "metadata": {},
   "outputs": [],
   "source": [
    "# hdf5内のlayer pathを取得する\n",
    "with h5py.File(hdf5_path, 'r') as f_read:\n",
    "    hdf = HDF5(f=f_read)"
   ]
  },
  {
   "cell_type": "code",
   "execution_count": null,
   "id": "934701ebcd43ade4",
   "metadata": {
    "ExecuteTime": {
     "end_time": "",
     "start_time": ""
    }
   },
   "outputs": [],
   "source": [
    "def return_hdf5_data(hdf5_path: str, *, query: str, shape=None):\n",
    "    with h5py.File(hdf5_path, 'r') as f_read:\n",
    "        hdf = HDF5(f=f_read)\n",
    "        \n",
    "        to_data = hdf.search_data_path(query=query)\n",
    "        \n",
    "        if type(to_data) is str:\n",
    "            return hdf.return_data(data_path=to_data, shape=shape)\n",
    "        elif type(to_data) is list:\n",
    "            raise Exception(\"複数のlayer pathが見つかりました。一括で返して欲しい場合は実装してください。\")\n",
    "        else:\n",
    "            raise Exception(\"layer pathが見つかりませんでした。\")"
   ]
  },
  {
   "cell_type": "markdown",
   "id": "865e851fece8c333",
   "metadata": {},
   "source": [
    "# データの取得"
   ]
  },
  {
   "cell_type": "code",
   "execution_count": null,
   "id": "eaad3ea72ba6e8e9",
   "metadata": {
    "ExecuteTime": {
     "end_time": "",
     "start_time": ""
    }
   },
   "outputs": [],
   "source": [
    "# 温度データ\n",
    "T_arr = return_hdf5_data(hdf5_path, query='T_arr')\n",
    "frame_num = return_hdf5_data(hdf5_path, query='spe/frame_num')\n",
    "time_arr = return_hdf5_data(hdf5_path, query='spe/time_arr')\n",
    "fps = return_hdf5_data(hdf5_path, query='spe/fps')\n",
    "exposure_ms = return_hdf5_data(hdf5_path, query='spe/exposure_ms')"
   ]
  },
  {
   "cell_type": "code",
   "execution_count": null,
   "id": "5b244507129829b5",
   "metadata": {
    "ExecuteTime": {
     "end_time": "",
     "start_time": ""
    }
   },
   "outputs": [],
   "source": [
    "# レーザー\n",
    "laser_time_arr = return_hdf5_data(hdf5_path, query='laser/time_arr')\n",
    "laser_power_arr = return_hdf5_data(hdf5_path, query='power')"
   ]
  },
  {
   "cell_type": "code",
   "execution_count": null,
   "id": "fee4ac1d16821af6",
   "metadata": {
    "ExecuteTime": {
     "end_time": "",
     "start_time": ""
    }
   },
   "outputs": [],
   "source": [
    "# スペクトル\n",
    "spectra = return_hdf5_data(hdf5_path, query='spectra')\n",
    "wl_arr = return_hdf5_data(hdf5_path, query='spe/wl_arr')\n",
    "pixel_arr = return_hdf5_data(hdf5_path, query='spe/pixel_arr')\n",
    "\n",
    "# 波長の端の方は邪魔なので切り取っておく\n",
    "spectra = spectra[:,:,50:450] # [frame, postion_pixel, wavelength_pixel]\n",
    "wl_arr = wl_arr[50:450]"
   ]
  },
  {
   "cell_type": "code",
   "execution_count": null,
   "id": "99281ea56e1f53d9",
   "metadata": {
    "ExecuteTime": {
     "end_time": "",
     "start_time": ""
    }
   },
   "outputs": [],
   "source": [
    "# 生の輻射データ\n",
    "radiation = return_hdf5_data(hdf5_path, query='spe/img')"
   ]
  },
  {
   "cell_type": "code",
   "execution_count": null,
   "id": "d71f2826e27fb2a4",
   "metadata": {
    "ExecuteTime": {
     "end_time": "",
     "start_time": ""
    }
   },
   "outputs": [],
   "source": [
    "# XRDに合わせるために、XRDのfpsなどを取得\n",
    "xrd_fps = return_hdf5_data(hdf5_path, query='nxs/fps')\n",
    "xrd_exposure_ms = return_hdf5_data(hdf5_path, query='nxs/exposure_ms')\n",
    "xrd_frame_num = return_hdf5_data(hdf5_path, query='nxs/frame_num')"
   ]
  },
  {
   "cell_type": "code",
   "execution_count": null,
   "id": "1c9d00af77be587b",
   "metadata": {
    "ExecuteTime": {
     "end_time": "",
     "start_time": ""
    }
   },
   "outputs": [],
   "source": [
    "# pixelを長さに変換するスケールを取得\n",
    "\n",
    "with open('setting.json', 'r') as file:\n",
    "    setting = json.load(file)\n",
    "\n",
    "pixel_to_um = setting['pixel_to_um']\n",
    "pixel_to_um"
   ]
  },
  {
   "cell_type": "code",
   "execution_count": null,
   "id": "12566d0d6759dadb",
   "metadata": {
    "ExecuteTime": {
     "end_time": "",
     "start_time": ""
    }
   },
   "outputs": [],
   "source": [
    "# laser径を取得\n",
    "laser_diameter_um = setting['laser_params']['laser_diameter_um']\n",
    "\n",
    "laser_diameter_pixel = round(laser_diameter_um / pixel_to_um)\n",
    "\n",
    "print(f\"{laser_diameter_um = } um, {laser_diameter_pixel = } pixel\")"
   ]
  },
  {
   "cell_type": "code",
   "execution_count": null,
   "id": "1f7482fe9a49b8c3",
   "metadata": {
    "ExecuteTime": {
     "end_time": "",
     "start_time": ""
    }
   },
   "outputs": [],
   "source": [
    "# pixel数入れるの忘れたので設定する\n",
    "pixel_num = pixel_arr[-1] + 1\n",
    "pixel_num = 512 # あとでコメントアウト\n",
    "pixel_num"
   ]
  },
  {
   "cell_type": "markdown",
   "id": "e5c1ad360b715d7f",
   "metadata": {},
   "source": [
    "# データ加工"
   ]
  },
  {
   "cell_type": "code",
   "execution_count": null,
   "id": "eac9826c37e6ff92",
   "metadata": {
    "ExecuteTime": {
     "end_time": "",
     "start_time": ""
    }
   },
   "outputs": [],
   "source": [
    "# 生の輻射の各frameの最大強度\n",
    "max_radi_frame_list = []\n",
    "for frame in tqdm(range(frame_num)):\n",
    "    max_radi_frame_list.append(np.max(radiation[frame,:,:]))\n",
    "max_radi_frame_arr = np.array(max_radi_frame_list)\n",
    "\n",
    "# 校正スペクトルの各frameの最大強度\n",
    "max_spectra_frame_list = []\n",
    "for frame in tqdm(range(frame_num)):\n",
    "    max_spectra_frame_list.append(np.max(spectra[frame,:,:]))\n",
    "max_spectra_frame_arr = np.array(max_spectra_frame_list)\n",
    "\n",
    "# 各pos_pixelの最大強度\n",
    "max_radi_pixel_list = []\n",
    "for pixel in tqdm(range(pixel_num)):\n",
    "    max_radi_pixel_list.append(np.max(radiation[:,pixel,:]))\n",
    "max_radi_pixel_arr = np.array(max_radi_pixel_list)\n",
    "\n",
    "# 各pos_pixelの最大強度\n",
    "max_spectra_pixel_list = []\n",
    "for pixel in tqdm(range(pixel_num)):\n",
    "    max_spectra_pixel_list.append(np.max(spectra[:,pixel,:]))\n",
    "max_spectra_pixel_arr = np.array(max_spectra_pixel_list)\n"
   ]
  },
  {
   "cell_type": "markdown",
   "id": "1bda49fd3efdbf69",
   "metadata": {},
   "source": [
    "# データを眺める"
   ]
  },
  {
   "cell_type": "code",
   "execution_count": null,
   "id": "1cd3e82ca5de2e28",
   "metadata": {
    "ExecuteTime": {
     "end_time": "",
     "start_time": ""
    }
   },
   "outputs": [],
   "source": [
    "fig, axes = plt.subplots(nrows=1, ncols=2, figsize=(10, 5))\n",
    "\n",
    "ax = axes[0]\n",
    "ax.plot(max_radi_frame_arr)\n",
    "ax.set_title('time series')\n",
    "\n",
    "ax = axes[1]\n",
    "ax.plot(max_radi_pixel_arr)\n",
    "ax.set_title('pixel series')\n",
    "\n",
    "plt.suptitle(\"spe\")\n",
    "plt.show()\n",
    "plt.close()"
   ]
  },
  {
   "cell_type": "code",
   "execution_count": null,
   "id": "dc23ede4d010eceb",
   "metadata": {
    "ExecuteTime": {
     "end_time": "",
     "start_time": ""
    }
   },
   "outputs": [],
   "source": [
    "# calib\n",
    "fig, axes = plt.subplots(nrows=1, ncols=2, figsize=(10, 5))\n",
    "\n",
    "ax = axes[0]\n",
    "ax.plot(max_spectra_frame_arr)\n",
    "ax.set_title('time series')\n",
    "\n",
    "ax = axes[1]\n",
    "ax.plot(max_spectra_pixel_arr)\n",
    "ax.set_title('pixel series')\n",
    "\n",
    "plt.suptitle(\"calib\")\n",
    "plt.show()\n",
    "plt.close()\n"
   ]
  },
  {
   "cell_type": "code",
   "execution_count": null,
   "id": "6fef5bb48c17902b",
   "metadata": {
    "ExecuteTime": {
     "end_time": "",
     "start_time": ""
    }
   },
   "outputs": [],
   "source": [
    "# dist\n",
    "plt.imshow(T_arr, aspect='auto', cmap='jet')\n",
    "plt.colorbar()\n",
    "plt.suptitle(\"T dist\")\n",
    "plt.xlabel(\"Position pixel\")\n",
    "plt.ylabel(\"Frame\")\n",
    "plt.show()\n",
    "plt.close()"
   ]
  },
  {
   "cell_type": "markdown",
   "id": "93014ccd7619a69d",
   "metadata": {},
   "source": [
    "# 採用する温度領域(位置、時間)を決める"
   ]
  },
  {
   "cell_type": "code",
   "execution_count": null,
   "id": "2b4e91eff4141f0b",
   "metadata": {
    "ExecuteTime": {
     "end_time": "",
     "start_time": ""
    }
   },
   "outputs": [],
   "source": [
    "# speから決めてる\n",
    "\n",
    "# 時間\n",
    "# 最初の1秒で加熱してないことを仮定\n",
    "# 10 ms露光の場合は 40 frameくらいまで\n",
    "\n",
    "window = [0, frame_num] # 確認する範囲\n",
    "\n",
    "max = max_radi_frame_arr[0:40].max()\n",
    "std = np.std(max_radi_frame_arr[0:40])\n",
    "\n",
    "threshold = max + std * 5\n",
    "\n",
    "boundary_frames = []\n",
    "adopt_flag = False\n",
    "I_saturation = 65_000\n",
    "for frame in range(frame_num):\n",
    "    if adopt_flag is False: # 不採用 -> 採用\n",
    "        if (max_radi_frame_arr[frame] > threshold) and (max_radi_frame_arr[frame] < I_saturation):\n",
    "            print(frame, boundary_frames)\n",
    "            boundary_frames.append(frame)\n",
    "            adopt_flag = True\n",
    "    else: # 採用 -> 不採用\n",
    "        if (max_radi_frame_arr[frame] < threshold) or (max_radi_frame_arr[frame] > I_saturation):\n",
    "            print(frame, boundary_frames)\n",
    "            boundary_frames.append(frame)\n",
    "            adopt_flag = False\n",
    "print(f\"{boundary_frames}\")\n",
    "\n",
    "plt.plot(max_radi_frame_arr)\n",
    "for i in range(len(boundary_frames)):\n",
    "    if i % 2 == 0:\n",
    "        plt.scatter(boundary_frames[i], max_radi_frame_arr[boundary_frames[i]], color='red', s=30, zorder=10)\n",
    "    else:\n",
    "        plt.scatter(boundary_frames[i], max_radi_frame_arr[boundary_frames[i]], color='green', s=30, zorder=10)\n",
    "        \n",
    "plt.axhline(y=max, color='black', linestyle='--')\n",
    "plt.axhline(y=threshold, color='r', linestyle='--')\n",
    "plt.xlim(window[0], window[1])\n",
    "plt.show()\n",
    "plt.close()"
   ]
  },
  {
   "cell_type": "code",
   "execution_count": null,
   "id": "95a4e7bd3ec06e90",
   "metadata": {
    "ExecuteTime": {
     "end_time": "",
     "start_time": ""
    }
   },
   "outputs": [],
   "source": [
    "# calibから決めてる\n",
    "\n",
    "# 位置\n",
    "# 最大強度を取得して、レーザー径の範囲を染める\n",
    "\n",
    "window = [100, 400] # 確認する範囲\n",
    "upper_to_right = -1 # pixel: 手で調整。減らす場合はマイナス\n",
    "lower_to_right = 0 # pixel\n",
    "\n",
    "upper_center = max_spectra_pixel_arr[0:255].argmax()\n",
    "lower_center = max_spectra_pixel_arr[256:511].argmax() + 256\n",
    "\n",
    "upper_left = upper_center - laser_diameter_pixel / 2 + upper_to_right\n",
    "upper_right = upper_center + laser_diameter_pixel / 2 + upper_to_right\n",
    "lower_left = lower_center - laser_diameter_pixel / 2 + lower_to_right\n",
    "lower_right = lower_center + laser_diameter_pixel / 2 + lower_to_right\n",
    "if laser_diameter_pixel % 2 != 0: # レーザー径pixelが整数にならない場合、適当にずらす\n",
    "    upper_left = round(upper_left + 0.5)\n",
    "    upper_right = round(upper_right + 0.5)\n",
    "    lower_left = round(lower_left + 0.5)\n",
    "    lower_right = round(lower_right + 0.5)\n",
    "upper_left = int(upper_left)\n",
    "upper_right = int(upper_right)\n",
    "lower_left = int(lower_left)\n",
    "lower_right = int(lower_right)\n",
    "\n",
    "print(upper_center, lower_center)\n",
    "\n",
    "plt.figure(figsize=(10, 5))\n",
    "plt.plot(max_spectra_pixel_arr)\n",
    "plt.scatter(upper_center, max_spectra_pixel_arr[upper_center], color='red', s=30, zorder=10)\n",
    "plt.scatter(lower_center, max_spectra_pixel_arr[lower_center], color='red', s=30, zorder=10)\n",
    "plt.axvspan(upper_left, upper_right, facecolor='black', alpha=0.3)\n",
    "plt.axvspan(lower_left, lower_right, facecolor='black', alpha=0.3)\n",
    "plt.xlim(window[0], window[1])\n",
    "plt.show()\n",
    "plt.close()"
   ]
  },
  {
   "cell_type": "code",
   "execution_count": null,
   "id": "a30cdd7517e60f0",
   "metadata": {
    "ExecuteTime": {
     "end_time": "",
     "start_time": ""
    }
   },
   "outputs": [],
   "source": [
    "# 温度分布で確認\n",
    "plt.figure(figsize=(10, 5))\n",
    "plt.imshow(T_arr, aspect='auto', cmap='Grays')\n",
    "plt.axvspan(xmin=upper_left, xmax=upper_right,\n",
    "            facecolor='red', alpha=0.1)\n",
    "plt.axvspan(xmin=lower_left, xmax=lower_right,\n",
    "            facecolor='red', alpha=0.1)\n",
    "region_num = int(len(boundary_frames) / 2)\n",
    "for i in range(region_num):\n",
    "    i *= 2\n",
    "    plt.axhspan(ymin=boundary_frames[i], ymax=boundary_frames[i+1],\n",
    "                facecolor='red', alpha=0.1)\n",
    "plt.xlim(upper_left - 10, lower_right + 10)\n",
    "plt.ylim(boundary_frames[0] - 20, boundary_frames[-1] + 20)\n",
    "plt.show()\n",
    "plt.close()"
   ]
  },
  {
   "cell_type": "markdown",
   "id": "af25b0d3abc72e58",
   "metadata": {},
   "source": [
    "# P-T plotで使用する温度配列を作成"
   ]
  },
  {
   "cell_type": "code",
   "execution_count": null,
   "id": "7e8555e65048829c",
   "metadata": {
    "ExecuteTime": {
     "end_time": "",
     "start_time": ""
    }
   },
   "outputs": [],
   "source": [
    "# 採用領域を切り出す\n",
    "adopt_arr = np.zeros(T_arr.shape)\n",
    "\n",
    "for i in range(region_num):\n",
    "    idx = i * 2\n",
    "    print(f\"i: {i}, idx: {idx}\")\n",
    "    start_frame = int(boundary_frames[idx])\n",
    "    end_frame = int(boundary_frames[idx + 1])\n",
    "    print(f\"start_frame: {start_frame}, end_frame: {end_frame}\")\n",
    "    adopt_arr[start_frame:end_frame, upper_left:upper_right] = T_arr[start_frame:end_frame, upper_left:upper_right]\n",
    "    adopt_arr[start_frame:end_frame, lower_left:lower_right] = T_arr[start_frame:end_frame, lower_left:lower_right]\n"
   ]
  },
  {
   "cell_type": "code",
   "execution_count": null,
   "id": "402a9679eabe2e54",
   "metadata": {
    "ExecuteTime": {
     "end_time": "",
     "start_time": ""
    }
   },
   "outputs": [],
   "source": [
    "# 確認\n",
    "plt.imshow(adopt_arr, aspect='auto', cmap='jet')\n",
    "plt.colorbar()\n",
    "plt.show()\n",
    "plt.close()"
   ]
  },
  {
   "cell_type": "code",
   "execution_count": null,
   "id": "3822313b5a5f5477",
   "metadata": {
    "ExecuteTime": {
     "end_time": "",
     "start_time": ""
    }
   },
   "outputs": [],
   "source": [
    "# min, mean, maxを取り出す\n",
    "df_T = pd.DataFrame(adopt_arr).T\n",
    "df_T.replace([0], np.nan, inplace=True)\n",
    "\n",
    "# 上流\n",
    "df_T_up = df_T.iloc[0:256, :]\n",
    "T_up = df_T_up.mean()\n",
    "T_up_err = np.array([\n",
    "    T_up - df_T_up.min(),\n",
    "    df_T_up.max() - T_up,\n",
    "])\n",
    "\n",
    "# 下流\n",
    "df_T_down = df_T.iloc[256:511, :]\n",
    "T_down = df_T_down.mean()\n",
    "T_down_err = np.array([\n",
    "    T_down - df_T_down.min(),\n",
    "    df_T_down.max() - T_down,\n",
    "])\n",
    "\n",
    "x = np.arange(frame_num)\n",
    "plt.errorbar(x=x, y=T_up, yerr=T_up_err, c='blue', alpha=0.5)\n",
    "plt.plot(df_T_up.min(), c='blue')\n",
    "plt.plot(df_T_up.max(), c='blue')\n",
    "plt.errorbar(x=x, y=T_down, yerr=T_down_err, c='green', alpha=0.5)\n",
    "plt.plot(df_T_down.min(), c='green')\n",
    "plt.plot(df_T_down.max(), c='green')\n",
    "plt.show()\n",
    "plt.close()"
   ]
  },
  {
   "cell_type": "markdown",
   "id": "436ba2c70664464e",
   "metadata": {},
   "source": [
    "# XRDに合わせた配列を作る"
   ]
  },
  {
   "cell_type": "code",
   "execution_count": null,
   "id": "7a5469c5d6409558",
   "metadata": {
    "ExecuteTime": {
     "end_time": "",
     "start_time": ""
    }
   },
   "outputs": [],
   "source": [
    "# nanを0に戻す\n",
    "T_up = pd.DataFrame(T_up).replace(np.nan, 300).values\n",
    "T_up_err = pd.DataFrame(T_up_err).replace(np.nan, 300).values\n",
    "T_down = pd.DataFrame(T_down).replace(np.nan, 300).values\n",
    "T_down_err = pd.DataFrame(T_down_err).replace(np.nan, 300).values"
   ]
  },
  {
   "cell_type": "code",
   "execution_count": null,
   "id": "e1e0e06e424c258d",
   "metadata": {
    "ExecuteTime": {
     "end_time": "",
     "start_time": ""
    }
   },
   "outputs": [],
   "source": [
    "# 補間するメソッド\n",
    "from scipy.interpolate import interp1d\n",
    "\n",
    "def interpolate_T_to_xrd(original_arr,\n",
    "                         fps=fps, time_arr=time_arr, frame_num=frame_num,\n",
    "                         xrd_fps=xrd_fps, xrd_frame_num=xrd_frame_num):\n",
    "    T_fps = fps.copy()\n",
    "    T_time_arr = time_arr.copy()\n",
    "    \n",
    "    new_frame_num = int(frame_num * (xrd_fps / T_fps))\n",
    "    new_time_arr = np.arange(new_frame_num) / xrd_fps\n",
    "    \n",
    "    interpolator = interp1d(T_time_arr, original_arr, kind='linear', fill_value=\"extrapolate\")\n",
    "    new_arr = interpolator(new_time_arr)\n",
    "    if new_frame_num < xrd_frame_num: # xrdのframeに合わせる\n",
    "        delta = xrd_frame_num - new_frame_num\n",
    "        new_arr = np.r_[new_arr, np.full(delta, 300)]\n",
    "    return new_arr\n"
   ]
  },
  {
   "cell_type": "code",
   "execution_count": null,
   "id": "a0364cd4d301ccb9",
   "metadata": {
    "ExecuteTime": {
     "end_time": "",
     "start_time": ""
    }
   },
   "outputs": [],
   "source": [
    "# 補間する\n",
    "T_up_new = interpolate_T_to_xrd(T_up[:,0])\n",
    "T_up_err_minus = interpolate_T_to_xrd(T_up_err[0])\n",
    "T_up_err_plus = interpolate_T_to_xrd(T_up_err[1])\n",
    "\n",
    "T_down_new = interpolate_T_to_xrd(T_down[:,0])\n",
    "T_down_err_minus = interpolate_T_to_xrd(T_down_err[0])\n",
    "T_down_err_plus = interpolate_T_to_xrd(T_down_err[1])"
   ]
  },
  {
   "cell_type": "code",
   "execution_count": null,
   "id": "522483fb87e07fae",
   "metadata": {
    "ExecuteTime": {
     "end_time": "",
     "start_time": ""
    }
   },
   "outputs": [],
   "source": [
    "# plotして確認\n",
    "x = np.arange(xrd_frame_num)\n",
    "plt.errorbar(x=x, y=T_up_new, yerr=[T_up_err_minus, T_up_err_plus], c='green', alpha=0.1)\n",
    "plt.errorbar(x=x, y=T_down_new, yerr=[T_down_err_minus, T_down_err_plus], c='blue', alpha=0.1)\n",
    "plt.ylim(1_000, 6_000) # 下は切ったほうがいい"
   ]
  },
  {
   "cell_type": "code",
   "execution_count": null,
   "id": "86fc20ec90fe9f2f",
   "metadata": {
    "ExecuteTime": {
     "end_time": "",
     "start_time": ""
    }
   },
   "outputs": [],
   "source": [
    "# hdfに書き込む\n",
    "T_layer = 'entry/T/'\n",
    "\n",
    "with h5py.File(hdf5_path, 'a') as f_append:\n",
    "    f_append.create_dataset(name=T_layer + 'T_up', data=T_up_new)\n",
    "    f_append.create_dataset(name=T_layer + 'T_down', data=T_down_new)\n",
    "    \n",
    "    f_append.create_dataset(name=T_layer + 'T_up_err_minus', data=T_up_err_minus)\n",
    "    f_append.create_dataset(name=T_layer + 'T_up_err_plus', data=T_up_err_plus)\n",
    "    f_append.create_dataset(name=T_layer + 'T_down_err_minus', data=T_down_err_minus)\n",
    "    f_append.create_dataset(name=T_layer + 'T_down_err_plus', data=T_down_err_plus)"
   ]
  },
  {
   "cell_type": "markdown",
   "id": "a23e61bcfec31850",
   "metadata": {},
   "source": [
    "# 時間発展をplotする"
   ]
  },
  {
   "cell_type": "code",
   "execution_count": null,
   "id": "e8e81306cbf5771b",
   "metadata": {
    "ExecuteTime": {
     "end_time": "",
     "start_time": ""
    }
   },
   "outputs": [],
   "source": [
    "# saturation配列を作成する\n",
    "saturation_boundaries = []\n",
    "I_saturation = 65_000\n",
    "\n",
    "if radiation.max() > I_saturation:\n",
    "    adopt_flag = False\n",
    "    for frame in range(frame_num):\n",
    "        if adopt_flag is False: # 不採用 -> 採用\n",
    "            if max_radi_frame_arr[frame] > I_saturation:\n",
    "                print(frame, saturation_boundaries)\n",
    "                saturation_boundaries.append(frame)\n",
    "                adopt_flag = True\n",
    "        else: # 採用 -> 不採用\n",
    "            if max_radi_frame_arr[frame] < I_saturation:\n",
    "                print(frame, saturation_boundaries)\n",
    "                saturation_boundaries.append(frame)\n",
    "                adopt_flag = False\n",
    "    print(f\"{saturation_boundaries}\")\n",
    " \n",
    "saturation_arr = np.array(saturation_boundaries)\n",
    "saturation_time_arr = saturation_arr / fps\n",
    "saturation_time_arr"
   ]
  },
  {
   "cell_type": "code",
   "execution_count": null,
   "id": "7f6736eb210b239a",
   "metadata": {
    "ExecuteTime": {
     "end_time": "",
     "start_time": ""
    }
   },
   "outputs": [],
   "source": [
    "fig, ax = plt.subplots()\n",
    "\n",
    "ax.set_title(f\"T evolution of {run_name}\")\n",
    "\n",
    "x = np.arange(xrd_frame_num) / xrd_fps\n",
    "ax.errorbar(x=x, y=T_up_new, yerr=[T_up_err_minus, T_up_err_plus],\n",
    "            c='blue', marker='.',mfc='blue', capsize=3, elinewidth=1, alpha=0.3,\n",
    "            label=\"Up\")\n",
    "ax.errorbar(x=x, y=T_down_new, yerr=[T_down_err_minus, T_down_err_plus],\n",
    "            c='orange', marker='.',mfc='orange', capsize=3, elinewidth=1, alpha=0.3,\n",
    "            label=\"down\")\n",
    "\n",
    "ax.set_ylim(1_000, 6_000)\n",
    "ax.set_xlabel('Time (sec)')\n",
    "ax.set_ylabel('Temperature (K)')"
   ]
  },
  {
   "cell_type": "code",
   "execution_count": null,
   "id": "4c56811b3dcc008e",
   "metadata": {
    "ExecuteTime": {
     "end_time": "",
     "start_time": ""
    }
   },
   "outputs": [],
   "source": [
    "# satuあり、全体\n",
    "fig, ax = plt.subplots()\n",
    "\n",
    "ax.set_title(f\"T evolution of {run_name}\")\n",
    "\n",
    "x = np.arange(xrd_frame_num) / xrd_fps\n",
    "ax.errorbar(x=x, y=T_up_new, yerr=[T_up_err_minus, T_up_err_plus],\n",
    "            c='blue', marker='.',mfc='white', capsize=3, elinewidth=1, alpha=0.5,\n",
    "            label=\"Up\")\n",
    "ax.errorbar(x=x, y=T_down_new, yerr=[T_down_err_minus, T_down_err_plus],\n",
    "            c='orange', marker='.',mfc='white', capsize=3, elinewidth=1, alpha=0.5,\n",
    "            label=\"Down\")\n",
    "\n",
    "ax.set_ylim(1_000, 7_000)\n",
    "ax.set_xlabel('Time (sec)')\n",
    "ax.set_ylabel('Temperature (K)')\n",
    "ax.legend()\n",
    "\n",
    "for i in range(region_num):\n",
    "    idx = i * 2\n",
    "    ax.axvspan(xmin=saturation_time_arr[idx], xmax=saturation_time_arr[idx+1],\n",
    "               facecolor='red', alpha=0.3)\n"
   ]
  },
  {
   "cell_type": "code",
   "execution_count": null,
   "id": "d2b16161b4abd5c8",
   "metadata": {
    "ExecuteTime": {
     "end_time": "",
     "start_time": ""
    }
   },
   "outputs": [],
   "source": [
    "# satuあり、一部\n",
    "fig, ax = plt.subplots()\n",
    "\n",
    "ax.set_title(f\"T evolution of {run_name}\")\n",
    "\n",
    "x = np.arange(xrd_frame_num) / xrd_fps\n",
    "ax.errorbar(x=x, y=T_up_new, yerr=[T_up_err_minus, T_up_err_plus],\n",
    "            c='blue', marker='.',mfc='white', capsize=3, elinewidth=1, alpha=0.5,\n",
    "            label=\"Up\")\n",
    "ax.errorbar(x=x, y=T_down_new, yerr=[T_down_err_minus, T_down_err_plus],\n",
    "            c='orange', marker='.',mfc='white', capsize=3, elinewidth=1, alpha=0.5,\n",
    "            label=\"Down\")\n",
    "\n",
    "ax.set_ylim(1_000, 7_000)\n",
    "ax.set_xlabel('Time (sec)')\n",
    "ax.set_ylabel('Temperature (K)')\n",
    "ax.legend()\n",
    "\n",
    "for i in range(region_num):\n",
    "    idx = i * 2\n",
    "    ax.axvspan(xmin=saturation_time_arr[idx], xmax=saturation_time_arr[idx+1],\n",
    "               facecolor='red', alpha=0.3)\n",
    "ax.set_xlim(8.5, 9.5)"
   ]
  },
  {
   "cell_type": "code",
   "execution_count": null,
   "id": "42238dc758cb0d9e",
   "metadata": {
    "ExecuteTime": {
     "end_time": "",
     "start_time": ""
    }
   },
   "outputs": [],
   "source": [
    "# satuあり、全体、レーザーあり\n",
    "fig, ax = plt.subplots()\n",
    "\n",
    "ax.set_title(f\"T evolution of {run_name}\")\n",
    "\n",
    "x = np.arange(xrd_frame_num) / xrd_fps\n",
    "ax.errorbar(x=x, y=T_up_new, yerr=[T_up_err_minus, T_up_err_plus],\n",
    "            c='blue', marker='.',mfc='white', capsize=3, elinewidth=1, alpha=0.5,\n",
    "            label=\"Up\")\n",
    "ax.errorbar(x=x, y=T_down_new, yerr=[T_down_err_minus, T_down_err_plus],\n",
    "            c='orange', marker='.',mfc='white', capsize=3, elinewidth=1, alpha=0.5,\n",
    "            label=\"Down\")\n",
    "\n",
    "ax.set_ylim(1_000, 7_000)\n",
    "ax.set_xlabel('Time (sec)')\n",
    "ax.set_ylabel('Temperature (K)')\n",
    "ax.legend()\n",
    "\n",
    "for i in range(region_num):\n",
    "    idx = i * 2\n",
    "    ax.axvspan(xmin=saturation_time_arr[idx], xmax=saturation_time_arr[idx+1],\n",
    "               facecolor='red', alpha=0.3)\n",
    "\n",
    "twin = ax.twinx()\n",
    "twin.plot(laser_time_arr, laser_power_arr, color='black', alpha=0.3, label='Laser')\n",
    "twin.legend(loc=\"upper left\", bbox_to_anchor=(0, 0.8))"
   ]
  },
  {
   "cell_type": "markdown",
   "id": "bc41ca53a7da9a38",
   "metadata": {},
   "source": [
    "# 気になるところを見る"
   ]
  },
  {
   "cell_type": "markdown",
   "id": "1d5eb20436f3dc86",
   "metadata": {},
   "source": [
    "## 温度プロファイル"
   ]
  },
  {
   "cell_type": "code",
   "execution_count": null,
   "id": "faebeb10cef60f62",
   "metadata": {
    "ExecuteTime": {
     "end_time": "",
     "start_time": ""
    }
   },
   "outputs": [],
   "source": [
    "# 気になるところの温度プロファイルをplotする\n",
    "fig, axes = plt.subplots(nrows=1, ncols=2, figsize=(10, 5))\n",
    "\n",
    "frames = range(360, 380, 1)\n",
    "T_lim = [300, 6_000]\n",
    "\n",
    "ax = axes[0]\n",
    "for frame in frames:\n",
    "    ax.plot(T_arr[frame, upper_left-10:upper_right+10], c='blue', alpha=0.5)\n",
    "ax.set_ylim(T_lim[0], T_lim[1])\n",
    "\n",
    "ax = axes[1]\n",
    "for frame in frames:\n",
    "    ax.plot(T_arr[frame, lower_left-10:lower_right+10], c='blue', alpha=0.5)\n",
    "ax.set_ylim(T_lim[0], T_lim[1])\n",
    "\n",
    "\n",
    "None"
   ]
  },
  {
   "cell_type": "markdown",
   "id": "247d31a00259e356",
   "metadata": {},
   "source": [
    "## スペクトルを見る"
   ]
  },
  {
   "cell_type": "code",
   "execution_count": null,
   "id": "5a7c77d2853e52bc",
   "metadata": {
    "ExecuteTime": {
     "end_time": "",
     "start_time": ""
    }
   },
   "outputs": [],
   "source": [
    "# プランク関数の強度を返す関数\n",
    "from scipy.constants import h, c, k\n",
    "\n",
    "def planck_function(wavelengths, temperature):\n",
    "    # 波長をメートルに変換 (nm -> m)\n",
    "    wavelengths_m = np.array(wavelengths) * 1e-9\n",
    "\n",
    "    # プランク関数の計算\n",
    "    intensity = (2.0 * h * c**2) / (wavelengths_m**5) / (np.exp((h * c) / (wavelengths_m * k * temperature)) - 1.0)\n",
    "\n",
    "    return intensity"
   ]
  },
  {
   "cell_type": "code",
   "execution_count": null,
   "id": "15bd3616b831e3e9",
   "metadata": {
    "ExecuteTime": {
     "end_time": "",
     "start_time": ""
    }
   },
   "outputs": [],
   "source": [
    "# unitの波長\n",
    "wl_arr[300]"
   ]
  },
  {
   "cell_type": "code",
   "execution_count": null,
   "id": "81a8ae052f77c3dc",
   "metadata": {
    "ExecuteTime": {
     "end_time": "",
     "start_time": ""
    }
   },
   "outputs": [],
   "source": [
    "# スペクトルと比較する\n",
    "frames = range(360, 380, 1)\n",
    "for frame in frames:\n",
    "    unit = spectra[frame, lower_center, 300]\n",
    "    if unit == 0:\n",
    "        y = spectra[frame, lower_center, :]\n",
    "    else:\n",
    "        y = spectra[frame, lower_center, :] / unit\n",
    "    plt.plot(wl_arr, y, c='blue', alpha=0.5)"
   ]
  },
  {
   "cell_type": "code",
   "execution_count": null,
   "id": "58a2247bac8e3b8e",
   "metadata": {
    "ExecuteTime": {
     "end_time": "",
     "start_time": ""
    }
   },
   "outputs": [],
   "source": [
    "# 温度と合わせる\n",
    "frames = range(360, 380, 1)\n",
    "for frame in frames:\n",
    "    # 実験\n",
    "    unit = spectra[frame, lower_center, 300]\n",
    "    if unit == 0:\n",
    "        continue\n",
    "    else:\n",
    "        y = spectra[frame, lower_center, :] / unit\n",
    "    plt.scatter(wl_arr, y, c='blue', alpha=0.5, s=1)\n",
    "    # fitting\n",
    "    T = T_arr[frame, lower_center]\n",
    "    print(f\"{frame = }, {round(T, 1) = } K\")\n",
    "    if T == 0:\n",
    "        continue\n",
    "    else:\n",
    "        I = planck_function(wl_arr, T)\n",
    "        y = I / I[300]\n",
    "    plt.plot(wl_arr, y, c='red', alpha=0.5, linestyle='--')"
   ]
  },
  {
   "cell_type": "code",
   "execution_count": null,
   "id": "f2276c7d240bc9d9",
   "metadata": {
    "ExecuteTime": {
     "end_time": "",
     "start_time": ""
    }
   },
   "outputs": [],
   "source": [
    "frames = range(360, 380, 1)\n",
    "for frame in frames:\n",
    "    plt.plot(wl_arr, spectra[frame, lower_center, :], c='blue', alpha=0.5)"
   ]
  },
  {
   "cell_type": "markdown",
   "id": "e612d61bb5f7a6d4",
   "metadata": {},
   "source": [
    "## スペクトルをfittingする"
   ]
  },
  {
   "cell_type": "code",
   "execution_count": null,
   "id": "c76c2f7e8ad36cb0",
   "metadata": {
    "ExecuteTime": {
     "end_time": "",
     "start_time": ""
    }
   },
   "outputs": [],
   "source": [
    "plt.plot(wl_arr)\n",
    "plt.grid()"
   ]
  },
  {
   "cell_type": "code",
   "execution_count": null,
   "id": "b66e9a892c7c0798",
   "metadata": {
    "ExecuteTime": {
     "end_time": "",
     "start_time": ""
    }
   },
   "outputs": [],
   "source": [
    "from scipy.constants import h, c, k\n",
    "from scipy.optimize import curve_fit\n",
    "\n",
    "def planck_function(wavelengths, temperature, scale):\n",
    "    # 波長をメートルに変換 (nm -> m)\n",
    "    wavelengths_m = np.array(wavelengths) * 1e-9\n",
    "\n",
    "    # プランク関数の計算\n",
    "    intensity = (2.0 * h * c**2) / (wavelengths_m**5) / (np.exp((h * c) / (wavelengths_m * k * temperature)) - 1.0)\n",
    "\n",
    "    return scale * intensity\n",
    "\n",
    "def planck_fit(wavelengths, intensities):\n",
    "    # フィッティング関数\n",
    "    def fitting_func(wavelengths, temperature, scale):\n",
    "        return planck_function(wavelengths, temperature, scale)\n",
    "    \n",
    "    initial_guess = [5000, 1e-9]  # 温度とスケールファクタの初期推定値\n",
    "    \n",
    "    # curve_fitでフィッティング\n",
    "    popt, pcov = curve_fit(fitting_func, wavelengths, intensities, p0=initial_guess)\n",
    "    \n",
    "    # フィッティングされた温度とスケールファクタ、不確かさを返す\n",
    "    T = popt[0]\n",
    "    scale = popt[1]\n",
    "    T_err = np.sqrt(pcov[0, 0])\n",
    "    scale_err = np.sqrt(pcov[1, 1])\n",
    "    \n",
    "    # フィッティングされた温度を返す\n",
    "    return [T, scale, T_err, scale_err]"
   ]
  },
  {
   "cell_type": "markdown",
   "id": "ccc5c90373c89343",
   "metadata": {},
   "source": [
    "### fitting場1"
   ]
  },
  {
   "cell_type": "code",
   "execution_count": null,
   "id": "eb4abc43b3ec774d",
   "metadata": {
    "ExecuteTime": {
     "end_time": "",
     "start_time": ""
    }
   },
   "outputs": [],
   "source": [
    "# fitting\n",
    "\n",
    "frame = 361\n",
    "\n",
    "window = [110, 300] # 600-800\n",
    "\n",
    "wls = wl_arr[window[0]:window[1]]\n",
    "spectrum = spectra[frame, lower_center, window[0]:window[1]]\n",
    "\n",
    "results_600_800 = planck_fit(wls, spectrum)\n",
    "print(results_600_800)\n",
    "\n",
    "# 違うとこ\n",
    "window = [220, 300] # 700-800\n",
    "\n",
    "wls = wl_arr[window[0]:window[1]]\n",
    "spectrum = spectra[frame, lower_center, window[0]:window[1]]\n",
    "\n",
    "results_700_800 = planck_fit(wls, spectrum)\n",
    "print(results_700_800)\n",
    "\n",
    "plt.plot(wls, spectrum)\n"
   ]
  },
  {
   "cell_type": "code",
   "execution_count": null,
   "id": "d1cbaafbca753b6b",
   "metadata": {
    "ExecuteTime": {
     "end_time": "",
     "start_time": ""
    }
   },
   "outputs": [],
   "source": [
    "# 実験\n",
    "unit = spectra[frame, lower_center, 300]\n",
    "y = spectra[frame, lower_center, :] / unit\n",
    "plt.scatter(wl_arr, y, c='blue', alpha=0.5, s=1)\n",
    "\n",
    "# fitting\n",
    "T = results_600_800[0]\n",
    "scale = results_600_800[1]\n",
    "print(f\"{frame = }, {round(T, 1) = } K\")\n",
    "I = planck_function(wl_arr, T, scale)\n",
    "y = I / I[300]\n",
    "plt.plot(wl_arr, y, c='red', alpha=0.5, linestyle='-')\n",
    "\n",
    "T = results_600_800[0] + results_600_800[2]\n",
    "scale = results_600_800[1]\n",
    "print(f\"{frame = }, {round(T, 1) = } K\")\n",
    "I = planck_function(wl_arr, T, scale)\n",
    "y = I / I[300]\n",
    "plt.plot(wl_arr, y, c='red', alpha=0.5, linestyle='--')\n",
    "\n",
    "\n",
    "T = results_700_800[0]\n",
    "scale = results_700_800[1]\n",
    "print(f\"{frame = }, {round(T, 1) = } K\")\n",
    "I = planck_function(wl_arr, T, scale)\n",
    "y = I / I[300]\n",
    "plt.plot(wl_arr, y, c='orange', alpha=0.5, linestyle='--')\n"
   ]
  },
  {
   "cell_type": "markdown",
   "id": "1d2c610e328eedad",
   "metadata": {},
   "source": [
    "### fitting場1\n"
   ]
  },
  {
   "cell_type": "code",
   "execution_count": null,
   "id": "e45c03e1cea1f787",
   "metadata": {
    "ExecuteTime": {
     "end_time": "",
     "start_time": ""
    }
   },
   "outputs": [],
   "source": [
    "# fitting\n",
    "\n",
    "frame = 367\n",
    "\n",
    "window = [110, 300] # 600-800\n",
    "\n",
    "wls = wl_arr[window[0]:window[1]]\n",
    "spectrum = spectra[frame, lower_center, window[0]:window[1]]\n",
    "\n",
    "results_600_800 = planck_fit(wls, spectrum)\n",
    "print(results_600_800)\n",
    "\n",
    "# 違うとこ\n",
    "window = [220, 300] # 700-800\n",
    "\n",
    "wls = wl_arr[window[0]:window[1]]\n",
    "spectrum = spectra[frame, lower_center, window[0]:window[1]]\n",
    "\n",
    "results_700_800 = planck_fit(wls, spectrum)\n",
    "print(results_700_800)\n",
    "\n",
    "plt.plot(wls, spectrum)\n"
   ]
  },
  {
   "cell_type": "code",
   "execution_count": null,
   "id": "1a4fa737557da3db",
   "metadata": {
    "ExecuteTime": {
     "end_time": "",
     "start_time": ""
    }
   },
   "outputs": [],
   "source": [
    "# 実験\n",
    "unit = spectra[frame, lower_center, 300]\n",
    "y = spectra[frame, lower_center, :] / unit\n",
    "plt.scatter(wl_arr, y, c='blue', alpha=0.5, s=1)\n",
    "\n",
    "# fitting\n",
    "T = results_600_800[0]\n",
    "scale = results_600_800[1]\n",
    "print(f\"{frame = }, {round(T, 1) = } K\")\n",
    "I = planck_function(wl_arr, T, scale)\n",
    "y = I / I[300]\n",
    "plt.plot(wl_arr, y, c='red', alpha=0.5, linestyle='-')\n",
    "\n",
    "T = results_600_800[0] + results_600_800[2]\n",
    "scale = results_600_800[1]\n",
    "print(f\"{frame = }, {round(T, 1) = } K\")\n",
    "I = planck_function(wl_arr, T, scale)\n",
    "y = I / I[300]\n",
    "plt.plot(wl_arr, y, c='red', alpha=0.5, linestyle='--')\n",
    "\n",
    "\n",
    "T = results_700_800[0]\n",
    "scale = results_700_800[1]\n",
    "print(f\"{frame = }, {round(T, 1) = } K\")\n",
    "I = planck_function(wl_arr, T, scale)\n",
    "y = I / I[300]\n",
    "plt.plot(wl_arr, y, c='orange', alpha=0.5, linestyle='--')\n"
   ]
  },
  {
   "cell_type": "code",
   "execution_count": null,
   "id": "c678b6c014a942b6",
   "metadata": {
    "ExecuteTime": {
     "end_time": "",
     "start_time": ""
    }
   },
   "outputs": [],
   "source": [
    "T = 2_000\n",
    "scale = 1\n",
    "print(f\"{frame = }, {round(T, 1) = } K\")\n",
    "I = planck_function(wl_arr, T, scale)\n",
    "y = I / I[300]\n",
    "plt.plot(wl_arr, y, c='red', alpha=0.5, linestyle='--')\n"
   ]
  },
  {
   "cell_type": "code",
   "execution_count": null,
   "id": "96ad4e689e5c82c2",
   "metadata": {},
   "outputs": [],
   "source": []
  }
 ],
 "metadata": {
  "kernelspec": {
   "display_name": "Python 3",
   "language": "python",
   "name": "python3"
  },
  "language_info": {
   "codemirror_mode": {
    "name": "ipython",
    "version": 2
   },
   "file_extension": ".py",
   "mimetype": "text/x-python",
   "name": "python",
   "nbconvert_exporter": "python",
   "pygments_lexer": "ipython2",
   "version": "2.7.6"
  }
 },
 "nbformat": 4,
 "nbformat_minor": 5
}
