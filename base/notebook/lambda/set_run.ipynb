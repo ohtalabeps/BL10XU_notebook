{
 "cells": [
  {
   "cell_type": "markdown",
   "id": "dae170b19acf1549",
   "metadata": {},
   "source": [
    "# 共通処理"
   ]
  },
  {
   "cell_type": "code",
   "execution_count": null,
   "id": "initial_id",
   "metadata": {
    "ExecuteTime": {
     "end_time": "",
     "start_time": ""
    }
   },
   "outputs": [],
   "source": [
    "import os\n",
    "import sys\n",
    "\n",
    "import h5py\n",
    "\n",
    "\"\"\"\n",
    "このnotebookがbaseフォルダを読めるようになるための処理\n",
    "\"\"\"\n",
    "\n",
    "root_rel = '../../'\n",
    "\n",
    "# 相対パスを絶対パスに変換してsys.pathに追加\n",
    "root_abs = os.path.abspath(root_rel)\n",
    "if root_abs not in sys.path:\n",
    "    sys.path.append(root_abs)\n",
    "print(root_abs)\n"
   ]
  },
  {
   "cell_type": "code",
   "execution_count": null,
   "id": "f67160cca6914ab",
   "metadata": {
    "ExecuteTime": {
     "end_time": "",
     "start_time": ""
    }
   },
   "outputs": [],
   "source": [
    "# 使用データフォルダまでのpath設定\n",
    "data_root_path = \"/Volumes/T7 Touch/data\"  # 人によって書き換え\n",
    "# data_root_path = \"/Volumes/Ohta_ssd/data\" # 太田研共有SSDのMacの場合のpath\n",
    "\n",
    "# 保存データ(図や動画)のpath設定\n",
    "save_root_path = root_abs + \"/save/\" # TODO これいらないので消す\n",
    "\n",
    "# Folderインスタンスを作成\n",
    "# Folderクラスに検索や表示の関数を入れてる\n",
    "import model.File.Read as Read\n",
    "import model.File.Save as Save\n",
    "\n",
    "read = Read.Read(data_root_path=data_root_path)\n",
    "save = Save.Save(save_root_path=save_root_path)\n"
   ]
  },
  {
   "cell_type": "markdown",
   "id": "495fd39cbd85a11",
   "metadata": {},
   "source": [
    "# 解析するrunの設定"
   ]
  },
  {
   "cell_type": "code",
   "execution_count": null,
   "id": "b6b98aac1edeb98f",
   "metadata": {
    "ExecuteTime": {
     "end_time": "",
     "start_time": ""
    }
   },
   "outputs": [],
   "source": [
    "# Run設定\n",
    "# runまで選択\n",
    "sample_num = 0\n",
    "experiment_num = 2\n",
    "run_num = 0\n",
    "\n",
    "read.select_data_folder(sample_num=sample_num,\n",
    "                        experiment_num=experiment_num,\n",
    "                        run_num=run_num)\n",
    "\n",
    "print(f\"データのpath: {read.data_path}\\n\")\n",
    "save.set_run_save_dir(run_name=read.run_name)\n",
    "\n",
    "# 使用データpathの設定\n",
    "read.set_filepaths()\n"
   ]
  },
  {
   "cell_type": "code",
   "execution_count": null,
   "id": "5658c7b09d7b31fb",
   "metadata": {
    "ExecuteTime": {
     "end_time": "",
     "start_time": ""
    }
   },
   "outputs": [],
   "source": [
    "# LAMBDAのmaskは固定\n",
    "mask_path = '/Users/ishizawaosamu/work/ipynb/BL10XU_notebook/base/data/lambda_mask.npy'"
   ]
  },
  {
   "cell_type": "code",
   "execution_count": null,
   "id": "869dfd7cc652e979",
   "metadata": {
    "ExecuteTime": {
     "end_time": "",
     "start_time": ""
    }
   },
   "outputs": [],
   "source": [
    "# pathを入れやすいように設定\n",
    "path_vars = [\n",
    "    # T\n",
    "    'spe_path',\n",
    "    'calib_path',\n",
    "    'dist_path',\n",
    "    # XRD\n",
    "    'nxs_path',\n",
    "    'poni_path',\n",
    "    'mask_path'\n",
    "]\n",
    "\n",
    "path_dict = {\n",
    "    path_vars[0]: read.spe_path,\n",
    "    path_vars[1]: read.calib_path,\n",
    "    path_vars[2]: read.dist_path,\n",
    "    path_vars[3]: read.nxs_path,\n",
    "    path_vars[4]: read.poni_path,\n",
    "    path_vars[5]: mask_path\n",
    "}"
   ]
  },
  {
   "cell_type": "markdown",
   "id": "b290f39a5a2897fd",
   "metadata": {},
   "source": [
    "# HDF5にpathを保存する"
   ]
  },
  {
   "cell_type": "code",
   "execution_count": null,
   "id": "91000697ce272e8b",
   "metadata": {
    "ExecuteTime": {
     "end_time": "",
     "start_time": ""
    }
   },
   "outputs": [],
   "source": [
    "# HDF5ファイルを作成する\n",
    "\"\"\"\n",
    "    *** 一応ファイルがある場合は実行されないようにしているが、もし実行された場合は初期化されるので注意\n",
    "\"\"\"\n",
    "hdf5_path = f\"/Volumes/T7 Touch/data/HDF5/{read.run_name}.hdf5\"\n",
    "\n",
    "path_layer = 'entry/path/'\n",
    "\n",
    "if not os.path.exists(hdf5_path):\n",
    "    with h5py.File(hdf5_path, 'w') as f:\n",
    "        for path_var in path_vars:\n",
    "            path = path_layer + path_var\n",
    "            f.create_dataset(path, data=path_dict[path_var])"
   ]
  },
  {
   "cell_type": "markdown",
   "id": "218752ecbafe8384",
   "metadata": {},
   "source": [
    "# 入ってるか確認"
   ]
  },
  {
   "cell_type": "code",
   "execution_count": null,
   "id": "7bec03dfe2a067f8",
   "metadata": {
    "ExecuteTime": {
     "end_time": "",
     "start_time": ""
    }
   },
   "outputs": [],
   "source": [
    "from model.File.HDF5 import HDF5"
   ]
  },
  {
   "cell_type": "code",
   "execution_count": null,
   "id": "a60ea252e3261b97",
   "metadata": {
    "ExecuteTime": {
     "end_time": "",
     "start_time": ""
    }
   },
   "outputs": [],
   "source": [
    "with h5py.File(hdf5_path, 'r') as f:\n",
    "    hdf = HDF5(f=f)"
   ]
  },
  {
   "cell_type": "code",
   "execution_count": null,
   "id": "d9dcbc30e63f6024",
   "metadata": {
    "ExecuteTime": {
     "end_time": "",
     "start_time": ""
    }
   },
   "outputs": [],
   "source": [
    "hdf.path_list"
   ]
  },
  {
   "cell_type": "code",
   "execution_count": null,
   "id": "82fd2613621232ba",
   "metadata": {
    "ExecuteTime": {
     "end_time": "",
     "start_time": ""
    }
   },
   "outputs": [],
   "source": [
    "with h5py.File(hdf5_path, 'r') as f:\n",
    "    hdf.show_all_hierarchy(f=f, display_length=80)"
   ]
  },
  {
   "cell_type": "markdown",
   "id": "5b5cf92b6949c4ac",
   "metadata": {},
   "source": [
    "# Laserパラメーターの設定"
   ]
  },
  {
   "cell_type": "code",
   "execution_count": null,
   "id": "3b3d72cbe7873b24",
   "metadata": {
    "ExecuteTime": {
     "end_time": "",
     "start_time": ""
    }
   },
   "outputs": [],
   "source": [
    "# 線形か定常かを設定しておく\n",
    "linear = True"
   ]
  },
  {
   "cell_type": "code",
   "execution_count": null,
   "id": "368509081c3b12a",
   "metadata": {
    "ExecuteTime": {
     "end_time": "",
     "start_time": ""
    }
   },
   "outputs": [],
   "source": [
    "# 線形の場合はこちらを設定\n",
    "if not linear:\n",
    "    raise Exception(\"linearがFalseになってる\")\n",
    "\n",
    "# これを編集\n",
    "laser_params = {\n",
    "    'linear': linear,\n",
    "    'base_width_ms': 18_000,\n",
    "    'linear_width_ms': 18_000,\n",
    "    'whole_time_ms': 20_000,\n",
    "    'laser_diameter_um': 17.5,\n",
    "    'start_power_W': 0,\n",
    "    'goal_power_W': 36,\n",
    "    'step_width_ms': 100,\n",
    "}"
   ]
  },
  {
   "cell_type": "code",
   "execution_count": null,
   "id": "4d395d9c9fb0d46b",
   "metadata": {
    "ExecuteTime": {
     "end_time": "",
     "start_time": ""
    }
   },
   "outputs": [],
   "source": [
    "# 定常の場合はこちらを設定\n",
    "# if linear:\n",
    "#     raise Exception(\"linearがFalseになってる\")\n",
    "# \n",
    "# # これを編集\n",
    "# laser_params = {\n",
    "#     'linear': linear,\n",
    "#     'power_W': 10,\n",
    "#     'base_width_ms': 8_000,\n",
    "#     'whole_time_ms': 10_000,\n",
    "#     'laser_diameter_um': 17.5,\n",
    "# }\n"
   ]
  },
  {
   "cell_type": "code",
   "execution_count": null,
   "id": "beb6b88ef6d8d8ae",
   "metadata": {
    "ExecuteTime": {
     "end_time": "",
     "start_time": ""
    }
   },
   "outputs": [],
   "source": [
    "# 解析するhdf5のpathも加える\n",
    "setting = {\n",
    "    \"hdf5_path\": hdf5_path\n",
    "}\n",
    "\n",
    "setting['laser_params'] = laser_params # 二重の辞書にしてる"
   ]
  },
  {
   "cell_type": "code",
   "execution_count": null,
   "id": "a8b4178a6201abb8",
   "metadata": {
    "ExecuteTime": {
     "end_time": "",
     "start_time": ""
    }
   },
   "outputs": [],
   "source": [
    "setting"
   ]
  },
  {
   "cell_type": "markdown",
   "id": "1efb9640b7dc9c91",
   "metadata": {},
   "source": [
    "# jsonに解析run名と併せて保存"
   ]
  },
  {
   "cell_type": "code",
   "execution_count": null,
   "id": "7bca93d5e98faeae",
   "metadata": {
    "ExecuteTime": {
     "end_time": "",
     "start_time": ""
    }
   },
   "outputs": [],
   "source": [
    "# 辞書型の方が拡張するとき便利そうなのでjsonにする\n",
    "# 書き加える場合は、一度読み込んで辞書を編集してdumpしなおす\n",
    "import json\n",
    "\n",
    "setting[\"hdf5_path\"] = hdf5_path\n",
    "with open('setting.json', 'w') as file:\n",
    "    json.dump(setting, file)\n"
   ]
  },
  {
   "cell_type": "code",
   "execution_count": null,
   "id": "fb725f2d36568c76",
   "metadata": {
    "ExecuteTime": {
     "end_time": "",
     "start_time": ""
    }
   },
   "outputs": [],
   "source": []
  }
 ],
 "metadata": {
  "kernelspec": {
   "display_name": "Python 3",
   "language": "python",
   "name": "python3"
  },
  "language_info": {
   "codemirror_mode": {
    "name": "ipython",
    "version": 2
   },
   "file_extension": ".py",
   "mimetype": "text/x-python",
   "name": "python",
   "nbconvert_exporter": "python",
   "pygments_lexer": "ipython2",
   "version": "2.7.6"
  }
 },
 "nbformat": 4,
 "nbformat_minor": 5
}
