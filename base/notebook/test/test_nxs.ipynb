{
 "cells": [
  {
   "cell_type": "code",
   "execution_count": null,
   "id": "initial_id",
   "metadata": {
    "ExecuteTime": {
     "end_time": "",
     "start_time": ""
    },
    "collapsed": true
   },
   "outputs": [],
   "source": [
    "import os\n",
    "import sys\n",
    "import matplotlib.pyplot as plt\n",
    "import numpy as np\n",
    "\n",
    "\"\"\"\n",
    "このnotebookがbaseフォルダを読めるようになるための処理\n",
    "\"\"\"\n",
    "\n",
    "root_rel = '../../'\n",
    "\n",
    "# 相対パスを絶対パスに変換してsys.pathに追加\n",
    "root_abs = os.path.abspath(root_rel)\n",
    "if root_abs not in sys.path:\n",
    "    sys.path.append(root_abs)\n",
    "print(root_abs)\n"
   ]
  },
  {
   "cell_type": "code",
   "execution_count": null,
   "id": "673fdddbd5990884",
   "metadata": {
    "ExecuteTime": {
     "end_time": "",
     "start_time": ""
    }
   },
   "outputs": [],
   "source": [
    "import h5py\n",
    "\n",
    "import time\n",
    "from tqdm import tqdm"
   ]
  },
  {
   "cell_type": "markdown",
   "id": "7f73d50f7e10dc7f",
   "metadata": {},
   "source": [
    "# テストデータのpath"
   ]
  },
  {
   "cell_type": "code",
   "execution_count": null,
   "id": "646333b3b5a559f3",
   "metadata": {
    "ExecuteTime": {
     "end_time": "",
     "start_time": ""
    }
   },
   "outputs": [],
   "source": [
    "nxs_path = \"OIbDia08_6_00000.nxs\"\n",
    "poni_path = \"pyFAI_calib2_MgS400_CeO2_240511.poni\""
   ]
  },
  {
   "cell_type": "markdown",
   "id": "48eead326b18fdc7",
   "metadata": {},
   "source": [
    "# nxsクラス"
   ]
  },
  {
   "cell_type": "code",
   "execution_count": null,
   "id": "d3e9075b61fd36e4",
   "metadata": {
    "ExecuteTime": {
     "end_time": "",
     "start_time": ""
    }
   },
   "outputs": [],
   "source": [
    "# nxsインスタンス\n",
    "from model.XRD.Nxs import NxsFile\n",
    "nxs = NxsFile(filepath=nxs_path)"
   ]
  },
  {
   "cell_type": "code",
   "execution_count": null,
   "id": "4e8d2a02453ab33f",
   "metadata": {
    "ExecuteTime": {
     "end_time": "",
     "start_time": ""
    }
   },
   "outputs": [],
   "source": [
    "nxs.set_poni(poni_path=poni_path)"
   ]
  },
  {
   "cell_type": "code",
   "execution_count": null,
   "id": "73810cb1a97f0f50",
   "metadata": {
    "ExecuteTime": {
     "end_time": "",
     "start_time": ""
    }
   },
   "outputs": [],
   "source": [
    "nxs.read_file()"
   ]
  },
  {
   "cell_type": "code",
   "execution_count": null,
   "id": "a4bfa577ac13e8de",
   "metadata": {
    "ExecuteTime": {
     "end_time": "",
     "start_time": ""
    }
   },
   "outputs": [],
   "source": [
    "def show_hdf5_hierarchy(f, indent=0, path=\"\"):\n",
    "    for key in f.keys():\n",
    "        print(\" \" * indent + \"/\" + key)  # グループ名を出力\n",
    "        current_path = path + \"/\" + key\n",
    "        if isinstance(f[key], h5py.Group): # もしkey先がgroupの場合\n",
    "            show_hdf5_hierarchy(f[key], indent + 4, path=current_path)  # グループ内のさらに深い階層を出力\n",
    "        else:\n",
    "            print(\" \" * indent + f\" --> path:  \\\"{current_path}\\\"\")\n",
    "            print(\" \" * indent + f\"       L {type(f[key])}\")\n",
    "            dataset = f[key]\n",
    "\n",
    "            if dataset.shape == (): # スカラー(単一値)の場合\n",
    "                value = str(dataset[()]) # スカラーの場合の読み取り\n",
    "            else:\n",
    "                value = str(f.get(key)[0])\n",
    "\n",
    "            if len(value) > 20:\n",
    "                print(\" \" * indent + f\"       L {value[:20]}\")\n",
    "            else:\n",
    "                print(\" \" * indent + f\"       L {value}\")"
   ]
  },
  {
   "cell_type": "code",
   "execution_count": null,
   "id": "3b6c00f4131ab79",
   "metadata": {
    "ExecuteTime": {
     "end_time": "",
     "start_time": ""
    }
   },
   "outputs": [],
   "source": [
    "show_hdf5_hierarchy(nxs.data_file)"
   ]
  },
  {
   "cell_type": "markdown",
   "id": "b8834b8b54c5141d",
   "metadata": {},
   "source": [
    "# 取り出すものメモ\n",
    "\n",
    "とりあえず意味ありそうなものコピペして、優先順位低い(今は使いそうにない)ものにはxを、使うものにはoをつける\n",
    "\n",
    "1 x\n",
    "            /acquisition_mode\n",
    "             --> path:  \"/entry/instrument/detector/acquisition_mode\"\n",
    "                   L <class 'h5py._hl.dataset.Dataset'>\n",
    "                   L b'ContinuousReadWrit\n",
    "\n",
    "2 x\n",
    "            /bit_depth_readout\n",
    "             --> path:  \"/entry/instrument/detector/bit_depth_readout\"\n",
    "                   L <class 'h5py._hl.dataset.Dataset'>\n",
    "                   L 12\n",
    "\n",
    "3 o\n",
    "\n",
    "                /frame_numbers\n",
    "                 --> path:  \"/entry/instrument/detector/collection/frame_numbers\"\n",
    "                       L <class 'h5py._hl.dataset.Dataset'>\n",
    "                       L 4000\n",
    "                       \n",
    "4 o\n",
    "\n",
    "                /save_file_name\n",
    "                 --> path:  \"/entry/instrument/detector/collection/save_file_name\"\n",
    "                       L <class 'h5py._hl.dataset.Dataset'>\n",
    "                       L b'OIbDia08_6_00000'\n",
    "                       \n",
    "5 o\n",
    "\n",
    "            /count_time\n",
    "             --> path:  \"/entry/instrument/detector/count_time\"\n",
    "                   L <class 'h5py._hl.dataset.Dataset'>\n",
    "                   L 5.0\n",
    "                       \n",
    "6 x\n",
    "                /threshold_energy\n",
    "                 --> path:  \"/entry/instrument/detector/collection/threshold_energy\"\n",
    "                       L <class 'h5py._hl.dataset.Dataset'>\n",
    "                       L 15000.0\n",
    "                       \n",
    "7 o\n",
    "\n",
    "            /data\n",
    "             --> path:  \"/entry/instrument/detector/data\"\n",
    "                   L <class 'h5py._hl.dataset.Dataset'>\n",
    "                   L [[0 0 0 ... 1 3 4]\n",
    "                   \n",
    "8 x\n",
    "            /description\n",
    "             --> path:  \"/entry/instrument/detector/description\"\n",
    "                   L <class 'h5py._hl.dataset.Dataset'>\n",
    "                   L b'Lambda'\n",
    "                   \n",
    "9 x\n",
    "            /detector_readout_time\n",
    "             --> path:  \"/entry/instrument/detector/detector_readout_time\"\n",
    "                   L <class 'h5py._hl.dataset.Dataset'>\n",
    "                   L 0.0\n",
    "                   \n",
    "10 x\n",
    "            /pixelmask\n",
    "             --> path:  \"/entry/instrument/detector/pixelmask\"\n",
    "                   L <class 'h5py._hl.dataset.Dataset'>\n",
    "                   L [[0 0 0 ... 0 0 0]\n",
    "                   \n",
    "11 o\n",
    "\n",
    "            /saturation_value\n",
    "             --> path:  \"/entry/instrument/detector/saturation_value\"\n",
    "                   L <class 'h5py._hl.dataset.Dataset'>\n",
    "                   L 4095\n",
    "                   \n",
    "12 x\n",
    "            /sensor_material\n",
    "             --> path:  \"/entry/instrument/detector/sensor_material\"\n",
    "                   L <class 'h5py._hl.dataset.Dataset'>\n",
    "                   L b'CdTe'\n",
    "                   \n",
    "13 x\n",
    "            /sensor_thickness\n",
    "             --> path:  \"/entry/instrument/detector/sensor_thickness\"\n",
    "                   L <class 'h5py._hl.dataset.Dataset'>\n",
    "                   L 300.0\n",
    "                   \n",
    "14 x\n",
    "            /type\n",
    "             --> path:  \"/entry/instrument/detector/type\"\n",
    "                   L <class 'h5py._hl.dataset.Dataset'>\n",
    "                   L b'photon counting'\n",
    "                   \n",
    "15 o\n",
    "\n",
    "            /x_pixel_size\n",
    "             --> path:  \"/entry/instrument/detector/x_pixel_size\"\n",
    "                   L <class 'h5py._hl.dataset.Dataset'>\n",
    "                   L 55.0\n",
    "                   \n",
    "16 o\n",
    "\n",
    "            /y_pixel_size\n",
    "             --> path:  \"/entry/instrument/detector/y_pixel_size\"\n",
    "                   L <class 'h5py._hl.dataset.Dataset'>\n",
    "                   L 55.0"
   ]
  },
  {
   "cell_type": "markdown",
   "id": "297eb2a9d572333c",
   "metadata": {},
   "source": [
    "# データを取り出す準備"
   ]
  },
  {
   "cell_type": "code",
   "execution_count": null,
   "id": "289bd27172a37891",
   "metadata": {
    "ExecuteTime": {
     "end_time": "",
     "start_time": ""
    }
   },
   "outputs": [],
   "source": [
    "def return_data(f: h5py.File, data_path: str, shape: list = None): # あとでクラスに実装\n",
    "    dataset = f[data_path]\n",
    "\n",
    "    if dataset.shape == (): # スカラー(単一値)の場合\n",
    "        print(\"This is scalar.\\n\")\n",
    "        value = dataset[()] # スカラーの場合の読み取り\n",
    "    else:\n",
    "        if shape is None: # スライス指定がない場合\n",
    "            value = f.get(data_path)[:]\n",
    "        else: # スライス指定がある場合\n",
    "            value = f.get(data_path)[tuple(shape)] # 部分的に返す\n",
    "\n",
    "    return value"
   ]
  },
  {
   "cell_type": "code",
   "execution_count": null,
   "id": "6e33372771760a67",
   "metadata": {
    "ExecuteTime": {
     "end_time": "",
     "start_time": ""
    }
   },
   "outputs": [],
   "source": [
    "# データpathコピペがめんどくさいので、クエリで引っかかるものがあればそのpathをリストで返す関数を作る\n",
    "\n",
    "from model.File.HDF5 import HDF5\n",
    "hdf = HDF5(hdf = nxs.data_file)"
   ]
  },
  {
   "cell_type": "code",
   "execution_count": null,
   "id": "d1bd93d70fc9c08e",
   "metadata": {
    "ExecuteTime": {
     "end_time": "",
     "start_time": ""
    }
   },
   "outputs": [],
   "source": [
    "# 部分的な指定の場合\n",
    "# cakingとintegrationはこれを使う\n",
    "data_path = hdf.search_data_path(query = 'data')[0]\n",
    "partial_img = return_data(nxs.data_file, data_path=data_path, shape=[0])\n",
    "partial_img.shape"
   ]
  },
  {
   "cell_type": "markdown",
   "id": "3329c398387c5790",
   "metadata": {},
   "source": [
    "# 取り出していく"
   ]
  },
  {
   "cell_type": "code",
   "execution_count": null,
   "id": "dd4c06edfd2705d",
   "metadata": {
    "ExecuteTime": {
     "end_time": "",
     "start_time": ""
    }
   },
   "outputs": [],
   "source": [
    "print(hdf.search_data_path(query = 'save_file_name'))"
   ]
  },
  {
   "cell_type": "code",
   "execution_count": null,
   "id": "261534bfdd89e4ba",
   "metadata": {
    "ExecuteTime": {
     "end_time": "",
     "start_time": ""
    }
   },
   "outputs": [],
   "source": [
    "# ファイル名\n",
    "data_path = hdf.search_data_path(query = 'save_file_name')[0]\n",
    "filename = return_data(nxs.data_file, data_path=data_path)\n",
    "\n",
    "filename = filename[0]\n",
    "\n",
    "print(f\"{filename = }\")\n",
    "print(f\"{type(filename) = }\\n\")\n",
    "\n",
    "filename = filename.decode(\"utf-8\")\n",
    "\n",
    "print(f\"{filename = }\")\n",
    "print(f\"{type(filename) = }\")"
   ]
  },
  {
   "cell_type": "code",
   "execution_count": null,
   "id": "7050ae1962979cb0",
   "metadata": {
    "ExecuteTime": {
     "end_time": "",
     "start_time": ""
    }
   },
   "outputs": [],
   "source": [
    "# frame_num\n",
    "data_path = hdf.search_data_path(query = 'frame_num')[0]\n",
    "\n",
    "frame_num = return_data(nxs.data_file, data_path=data_path)\n",
    "\n",
    "frame_num = frame_num[0]\n",
    "\n",
    "print(f\"{frame_num = }\")\n",
    "print(f\"{type(frame_num) = }\\n\")\n"
   ]
  },
  {
   "cell_type": "code",
   "execution_count": null,
   "id": "2e23c4e749f69f7b",
   "metadata": {
    "ExecuteTime": {
     "end_time": "",
     "start_time": ""
    }
   },
   "outputs": [],
   "source": [
    "# count_time\n",
    "data_path = hdf.search_data_path(query = 'count_time')[0]\n",
    "\n",
    "count_time = return_data(nxs.data_file, data_path=data_path)\n",
    "\n",
    "count_time = count_time[0]\n",
    "\n",
    "count_time, type(count_time)"
   ]
  },
  {
   "cell_type": "code",
   "execution_count": null,
   "id": "e32fec0dd1fe1cc5",
   "metadata": {
    "ExecuteTime": {
     "end_time": "",
     "start_time": ""
    }
   },
   "outputs": [],
   "source": [
    "# img\n",
    "data_path = hdf.search_data_path(query = 'data')[0]\n",
    "\n",
    "img = return_data(nxs.data_file, data_path=data_path)\n",
    "\n",
    "# print(\"stop\")\n",
    "# time.sleep(10)\n",
    "# print(\"resume\")\n",
    "\n",
    "# 消しちゃう(こともあった)ので、ここで定義しておく\n",
    "x_shape = img.shape[1]\n",
    "y_shape = img.shape[2]\n",
    "\n",
    "# del img"
   ]
  },
  {
   "cell_type": "code",
   "execution_count": null,
   "id": "4148e499b5f87d75",
   "metadata": {
    "ExecuteTime": {
     "end_time": "",
     "start_time": ""
    }
   },
   "outputs": [],
   "source": [
    "# saturation_value\n",
    "data_path = hdf.search_data_path(query = 'saturation_value')[0]\n",
    "\n",
    "saturation_value = return_data(nxs.data_file, data_path=data_path)[0] # shapeが(1,)なら、shapeオプションでなくこのように指定してOK\n",
    "\n",
    "print(f\"{saturation_value = }\")"
   ]
  },
  {
   "cell_type": "code",
   "execution_count": null,
   "id": "e1140c3938ba9f2c",
   "metadata": {
    "ExecuteTime": {
     "end_time": "",
     "start_time": ""
    }
   },
   "outputs": [],
   "source": [
    "# x_pixel_size\n",
    "data_path = hdf.search_data_path(query = 'x_pixel_size')[0]\n",
    "\n",
    "x_pixel_size = return_data(nxs.data_file, data_path=data_path)[0]\n",
    "\n",
    "print(f\"{x_pixel_size = }\")"
   ]
  },
  {
   "cell_type": "code",
   "execution_count": null,
   "id": "d45c22f613f4052c",
   "metadata": {
    "ExecuteTime": {
     "end_time": "",
     "start_time": ""
    }
   },
   "outputs": [],
   "source": [
    "# y_pixel_size\n",
    "\n",
    "data_path = hdf.search_data_path(query = 'y_pixel_size')[0]\n",
    "\n",
    "y_pixel_size = return_data(nxs.data_file, data_path=data_path)[0]\n",
    "\n",
    "print(f\"{y_pixel_size = }\")\n",
    "\n"
   ]
  },
  {
   "cell_type": "markdown",
   "id": "f09dcedf8236d86",
   "metadata": {},
   "source": [
    "# 格納データを作成する"
   ]
  },
  {
   "cell_type": "code",
   "execution_count": null,
   "id": "c38f4c6525622e19",
   "metadata": {
    "ExecuteTime": {
     "end_time": "",
     "start_time": ""
    }
   },
   "outputs": [],
   "source": [
    "# exposure_ms\n",
    "\n",
    "exposure_ms = count_time / 1_000\n",
    "\n",
    "print(f\"{exposure_ms = }\")"
   ]
  },
  {
   "cell_type": "code",
   "execution_count": null,
   "id": "2e15fffa2a98a5b9",
   "metadata": {
    "ExecuteTime": {
     "end_time": "",
     "start_time": ""
    }
   },
   "outputs": [],
   "source": [
    "# fps\n",
    "fps = 1 / exposure_ms\n",
    "\n",
    "print(f\"{fps = }\")"
   ]
  },
  {
   "cell_type": "code",
   "execution_count": null,
   "id": "e66545fda76f4301",
   "metadata": {
    "ExecuteTime": {
     "end_time": "",
     "start_time": ""
    }
   },
   "outputs": [],
   "source": [
    "# x_shape\n",
    "# 定義はimgでやってる\n",
    "\n",
    "print(f\"{x_shape = }\")"
   ]
  },
  {
   "cell_type": "code",
   "execution_count": null,
   "id": "81ea89686d002e23",
   "metadata": {
    "ExecuteTime": {
     "end_time": "",
     "start_time": ""
    }
   },
   "outputs": [],
   "source": [
    "# y_shape\n",
    "# 定義はimgでやってる\n",
    "\n",
    "print(f\"{y_shape = }\")"
   ]
  },
  {
   "cell_type": "code",
   "execution_count": null,
   "id": "5320be58d58e7e14",
   "metadata": {
    "ExecuteTime": {
     "end_time": "",
     "start_time": ""
    }
   },
   "outputs": [],
   "source": [
    "# cakingとintegration\n",
    "# メモリ見ながら試す。爆発しそうなら何とか分ける\n",
    "# 温度とかも格納することを考えると、保存し終わった後にオブジェクトを消して、ちゃんとメモリが解放されいてることを確かめる必要がある\n",
    "npt_rad = 2000\n",
    "npt_azi = 360\n",
    "\n",
    "cake = np.zeros((frame_num, npt_azi, npt_rad))\n",
    "I = np.zeros((frame_num, npt_rad))\n",
    "\n",
    "data_path = hdf.search_data_path(query = 'data')[0]\n",
    "\n",
    "for frame in tqdm(range(frame_num)):\n",
    "    # 1frame分のデータを取得\n",
    "    partial_img = return_data(nxs.data_file, data_path=data_path, shape=[frame])\n",
    "\n",
    "    # caking\n",
    "    cake_tmp, tth, azi = nxs.ai.integrate2d(partial_img,\n",
    "                                            npt_rad=npt_rad, # NOTE これはintegrate_1dと揃える\n",
    "                                            npt_azim=npt_azi,\n",
    "                                            unit=\"2th_deg\") # ここでmask渡す\n",
    "    cake[frame] = cake_tmp\n",
    "    \n",
    "    # integration\n",
    "    tth, I_tmp = nxs.ai.integrate1d(partial_img,\n",
    "                                    npt=npt_rad,\n",
    "                                    unit=\"2th_deg\") # ここでmask渡す\n",
    "    I[frame] = I_tmp\n"
   ]
  },
  {
   "cell_type": "markdown",
   "id": "49f1bedd71ea6e5e",
   "metadata": {},
   "source": [
    "# cakingとintegrationができているかplotで確認"
   ]
  },
  {
   "cell_type": "code",
   "execution_count": null,
   "id": "31e7d9b23b792d07",
   "metadata": {
    "ExecuteTime": {
     "end_time": "",
     "start_time": ""
    }
   },
   "outputs": [],
   "source": [
    "import matplotlib.pyplot as plt\n",
    "plt.imshow(I, aspect='auto')"
   ]
  },
  {
   "cell_type": "code",
   "execution_count": null,
   "id": "3ea30282cd82e44d",
   "metadata": {
    "ExecuteTime": {
     "end_time": "",
     "start_time": ""
    }
   },
   "outputs": [],
   "source": [
    "plt.imshow(cake[0], aspect='auto')"
   ]
  },
  {
   "cell_type": "code",
   "execution_count": null,
   "id": "2382fdb4311c7d8d",
   "metadata": {
    "ExecuteTime": {
     "end_time": "",
     "start_time": ""
    }
   },
   "outputs": [],
   "source": [
    "plt.plot(I[0])"
   ]
  },
  {
   "cell_type": "markdown",
   "id": "de7ccdaa22769605",
   "metadata": {},
   "source": [
    "# 格納する"
   ]
  },
  {
   "cell_type": "code",
   "execution_count": null,
   "id": "8fd559240da28168",
   "metadata": {
    "ExecuteTime": {
     "end_time": "",
     "start_time": ""
    }
   },
   "outputs": [],
   "source": [
    "# テスト用のHDFファイルを作る\n",
    "# WARNING 初期化も兼ねてるので注意\n",
    "\n",
    "hdf5_name = 'hdf/test_nxs.hdf5'\n",
    "\n",
    "base_layer = 'entry/'\n",
    "\n",
    "test_layer = base_layer + 'test_str'\n",
    "\n",
    "with h5py.File(hdf5_name, \"w\") as f:\n",
    "    f.create_dataset(test_layer, data=\"nxs_test\")"
   ]
  },
  {
   "cell_type": "code",
   "execution_count": null,
   "id": "23b031435c5e9ad3",
   "metadata": {
    "ExecuteTime": {
     "end_time": "",
     "start_time": ""
    }
   },
   "outputs": [],
   "source": [
    "with h5py.File(hdf5_name, \"r\") as f:\n",
    "    show_hdf5_hierarchy(f=f)"
   ]
  },
  {
   "cell_type": "code",
   "execution_count": null,
   "id": "4f6571c2bbbe43fe",
   "metadata": {
    "ExecuteTime": {
     "end_time": "",
     "start_time": ""
    }
   },
   "outputs": [],
   "source": [
    "# layerを作る\n",
    "layer_var = [ # これを変数名に指定れば、execで一括実行できる\n",
    "    'nxs_path',\n",
    "    'poni_path',\n",
    "    'filename',\n",
    "    'frame_num',\n",
    "    'count_time',\n",
    "    'img',\n",
    "    'saturation_value',\n",
    "    'x_pixel_size',\n",
    "    'y_pixel_size',\n",
    "    'exposure_ms',\n",
    "    'fps',\n",
    "    'x_shape',\n",
    "    'y_shape',\n",
    "    'cake',\n",
    "    'I'\n",
    "]\n",
    "\n",
    "layer_list = []\n",
    "\n",
    "for layer in layer_var:\n",
    "    layer_name = base_layer + 'nxs/' + layer\n",
    "    layer_list.append(layer_name)\n",
    "\n",
    "layer_list"
   ]
  },
  {
   "cell_type": "code",
   "execution_count": null,
   "id": "a3f7184cd6250d8",
   "metadata": {
    "ExecuteTime": {
     "end_time": "",
     "start_time": ""
    }
   },
   "outputs": [],
   "source": [
    "layer_list[0]"
   ]
  },
  {
   "cell_type": "code",
   "execution_count": null,
   "id": "4e126adbe8caf23",
   "metadata": {
    "ExecuteTime": {
     "end_time": "",
     "start_time": ""
    }
   },
   "outputs": [],
   "source": [
    "# 書き込み\n",
    "compression_list = ['img', 'cake', 'I']\n",
    "\n",
    "with h5py.File(hdf5_name, \"a\") as f:\n",
    "    for i in range(len(layer_var)):\n",
    "        if layer_var[i] in compression_list: # 圧縮する場合\n",
    "            # NOTE とりあえずお任せにしている部分が多い。さらに圧縮したり適切なchunk sizeを決められたりする(読み出しに時間がかかるようになる)\n",
    "            exec(f\"f.create_dataset(\\\"{layer_list[i]}\\\", data={layer_var[i]}, compression='gzip')\")\n",
    "        else:\n",
    "            exec(f\"f.create_dataset(\\\"{layer_list[i]}\\\", data={layer_var[i]})\")\n"
   ]
  },
  {
   "cell_type": "code",
   "execution_count": null,
   "id": "1178565fd5643584",
   "metadata": {
    "ExecuteTime": {
     "end_time": "",
     "start_time": ""
    }
   },
   "outputs": [],
   "source": [
    "with h5py.File(hdf5_name, \"r\") as f:\n",
    "    show_hdf5_hierarchy(f=f)"
   ]
  },
  {
   "cell_type": "markdown",
   "id": "5770ee9f78235b84",
   "metadata": {},
   "source": [
    "# テストとして読み出し"
   ]
  },
  {
   "cell_type": "code",
   "execution_count": null,
   "id": "7f0ddcd485482048",
   "metadata": {
    "ExecuteTime": {
     "end_time": "",
     "start_time": ""
    }
   },
   "outputs": [],
   "source": [
    "with h5py.File(hdf5_name, \"r\") as f:\n",
    "    arr = return_data(f=f, data_path='entry/nxs/cake', shape=[0])\n",
    "arr.shape"
   ]
  },
  {
   "cell_type": "code",
   "execution_count": null,
   "id": "1826fe1b3aff25ea",
   "metadata": {},
   "outputs": [],
   "source": [
    "plt.imshow(arr, aspect='auto')"
   ]
  },
  {
   "cell_type": "markdown",
   "id": "bdad8fcaa0fa8eef",
   "metadata": {},
   "source": [
    "# でかい変数が残ってれば消す"
   ]
  },
  {
   "cell_type": "code",
   "execution_count": null,
   "id": "acd37b58776b3d98",
   "metadata": {
    "ExecuteTime": {
     "end_time": "",
     "start_time": ""
    }
   },
   "outputs": [],
   "source": [
    "# この検索は完全じゃなさそう\n",
    "# 部分被りでも分岐に入ってしまいそう\n",
    "# TODO 改善\n",
    "\n",
    "if 'cake' in locals():\n",
    "    del cake\n",
    "if 'I' in locals():\n",
    "    del I\n",
    "if 'img' in locals():\n",
    "    del img"
   ]
  },
  {
   "cell_type": "code",
   "execution_count": null,
   "id": "f3644f2931dacc20",
   "metadata": {},
   "outputs": [],
   "source": []
  },
  {
   "cell_type": "code",
   "execution_count": null,
   "id": "f5b87e331d2a001e",
   "metadata": {},
   "outputs": [],
   "source": []
  },
  {
   "cell_type": "markdown",
   "id": "49de9b7afdfcadd5",
   "metadata": {},
   "source": [
    "# スプライン補間を試す"
   ]
  },
  {
   "cell_type": "code",
   "execution_count": null,
   "id": "1a1da415b4b3c81",
   "metadata": {
    "ExecuteTime": {
     "end_time": "",
     "start_time": ""
    }
   },
   "outputs": [],
   "source": [
    "hdf5_name = 'hdf/test_nxs.hdf5'\n",
    "\n",
    "with h5py.File(hdf5_name, \"r\") as f:\n",
    "    arr = return_data(f=f, data_path='entry/nxs/I', shape=[0])\n",
    "arr.shape\n"
   ]
  },
  {
   "cell_type": "code",
   "execution_count": null,
   "id": "be4f401375ebd793",
   "metadata": {
    "ExecuteTime": {
     "end_time": "",
     "start_time": ""
    }
   },
   "outputs": [],
   "source": [
    "import matplotlib.pyplot as plt\n",
    "plt.plot(arr)"
   ]
  },
  {
   "cell_type": "code",
   "execution_count": null,
   "id": "de0953caf3ee612e",
   "metadata": {
    "ExecuteTime": {
     "end_time": "",
     "start_time": ""
    }
   },
   "outputs": [],
   "source": [
    "from scipy.signal import savgol_filter"
   ]
  },
  {
   "cell_type": "code",
   "execution_count": null,
   "id": "50a079548b03a2a0",
   "metadata": {
    "ExecuteTime": {
     "end_time": "",
     "start_time": ""
    }
   },
   "outputs": [],
   "source": [
    "background = savgol_filter(arr, 101, 2) # y, window, order"
   ]
  },
  {
   "cell_type": "code",
   "execution_count": null,
   "id": "2f43661f176e4a59",
   "metadata": {
    "ExecuteTime": {
     "end_time": "",
     "start_time": ""
    }
   },
   "outputs": [],
   "source": [
    "plt.plot(arr)\n",
    "plt.plot(background)"
   ]
  },
  {
   "cell_type": "code",
   "execution_count": null,
   "id": "d0a4b0c88c7004a6",
   "metadata": {
    "ExecuteTime": {
     "end_time": "",
     "start_time": ""
    }
   },
   "outputs": [],
   "source": [
    "from xypattern.pattern import SmoothBrucknerBackground\n",
    "from xypattern import Pattern"
   ]
  },
  {
   "cell_type": "code",
   "execution_count": null,
   "id": "f844d1fec4cb50ab",
   "metadata": {
    "ExecuteTime": {
     "end_time": "",
     "start_time": ""
    }
   },
   "outputs": [],
   "source": [
    "x = np.arange(arr.shape[0])\n",
    "bkg = [arr]\n",
    "\n",
    "auto_bkg = SmoothBrucknerBackground(*(0.1, 150, 50))\n",
    "\n",
    "for i in range(3):\n",
    "    bkg.append(auto_bkg.extract_background(Pattern(x, bkg[i])))"
   ]
  },
  {
   "cell_type": "code",
   "execution_count": null,
   "id": "3f0e7e358d683a5e",
   "metadata": {
    "ExecuteTime": {
     "end_time": "",
     "start_time": ""
    }
   },
   "outputs": [],
   "source": [
    "plt.plot(arr)\n",
    "for i in range(len(bkg)):\n",
    "    plt.plot(bkg[i], label=f\"{i}\")\n",
    "plt.legend()\n"
   ]
  },
  {
   "cell_type": "code",
   "execution_count": null,
   "id": "49f700fb40722548",
   "metadata": {
    "ExecuteTime": {
     "end_time": "",
     "start_time": ""
    }
   },
   "outputs": [],
   "source": [
    "plt.plot(bkg[3] - bkg[2])"
   ]
  },
  {
   "cell_type": "markdown",
   "id": "f331e3bbd1fde24c",
   "metadata": {},
   "source": [
    "## ↓これがdioptasと同じっぽい？よくfittingできてる"
   ]
  },
  {
   "cell_type": "code",
   "execution_count": null,
   "id": "c2ef91ec55a11a01",
   "metadata": {
    "ExecuteTime": {
     "end_time": "",
     "start_time": ""
    }
   },
   "outputs": [],
   "source": [
    "# https://github.com/SHDShim/PeakPo/blob/4c522e147e7715bceba218de58ee185cccd2055e/peakpo/ds_powdiff/background.py\n",
    "import numpy as np\n",
    "\n",
    "\n",
    "def fit_bg_cheb_auto(x, y_obs, n_points=20, n_iteration=10, n_cheborder=20,\n",
    "                     accurate=True):\n",
    "    \"\"\"\n",
    "    this returns cheb parameter for fitted background\n",
    "    best for synchrotron XRD is:\n",
    "        N_points = 20, N_iteration = 10, N_cheborder = 20\n",
    "    :param x: x\n",
    "    :param y_obs: observed y\n",
    "    :param n_points:\n",
    "    :param n_iteration:\n",
    "    :param n_cheborder:\n",
    "    :param accurate:\n",
    "    \"\"\"\n",
    "    y_bg_smooth = smooth_bruckner(x, y_obs, n_points, n_iteration)\n",
    "\n",
    "    # get cheb input parameters\n",
    "    x_cheb = 2. * (x - x[0]) / (x[-1] - x[0]) - 1.\n",
    "    cheb_parameters = np.polynomial.chebyshev.chebfit(\n",
    "        x_cheb, y_bg_smooth, n_cheborder)\n",
    "    if accurate:\n",
    "        return np.polynomial.chebyshev.chebval(x_cheb, cheb_parameters)\n",
    "    else:\n",
    "        return cheb_parameters\n",
    "\n",
    "\n",
    "def smooth_bruckner(x, y_obs, n_smooth, n_iter):\n",
    "    y_original = y_obs\n",
    "\n",
    "    n_data = y_obs.size\n",
    "    n = n_smooth\n",
    "    y = np.empty(n_data + n + n)\n",
    "\n",
    "    y[n:n + n_data] = y_original[0:n_data]\n",
    "    y[0:n].fill(y_original[n])\n",
    "    y[n + n_data:n_data + n + n].fill(y_original[-1])\n",
    "    y_new = y\n",
    "\n",
    "    y_avg = np.average(y)\n",
    "    y_min = np.min(y)\n",
    "\n",
    "    y_c = y_avg + 2. * (y_avg - y_min)\n",
    "\n",
    "    y[np.where(y > y_c)] = y_c\n",
    "\n",
    "    for j in range(0, n_iter):\n",
    "        for i in range(n, n_data - 1 - n - 1):\n",
    "            y_new[i] = np.min([y[i], np.average(y[i - n:i + n + 1])])\n",
    "        y = y_new\n",
    "\n",
    "    return y[n:n + n_data]"
   ]
  },
  {
   "cell_type": "code",
   "execution_count": null,
   "id": "b88adfa88d16bf87",
   "metadata": {
    "ExecuteTime": {
     "end_time": "",
     "start_time": ""
    }
   },
   "outputs": [],
   "source": [
    "bkg2 = fit_bg_cheb_auto(x=x, y_obs=arr)"
   ]
  },
  {
   "cell_type": "code",
   "execution_count": null,
   "id": "27c1b9ff6a67113",
   "metadata": {
    "ExecuteTime": {
     "end_time": "",
     "start_time": ""
    }
   },
   "outputs": [],
   "source": [
    "plt.plot(arr)\n",
    "plt.plot(bkg2)"
   ]
  },
  {
   "cell_type": "code",
   "execution_count": null,
   "id": "37441f1d3f2af50",
   "metadata": {
    "ExecuteTime": {
     "end_time": "",
     "start_time": ""
    }
   },
   "outputs": [],
   "source": [
    "plt.plot(arr-bkg2)"
   ]
  },
  {
   "cell_type": "markdown",
   "id": "47d81f14a5dc9203",
   "metadata": {},
   "source": [
    "# Mask処理を試す"
   ]
  },
  {
   "cell_type": "code",
   "execution_count": null,
   "id": "1ddb323c62771b75",
   "metadata": {
    "ExecuteTime": {
     "end_time": "",
     "start_time": ""
    }
   },
   "outputs": [],
   "source": [
    "mask_path = '/Users/ishizawaosamu/work/ipynb/BL10XU_notebook/base/data/lambda_mask.npy' # pyFAI-calib2で、強度10未満をマスク\n",
    "mask = np.load(mask_path)"
   ]
  },
  {
   "cell_type": "code",
   "execution_count": null,
   "id": "1b5e4e438900cef",
   "metadata": {
    "ExecuteTime": {
     "end_time": "",
     "start_time": ""
    }
   },
   "outputs": [],
   "source": [
    "mask.shape"
   ]
  },
  {
   "cell_type": "code",
   "execution_count": null,
   "id": "4bdc615622319539",
   "metadata": {
    "ExecuteTime": {
     "end_time": "",
     "start_time": ""
    }
   },
   "outputs": [],
   "source": [
    "hdf5_name = 'hdf/test_nxs.hdf5'\n",
    "\n",
    "with h5py.File(hdf5_name, \"r\") as f:\n",
    "    data = return_data(f=f, data_path='entry/nxs/img', shape=[0])\n",
    "    poni_path = return_data(f=f, data_path='entry/nxs/poni_path').decode('utf-8')\n",
    "data.shape, poni_path\n"
   ]
  },
  {
   "cell_type": "code",
   "execution_count": null,
   "id": "acb22cf1ede0f01a",
   "metadata": {
    "ExecuteTime": {
     "end_time": "",
     "start_time": ""
    }
   },
   "outputs": [],
   "source": [
    "plt.imshow(data)"
   ]
  },
  {
   "cell_type": "code",
   "execution_count": null,
   "id": "88e91e35bb5c1c7a",
   "metadata": {
    "ExecuteTime": {
     "end_time": "",
     "start_time": ""
    }
   },
   "outputs": [],
   "source": [
    "from pyFAI.azimuthalIntegrator import AzimuthalIntegrator\n",
    "ai = AzimuthalIntegrator().load(poni_path)"
   ]
  },
  {
   "cell_type": "code",
   "execution_count": null,
   "id": "9189bf046e6560b9",
   "metadata": {
    "ExecuteTime": {
     "end_time": "",
     "start_time": ""
    }
   },
   "outputs": [],
   "source": [
    "tth, I_tmp = ai.integrate1d(data, npt=1000, unit='2th_deg', mask=mask)"
   ]
  },
  {
   "cell_type": "code",
   "execution_count": null,
   "id": "f0d918d641ce1338",
   "metadata": {},
   "outputs": [],
   "source": [
    "I_tmp.shape"
   ]
  },
  {
   "cell_type": "code",
   "execution_count": null,
   "id": "e535b6a319c5612f",
   "metadata": {},
   "outputs": [],
   "source": [
    "plt.plot(I_tmp)"
   ]
  },
  {
   "cell_type": "code",
   "execution_count": null,
   "id": "38419e696f2303ab",
   "metadata": {},
   "outputs": [],
   "source": [
    "# background引いてみる\n",
    "x = np.arange(I_tmp.shape[0])\n",
    "bkg2 = fit_bg_cheb_auto(x=x, y_obs=I_tmp)\n",
    "\n",
    "plt.plot(I_tmp)\n",
    "plt.plot(bkg2)"
   ]
  },
  {
   "cell_type": "code",
   "execution_count": null,
   "id": "b513b10ad0488e62",
   "metadata": {
    "ExecuteTime": {
     "end_time": "",
     "start_time": ""
    }
   },
   "outputs": [],
   "source": [
    "# cakingもしてみる\n",
    "import pandas as pd\n",
    "cake_tmp, tth, azi = ai.integrate2d(data, npt_rad=1000, npt_azim=360, unit='2th_deg', mask=mask)\n",
    "df = pd.DataFrame(cake_tmp)"
   ]
  },
  {
   "cell_type": "code",
   "execution_count": null,
   "id": "c3804b104479b16",
   "metadata": {
    "ExecuteTime": {
     "end_time": "",
     "start_time": ""
    }
   },
   "outputs": [],
   "source": [
    "plt.imshow(cake_tmp, aspect='auto') # maskされてない？"
   ]
  },
  {
   "cell_type": "code",
   "execution_count": null,
   "id": "b99618457fb9b3c0",
   "metadata": {
    "ExecuteTime": {
     "end_time": "",
     "start_time": ""
    }
   },
   "outputs": [],
   "source": [
    "plt.plot(df.sum(axis=0))"
   ]
  },
  {
   "cell_type": "code",
   "execution_count": null,
   "id": "2238bd3011737b15",
   "metadata": {
    "ExecuteTime": {
     "end_time": "",
     "start_time": ""
    }
   },
   "outputs": [],
   "source": []
  },
  {
   "cell_type": "code",
   "execution_count": null,
   "id": "b80cf0b078d31bf4",
   "metadata": {},
   "outputs": [],
   "source": []
  }
 ],
 "metadata": {
  "kernelspec": {
   "display_name": "Python 3",
   "language": "python",
   "name": "python3"
  },
  "language_info": {
   "codemirror_mode": {
    "name": "ipython",
    "version": 2
   },
   "file_extension": ".py",
   "mimetype": "text/x-python",
   "name": "python",
   "nbconvert_exporter": "python",
   "pygments_lexer": "ipython2",
   "version": "2.7.6"
  }
 },
 "nbformat": 4,
 "nbformat_minor": 5
}
