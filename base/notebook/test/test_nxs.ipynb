{
 "cells": [
  {
   "cell_type": "code",
   "execution_count": null,
   "id": "initial_id",
   "metadata": {
    "ExecuteTime": {
     "end_time": "",
     "start_time": ""
    },
    "collapsed": true
   },
   "outputs": [],
   "source": [
    "import os\n",
    "import sys\n",
    "import matplotlib.pyplot as plt\n",
    "import numpy as np\n",
    "\n",
    "\"\"\"\n",
    "このnotebookがbaseフォルダを読めるようになるための処理\n",
    "\"\"\"\n",
    "\n",
    "root_rel = '../../'\n",
    "\n",
    "# 相対パスを絶対パスに変換してsys.pathに追加\n",
    "root_abs = os.path.abspath(root_rel)\n",
    "if root_abs not in sys.path:\n",
    "    sys.path.append(root_abs)\n",
    "print(root_abs)\n"
   ]
  },
  {
   "cell_type": "code",
   "execution_count": null,
   "id": "673fdddbd5990884",
   "metadata": {
    "ExecuteTime": {
     "end_time": "",
     "start_time": ""
    }
   },
   "outputs": [],
   "source": [
    "import h5py"
   ]
  },
  {
   "cell_type": "markdown",
   "id": "7f73d50f7e10dc7f",
   "metadata": {},
   "source": [
    "# テストデータのpath"
   ]
  },
  {
   "cell_type": "code",
   "execution_count": null,
   "id": "646333b3b5a559f3",
   "metadata": {
    "ExecuteTime": {
     "end_time": "",
     "start_time": ""
    }
   },
   "outputs": [],
   "source": [
    "nxs_path = \"OIbDia08_6_00000.nxs\"\n",
    "poni_path = \"pyFAI_calib2_MgS400_CeO2_240511.poni\""
   ]
  },
  {
   "cell_type": "markdown",
   "id": "48eead326b18fdc7",
   "metadata": {},
   "source": [
    "# nxsクラス"
   ]
  },
  {
   "cell_type": "code",
   "execution_count": null,
   "id": "d3e9075b61fd36e4",
   "metadata": {
    "ExecuteTime": {
     "end_time": "",
     "start_time": ""
    }
   },
   "outputs": [],
   "source": [
    "# nxsインスタンス\n",
    "from model.XRD.Nxs import NxsFile\n",
    "nxs = NxsFile(filepath=nxs_path)"
   ]
  },
  {
   "cell_type": "code",
   "execution_count": null,
   "id": "4e8d2a02453ab33f",
   "metadata": {
    "ExecuteTime": {
     "end_time": "",
     "start_time": ""
    }
   },
   "outputs": [],
   "source": [
    "nxs.set_poni(poni_path=poni_path)"
   ]
  },
  {
   "cell_type": "code",
   "execution_count": null,
   "id": "73810cb1a97f0f50",
   "metadata": {
    "ExecuteTime": {
     "end_time": "",
     "start_time": ""
    }
   },
   "outputs": [],
   "source": [
    "nxs.read_file()"
   ]
  },
  {
   "cell_type": "code",
   "execution_count": null,
   "id": "93d4853fb1b65c88",
   "metadata": {
    "ExecuteTime": {
     "end_time": "",
     "start_time": ""
    }
   },
   "outputs": [],
   "source": [
    "nxs.show_data_path()"
   ]
  },
  {
   "cell_type": "code",
   "execution_count": null,
   "id": "a4bfa577ac13e8de",
   "metadata": {
    "ExecuteTime": {
     "end_time": "",
     "start_time": ""
    }
   },
   "outputs": [],
   "source": [
    "\n",
    "def show_hdf5_hierarchy(f, indent=0, path=\"\"):\n",
    "    for key in f.keys():\n",
    "        print(\" \" * indent + \"/\" + key)  # グループ名を出力\n",
    "        current_path = path + \"/\" + key\n",
    "        if isinstance(f[key], h5py.Group): # もしkey先がgroupの場合\n",
    "            show_hdf5_hierarchy(f[key], indent + 4, path=current_path)  # グループ内のさらに深い階層を出力\n",
    "        else:\n",
    "            print(\" \" * indent + f\" --> path:  \\\"{current_path}\\\"\")\n",
    "            print(\" \" * indent + f\"       L {type(f[key])}\")\n",
    "            dataset = f[key]\n",
    "\n",
    "            if dataset.shape == (): # スカラー(単一値)の場合\n",
    "                value = str(dataset[()]) # スカラーの場合の読み取り\n",
    "            else:\n",
    "                value = str(f.get(key)[0])\n",
    "\n",
    "            if len(value) > 20:\n",
    "                print(\" \" * indent + f\"       L {value[:20]}\")\n",
    "            else:\n",
    "                print(\" \" * indent + f\"       L {value}\")\n"
   ]
  },
  {
   "cell_type": "code",
   "execution_count": null,
   "id": "3b6c00f4131ab79",
   "metadata": {
    "ExecuteTime": {
     "end_time": "",
     "start_time": ""
    }
   },
   "outputs": [],
   "source": [
    "show_hdf5_hierarchy(nxs.data_file)"
   ]
  },
  {
   "cell_type": "markdown",
   "id": "b8834b8b54c5141d",
   "metadata": {},
   "source": [
    "# 取り出すものメモ\n",
    "\n",
    "とりあえず意味ありそうなものコピペして、優先順位低い(今は使いそうにない)ものにはxを、使うものにはoをつける\n",
    "\n",
    "1 x\n",
    "            /acquisition_mode\n",
    "             --> path:  \"/entry/instrument/detector/acquisition_mode\"\n",
    "                   L <class 'h5py._hl.dataset.Dataset'>\n",
    "                   L b'ContinuousReadWrit\n",
    "\n",
    "2 x\n",
    "            /bit_depth_readout\n",
    "             --> path:  \"/entry/instrument/detector/bit_depth_readout\"\n",
    "                   L <class 'h5py._hl.dataset.Dataset'>\n",
    "                   L 12\n",
    "\n",
    "3 o\n",
    "\n",
    "                /frame_numbers\n",
    "                 --> path:  \"/entry/instrument/detector/collection/frame_numbers\"\n",
    "                       L <class 'h5py._hl.dataset.Dataset'>\n",
    "                       L 4000\n",
    "                       \n",
    "4 o\n",
    "\n",
    "                /save_file_name\n",
    "                 --> path:  \"/entry/instrument/detector/collection/save_file_name\"\n",
    "                       L <class 'h5py._hl.dataset.Dataset'>\n",
    "                       L b'OIbDia08_6_00000'\n",
    "                       \n",
    "5 o\n",
    "\n",
    "            /count_time\n",
    "             --> path:  \"/entry/instrument/detector/count_time\"\n",
    "                   L <class 'h5py._hl.dataset.Dataset'>\n",
    "                   L 5.0\n",
    "                       \n",
    "6 x\n",
    "                /threshold_energy\n",
    "                 --> path:  \"/entry/instrument/detector/collection/threshold_energy\"\n",
    "                       L <class 'h5py._hl.dataset.Dataset'>\n",
    "                       L 15000.0\n",
    "                       \n",
    "7 o\n",
    "\n",
    "            /data\n",
    "             --> path:  \"/entry/instrument/detector/data\"\n",
    "                   L <class 'h5py._hl.dataset.Dataset'>\n",
    "                   L [[0 0 0 ... 1 3 4]\n",
    "                   \n",
    "8 x\n",
    "            /description\n",
    "             --> path:  \"/entry/instrument/detector/description\"\n",
    "                   L <class 'h5py._hl.dataset.Dataset'>\n",
    "                   L b'Lambda'\n",
    "                   \n",
    "9 x\n",
    "            /detector_readout_time\n",
    "             --> path:  \"/entry/instrument/detector/detector_readout_time\"\n",
    "                   L <class 'h5py._hl.dataset.Dataset'>\n",
    "                   L 0.0\n",
    "                   \n",
    "10 x\n",
    "            /pixelmask\n",
    "             --> path:  \"/entry/instrument/detector/pixelmask\"\n",
    "                   L <class 'h5py._hl.dataset.Dataset'>\n",
    "                   L [[0 0 0 ... 0 0 0]\n",
    "                   \n",
    "11 o\n",
    "\n",
    "            /saturation_value\n",
    "             --> path:  \"/entry/instrument/detector/saturation_value\"\n",
    "                   L <class 'h5py._hl.dataset.Dataset'>\n",
    "                   L 4095\n",
    "                   \n",
    "12 x\n",
    "            /sensor_material\n",
    "             --> path:  \"/entry/instrument/detector/sensor_material\"\n",
    "                   L <class 'h5py._hl.dataset.Dataset'>\n",
    "                   L b'CdTe'\n",
    "                   \n",
    "13 x\n",
    "            /sensor_thickness\n",
    "             --> path:  \"/entry/instrument/detector/sensor_thickness\"\n",
    "                   L <class 'h5py._hl.dataset.Dataset'>\n",
    "                   L 300.0\n",
    "                   \n",
    "14 x\n",
    "            /type\n",
    "             --> path:  \"/entry/instrument/detector/type\"\n",
    "                   L <class 'h5py._hl.dataset.Dataset'>\n",
    "                   L b'photon counting'\n",
    "                   \n",
    "15 o\n",
    "\n",
    "            /x_pixel_size\n",
    "             --> path:  \"/entry/instrument/detector/x_pixel_size\"\n",
    "                   L <class 'h5py._hl.dataset.Dataset'>\n",
    "                   L 55.0\n",
    "                   \n",
    "16 o\n",
    "\n",
    "            /y_pixel_size\n",
    "             --> path:  \"/entry/instrument/detector/y_pixel_size\"\n",
    "                   L <class 'h5py._hl.dataset.Dataset'>\n",
    "                   L 55.0"
   ]
  },
  {
   "cell_type": "markdown",
   "id": "297eb2a9d572333c",
   "metadata": {},
   "source": [
    "# データを取り出す準備"
   ]
  },
  {
   "cell_type": "code",
   "execution_count": null,
   "id": "289bd27172a37891",
   "metadata": {
    "ExecuteTime": {
     "end_time": "",
     "start_time": ""
    }
   },
   "outputs": [],
   "source": [
    "def return_data(f, data_path: str): # あとでクラスに実装\n",
    "    dataset = f[data_path]\n",
    "\n",
    "    if dataset.shape == (): # スカラー(単一値)の場合\n",
    "        print(\"This is scalar.\\n\")\n",
    "        value = dataset[()] # スカラーの場合の読み取り\n",
    "    else:\n",
    "        print(f\"{dataset.shape = }\\n\")\n",
    "        value = f.get(data_path)[:]\n",
    "\n",
    "    return value"
   ]
  },
  {
   "cell_type": "code",
   "execution_count": null,
   "id": "6e33372771760a67",
   "metadata": {},
   "outputs": [],
   "source": [
    "# データpathコピペがめんどくさいので、クエリで引っかかるものがあればそのpathをリストで返す関数を作る\n",
    "\n",
    "from model."
   ]
  },
  {
   "cell_type": "markdown",
   "id": "3329c398387c5790",
   "metadata": {},
   "source": [
    "# 取り出していく"
   ]
  },
  {
   "cell_type": "code",
   "execution_count": null,
   "id": "261534bfdd89e4ba",
   "metadata": {
    "ExecuteTime": {
     "end_time": "",
     "start_time": ""
    }
   },
   "outputs": [],
   "source": [
    "# ファイル名\n",
    "data_path = \"/entry/instrument/detector/collection/save_file_name\"\n",
    "filename = return_data(nxs.data_file, data_path=data_path)\n",
    "\n",
    "filename = filename[0]\n",
    "\n",
    "print(f\"{filename = }\")\n",
    "print(f\"{type(filename) = }\\n\")\n",
    "\n",
    "filename = filename.decode(\"utf-8\")\n",
    "\n",
    "print(f\"{filename = }\")\n",
    "print(f\"{type(filename) = }\")"
   ]
  },
  {
   "cell_type": "code",
   "execution_count": null,
   "id": "7050ae1962979cb0",
   "metadata": {},
   "outputs": [],
   "source": [
    "# frame_num\n",
    "data_path = \n"
   ]
  },
  {
   "cell_type": "code",
   "execution_count": null,
   "id": "2e23c4e749f69f7b",
   "metadata": {},
   "outputs": [],
   "source": [
    "# count_time\n",
    "\n"
   ]
  },
  {
   "cell_type": "code",
   "execution_count": null,
   "id": "e32fec0dd1fe1cc5",
   "metadata": {},
   "outputs": [],
   "source": [
    "# img\n",
    "\n"
   ]
  },
  {
   "cell_type": "code",
   "execution_count": null,
   "id": "4148e499b5f87d75",
   "metadata": {},
   "outputs": [],
   "source": [
    "# saturation_value\n",
    "\n"
   ]
  },
  {
   "cell_type": "code",
   "execution_count": null,
   "id": "e1140c3938ba9f2c",
   "metadata": {},
   "outputs": [],
   "source": [
    "# x_pixel_size\n",
    "\n"
   ]
  },
  {
   "cell_type": "code",
   "execution_count": null,
   "id": "d45c22f613f4052c",
   "metadata": {},
   "outputs": [],
   "source": [
    "# y_pixel_size\n",
    "\n"
   ]
  },
  {
   "cell_type": "markdown",
   "id": "f09dcedf8236d86",
   "metadata": {},
   "source": [
    "# 格納データを作成する"
   ]
  },
  {
   "cell_type": "code",
   "execution_count": null,
   "id": "2e15fffa2a98a5b9",
   "metadata": {},
   "outputs": [],
   "source": [
    "# fps\n",
    "\n"
   ]
  },
  {
   "cell_type": "code",
   "execution_count": null,
   "id": "e66545fda76f4301",
   "metadata": {},
   "outputs": [],
   "source": []
  },
  {
   "cell_type": "code",
   "execution_count": null,
   "id": "81ea89686d002e23",
   "metadata": {},
   "outputs": [],
   "source": []
  },
  {
   "cell_type": "code",
   "execution_count": null,
   "id": "5320be58d58e7e14",
   "metadata": {},
   "outputs": [],
   "source": []
  },
  {
   "cell_type": "code",
   "execution_count": null,
   "id": "a53263569605820b",
   "metadata": {},
   "outputs": [],
   "source": []
  },
  {
   "cell_type": "markdown",
   "id": "de7ccdaa22769605",
   "metadata": {},
   "source": [
    "# 格納する"
   ]
  },
  {
   "cell_type": "code",
   "execution_count": null,
   "id": "8fd559240da28168",
   "metadata": {
    "ExecuteTime": {
     "end_time": "",
     "start_time": ""
    }
   },
   "outputs": [],
   "source": [
    "\n",
    "\n"
   ]
  },
  {
   "cell_type": "code",
   "execution_count": null,
   "id": "4f6571c2bbbe43fe",
   "metadata": {},
   "outputs": [],
   "source": []
  },
  {
   "cell_type": "code",
   "execution_count": null,
   "id": "4e126adbe8caf23",
   "metadata": {},
   "outputs": [],
   "source": []
  },
  {
   "cell_type": "code",
   "execution_count": null,
   "id": "1178565fd5643584",
   "metadata": {},
   "outputs": [],
   "source": []
  },
  {
   "cell_type": "code",
   "execution_count": null,
   "id": "acd37b58776b3d98",
   "metadata": {},
   "outputs": [],
   "source": []
  }
 ],
 "metadata": {
  "kernelspec": {
   "display_name": "Python 3",
   "language": "python",
   "name": "python3"
  },
  "language_info": {
   "codemirror_mode": {
    "name": "ipython",
    "version": 2
   },
   "file_extension": ".py",
   "mimetype": "text/x-python",
   "name": "python",
   "nbconvert_exporter": "python",
   "pygments_lexer": "ipython2",
   "version": "2.7.6"
  }
 },
 "nbformat": 4,
 "nbformat_minor": 5
}
