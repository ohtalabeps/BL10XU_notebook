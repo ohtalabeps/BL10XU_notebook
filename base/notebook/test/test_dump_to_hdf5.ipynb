{
 "cells": [
  {
   "cell_type": "code",
   "execution_count": null,
   "id": "initial_id",
   "metadata": {
    "ExecuteTime": {
     "end_time": "",
     "start_time": ""
    },
    "collapsed": true
   },
   "outputs": [],
   "source": [
    "import os\n",
    "import sys\n",
    "import matplotlib.pyplot as plt\n",
    "import numpy as np\n",
    "\n",
    "\"\"\"\n",
    "このnotebookがbaseフォルダを読めるようになるための処理\n",
    "\"\"\"\n",
    "\n",
    "root_rel = '../../'\n",
    "\n",
    "# 相対パスを絶対パスに変換してsys.pathに追加\n",
    "root_abs = os.path.abspath(root_rel)\n",
    "if root_abs not in sys.path:\n",
    "    sys.path.append(root_abs)\n",
    "print(root_abs)\n"
   ]
  },
  {
   "cell_type": "markdown",
   "id": "35c0deb816a50cad",
   "metadata": {},
   "source": [
    "# テストデータのpath"
   ]
  },
  {
   "cell_type": "code",
   "execution_count": null,
   "id": "1320623d44f93fe2",
   "metadata": {
    "ExecuteTime": {
     "end_time": "",
     "start_time": ""
    }
   },
   "outputs": [],
   "source": [
    "# テストデータのpath\n",
    "dist_path = \"rotated_OIbDia08_6_dist(50).csv\"\n",
    "calib_path = \"rotated_OIbDia08_6_calib.csv\"\n",
    "spe_path = \"OIbDia08_ 06.spe\"\n",
    "\n",
    "nxs_path = \"OIbDia08_6_00000.nxs\"\n",
    "poni_path = \"Dioptas_lambda_MgS400_CeO2_240511.poni\""
   ]
  },
  {
   "cell_type": "markdown",
   "id": "37972d5a503fbdac",
   "metadata": {},
   "source": [
    "# HDF5ファイルの設定"
   ]
  },
  {
   "cell_type": "code",
   "execution_count": null,
   "id": "af11294c81e701a1",
   "metadata": {
    "ExecuteTime": {
     "end_time": "",
     "start_time": ""
    }
   },
   "outputs": [],
   "source": [
    "import h5py"
   ]
  },
  {
   "cell_type": "code",
   "execution_count": null,
   "id": "a3794954673f3b19",
   "metadata": {
    "ExecuteTime": {
     "end_time": "",
     "start_time": ""
    }
   },
   "outputs": [],
   "source": [
    "def show_hdf5_hierarchy(f, indent=0, path=\"\"):\n",
    "    for key in f.keys():\n",
    "        print(\" \" * indent + \"/\" + key)  # グループ名を出力\n",
    "        current_path = path + \"/\" + key\n",
    "        if isinstance(f[key], h5py.Group): # もしkey先がgroupの場合\n",
    "            show_hdf5_hierarchy(f[key], indent + 4, path=current_path)  # グループ内のさらに深い階層を出力\n",
    "        else:\n",
    "            print(\" \" * indent + f\" --> path:  \\\"{current_path}\\\"\")\n",
    "            print(\" \" * indent + f\"       L {type(f[key])}\")\n",
    "            dataset = f[key]\n",
    "            \n",
    "            if dataset.shape == (): # スカラー(単一値)の場合\n",
    "                value = str(dataset[()]) # スカラーの場合の読み取り\n",
    "            else:\n",
    "                value = str(f.get(key)[0])\n",
    "                \n",
    "            if len(value) > 20:\n",
    "                print(\" \" * indent + f\"       L {value[:20]}\")\n",
    "            else:\n",
    "                print(\" \" * indent + f\"       L {value}\")\n",
    "\n"
   ]
  },
  {
   "cell_type": "code",
   "execution_count": null,
   "id": "a9d4aa6c3cd7c0d2",
   "metadata": {
    "ExecuteTime": {
     "end_time": "",
     "start_time": ""
    }
   },
   "outputs": [],
   "source": [
    "# calibのテストで作ったやつ\n",
    "with h5py.File(\"CalibData.hdf5\", \"r\") as f: \n",
    "    show_hdf5_hierarchy(f)"
   ]
  },
  {
   "cell_type": "markdown",
   "id": "2ab639df9a83eea",
   "metadata": {},
   "source": [
    "# 全部入れてみる"
   ]
  },
  {
   "cell_type": "code",
   "execution_count": null,
   "id": "ccaebb74ba2268d3",
   "metadata": {
    "ExecuteTime": {
     "end_time": "",
     "start_time": ""
    }
   },
   "outputs": [],
   "source": [
    "# これに入れる\n",
    "hdf5_name = \"hdf5_test.hdf5\" # 実際はファイルをまとめてるフォルダ名(OIbDia08_2ndみたいな)にする\n",
    "\n",
    "# 階層path\n",
    "data_layer = \"data/\" # 一応冗長にしてる\n",
    "\n",
    "name_layer = data_layer + \"hdf5_test\"\n",
    "\n",
    "# ここで初期化\n",
    "with h5py.File(hdf5_name, \"w\") as f:\n",
    "    f.create_dataset(name_layer, data=\"hdf5_test\")"
   ]
  },
  {
   "cell_type": "code",
   "execution_count": null,
   "id": "1083e7b6a44d8e7e",
   "metadata": {
    "ExecuteTime": {
     "end_time": "",
     "start_time": ""
    }
   },
   "outputs": [],
   "source": [
    "\n",
    "# 確認\n",
    "with h5py.File(hdf5_name, \"r\") as f:\n",
    "    show_hdf5_hierarchy(f)\n"
   ]
  },
  {
   "cell_type": "code",
   "execution_count": null,
   "id": "d88a102e409a42ab",
   "metadata": {
    "ExecuteTime": {
     "end_time": "",
     "start_time": ""
    }
   },
   "outputs": [],
   "source": [
    "from model.Temperature import (\n",
    "    Laser,\n",
    "    Spe,\n",
    "    T_calib,\n",
    "    T_dist\n",
    ")\n",
    "\n",
    "from model.XRD import Nxs"
   ]
  },
  {
   "cell_type": "markdown",
   "id": "165880a0d9fd8c4b",
   "metadata": {},
   "source": [
    "## 温度階層"
   ]
  },
  {
   "cell_type": "code",
   "execution_count": null,
   "id": "e9ad3e0e2e91829",
   "metadata": {
    "ExecuteTime": {
     "end_time": "",
     "start_time": ""
    }
   },
   "outputs": [],
   "source": [
    "# 階層pathを作る\n",
    "temperature_layer = data_layer + \"temperature/\""
   ]
  },
  {
   "cell_type": "markdown",
   "id": "59912389964d780f",
   "metadata": {},
   "source": [
    "### Speデータ"
   ]
  },
  {
   "cell_type": "code",
   "execution_count": null,
   "id": "869862084a60fd6f",
   "metadata": {
    "ExecuteTime": {
     "end_time": "",
     "start_time": ""
    }
   },
   "outputs": [],
   "source": [
    "spe = Spe.SpeFile(filepath=spe_path)"
   ]
  },
  {
   "cell_type": "code",
   "execution_count": null,
   "id": "e99c88c2b0b42b00",
   "metadata": {
    "ExecuteTime": {
     "end_time": "",
     "start_time": ""
    }
   },
   "outputs": [],
   "source": [
    "dir(spe)"
   ]
  },
  {
   "cell_type": "code",
   "execution_count": null,
   "id": "1d38c4fa6ca2ceb5",
   "metadata": {
    "ExecuteTime": {
     "end_time": "",
     "start_time": ""
    }
   },
   "outputs": [],
   "source": [
    "# 階層pathを作る\n",
    "spe_layer = temperature_layer + \"spe/\"\n",
    "\n",
    "param_layer = spe_layer + \"param/\"\n",
    "arr_layer = spe_layer + \"arr/\"\n",
    "\n",
    "# speのparam\n",
    "spe_path_layer = param_layer + \"spe_path\"\n",
    "spe_frame_num_layer = param_layer + \"spe_frame_num\"\n",
    "spe_exposure_ms_layer = param_layer + \"spe_exposure_ms\"\n",
    "spe_fps_layer = param_layer + \"spe_fps\"\n",
    "spe_OD_layer = param_layer + \"spe_OD\"\n",
    "spe_date_layer = param_layer + \"spe_date\"\n",
    "spe_calibration_date_layer = param_layer + \"spe_calibration_date\"\n",
    "# speのarr\n",
    "spe_img_layer = arr_layer + \"spe_img_arr\"\n",
    "spe_wl_layer = arr_layer + \"spe_wl_arr\"\n",
    "spe_time_layer = arr_layer + \"spe_time_arr\"\n",
    "spe_pixel_layer = arr_layer + \"spe_pixel_arr\""
   ]
  },
  {
   "cell_type": "code",
   "execution_count": null,
   "id": "64eb57f511497e9c",
   "metadata": {
    "ExecuteTime": {
     "end_time": "",
     "start_time": ""
    }
   },
   "outputs": [],
   "source": [
    "# あると便利そうな配列をつくる\n",
    "spe.time_arr = np.arange(spe.num_frames) / spe.framerate\n",
    "spe.pixel_arr = np.arange(spe.roi_height)"
   ]
  },
  {
   "cell_type": "code",
   "execution_count": null,
   "id": "bf19a2c11aa61103",
   "metadata": {
    "ExecuteTime": {
     "end_time": "",
     "start_time": ""
    }
   },
   "outputs": [],
   "source": [
    "# 書き込み\n",
    "# これはHDF5モデルに任せる。\n",
    "with h5py.File(hdf5_name, \"a\") as f:\n",
    "    # NOTE データ型は読み出しの時に指定する\n",
    "    # param\n",
    "    f.create_dataset(spe_path_layer,             data=spe.filename)\n",
    "    f.create_dataset(spe_frame_num_layer,        data=spe.num_frames)\n",
    "    f.create_dataset(spe_exposure_ms_layer,      data=spe.exposure_time)\n",
    "    f.create_dataset(spe_fps_layer,              data=spe.framerate)\n",
    "    f.create_dataset(spe_OD_layer,               data=spe.OD)\n",
    "    f.create_dataset(spe_date_layer,             data=spe.date)\n",
    "    f.create_dataset(spe_calibration_date_layer, data=spe.calibration_date)\n",
    "    # arr\n",
    "    f.create_dataset(spe_img_layer,   data=spe.img)\n",
    "    f.create_dataset(spe_wl_layer,    data=spe.x_calibration)\n",
    "    f.create_dataset(spe_time_layer,  data=spe.time_arr)\n",
    "    f.create_dataset(spe_pixel_layer, data=spe.time_arr)"
   ]
  },
  {
   "cell_type": "code",
   "execution_count": null,
   "id": "d829a88ccbd74218",
   "metadata": {
    "ExecuteTime": {
     "end_time": "",
     "start_time": ""
    }
   },
   "outputs": [],
   "source": [
    "# 確認\n",
    "with h5py.File(hdf5_name, \"r\") as f:\n",
    "    show_hdf5_hierarchy(f)"
   ]
  },
  {
   "cell_type": "markdown",
   "id": "398212ca1f9c2c6c",
   "metadata": {},
   "source": [
    "### calibデータ"
   ]
  },
  {
   "cell_type": "code",
   "execution_count": null,
   "id": "b12efda6b00132c7",
   "metadata": {
    "ExecuteTime": {
     "end_time": "",
     "start_time": ""
    }
   },
   "outputs": [],
   "source": [
    "calib = T_calib.T_calib(filepath=calib_path)"
   ]
  },
  {
   "cell_type": "code",
   "execution_count": null,
   "id": "e16173f84e5c7677",
   "metadata": {
    "ExecuteTime": {
     "end_time": "",
     "start_time": ""
    }
   },
   "outputs": [],
   "source": [
    "# 階層pathを作る\n",
    "t_calib_layer = temperature_layer + \"calib/\"\n",
    "\n",
    "calib_path_layer = t_calib_layer + \"calib_path\"\n",
    "calib_img_layer = t_calib_layer + \"calib_img_arr\""
   ]
  },
  {
   "cell_type": "code",
   "execution_count": null,
   "id": "c69e84700374ba5b",
   "metadata": {
    "ExecuteTime": {
     "end_time": "",
     "start_time": ""
    }
   },
   "outputs": [],
   "source": [
    "# 配列を作る\n",
    "# calib_img\n",
    "calib_img = calib.return_calib_img(frame_num=spe.num_frames)"
   ]
  },
  {
   "cell_type": "code",
   "execution_count": null,
   "id": "1d0b29d05fd3e0df",
   "metadata": {
    "ExecuteTime": {
     "end_time": "",
     "start_time": ""
    }
   },
   "outputs": [],
   "source": [
    "# 書き込み\n",
    "# これはHDF5モデルに任せる。\n",
    "with h5py.File(hdf5_name, \"a\") as f:\n",
    "    f.create_dataset(calib_path_layer, data=calib.filepath_calib)\n",
    "    f.create_dataset(calib_img_layer, data=calib_img)"
   ]
  },
  {
   "cell_type": "code",
   "execution_count": null,
   "id": "6fd0c69cd3e3ff38",
   "metadata": {
    "ExecuteTime": {
     "end_time": "",
     "start_time": ""
    }
   },
   "outputs": [],
   "source": [
    "# 確認\n",
    "with h5py.File(hdf5_name, \"r\") as f:\n",
    "    show_hdf5_hierarchy(f)"
   ]
  },
  {
   "cell_type": "markdown",
   "id": "3b33e5804540929a",
   "metadata": {},
   "source": [
    "### distデータ"
   ]
  },
  {
   "cell_type": "code",
   "execution_count": null,
   "id": "2e1231e744762be1",
   "metadata": {
    "ExecuteTime": {
     "end_time": "",
     "start_time": ""
    }
   },
   "outputs": [],
   "source": [
    "dist = T_dist.T_dist(filepath=dist_path)\n",
    "dist.set_T_data()"
   ]
  },
  {
   "cell_type": "code",
   "execution_count": null,
   "id": "4120fa71e93b2b4c",
   "metadata": {
    "ExecuteTime": {
     "end_time": "",
     "start_time": ""
    }
   },
   "outputs": [],
   "source": [
    "# 階層pathを作る\n",
    "t_dist_layer = temperature_layer + \"dist/\"\n",
    "\n",
    "t_dist_path_layer = t_dist_layer + \"dist_path\"\n",
    "t_dist_arr = t_dist_layer + \"dist_arr\""
   ]
  },
  {
   "cell_type": "code",
   "execution_count": null,
   "id": "c8ea3f9d2a82f1c1",
   "metadata": {
    "ExecuteTime": {
     "end_time": "",
     "start_time": ""
    }
   },
   "outputs": [],
   "source": [
    "# 書き込み\n",
    "# これはHDF5モデルに任せる。\n",
    "with h5py.File(hdf5_name, \"a\") as f:\n",
    "    f.create_dataset(t_dist_path_layer, data=dist.filepath_dist)\n",
    "    f.create_dataset(t_dist_arr, data=dist.temp_df.values)"
   ]
  },
  {
   "cell_type": "code",
   "execution_count": null,
   "id": "b06851dd9f004e3a",
   "metadata": {
    "ExecuteTime": {
     "end_time": "",
     "start_time": ""
    }
   },
   "outputs": [],
   "source": [
    "# 確認\n",
    "with h5py.File(hdf5_name, \"r\") as f:\n",
    "    show_hdf5_hierarchy(f)"
   ]
  },
  {
   "cell_type": "markdown",
   "id": "75a0143c9707b158",
   "metadata": {},
   "source": [
    "### Laserデータ"
   ]
  },
  {
   "cell_type": "code",
   "execution_count": null,
   "id": "1322f1992fca1615",
   "metadata": {
    "ExecuteTime": {
     "end_time": "",
     "start_time": ""
    }
   },
   "outputs": [],
   "source": [
    "# NOTE Linear加熱しか対応してない\n",
    "laser = Laser.LaserProfile()"
   ]
  },
  {
   "cell_type": "code",
   "execution_count": null,
   "id": "4d848e677e78dd8f",
   "metadata": {},
   "outputs": [],
   "source": [
    "# 階層pathを作る\n",
    "laser_layer = temperature_layer + \"laser/\"\n",
    "\n"
   ]
  },
  {
   "cell_type": "code",
   "execution_count": null,
   "id": "a74fc89279ac3e92",
   "metadata": {},
   "outputs": [],
   "source": [
    "# 配列を作る\n",
    "\n"
   ]
  },
  {
   "cell_type": "code",
   "execution_count": null,
   "id": "b6ae30dc98a83619",
   "metadata": {},
   "outputs": [],
   "source": [
    "# 書き込み\n"
   ]
  },
  {
   "cell_type": "code",
   "execution_count": null,
   "id": "c712b902b5dcf66e",
   "metadata": {},
   "outputs": [],
   "source": [
    "# 確認\n",
    "with h5py.File(hdf5_name, \"r\") as f:\n",
    "    show_hdf5_hierarchy(f)"
   ]
  },
  {
   "cell_type": "markdown",
   "id": "3cd8fe46475ab63",
   "metadata": {},
   "source": [
    "## XRD階層"
   ]
  },
  {
   "cell_type": "code",
   "execution_count": null,
   "id": "f6983e798e57539d",
   "metadata": {
    "ExecuteTime": {
     "end_time": "",
     "start_time": ""
    }
   },
   "outputs": [],
   "source": [
    "# 階層path\n",
    "xrd_layer = data_layer + \"xrd/\""
   ]
  },
  {
   "cell_type": "markdown",
   "id": "d0c008802bc87aa",
   "metadata": {},
   "source": [
    "### Nxsデータ"
   ]
  },
  {
   "cell_type": "code",
   "execution_count": null,
   "id": "634a8c635d6c4bdb",
   "metadata": {
    "ExecuteTime": {
     "end_time": "",
     "start_time": ""
    }
   },
   "outputs": [],
   "source": [
    "nxs = Nxs.NxsFile(filepath=nxs_path)"
   ]
  },
  {
   "cell_type": "code",
   "execution_count": null,
   "id": "32182d0c75bce2f7",
   "metadata": {
    "ExecuteTime": {
     "end_time": "",
     "start_time": ""
    }
   },
   "outputs": [],
   "source": [
    "# 階層pathを作る\n",
    "nxs_layer = xrd_layer + \"nxs/\""
   ]
  },
  {
   "cell_type": "code",
   "execution_count": null,
   "id": "dcdb8d90dc896d61",
   "metadata": {
    "ExecuteTime": {
     "end_time": "",
     "start_time": ""
    }
   },
   "outputs": [],
   "source": [
    "# 配列を作る\n",
    "\n"
   ]
  },
  {
   "cell_type": "code",
   "execution_count": null,
   "id": "ce5614247ee17f4f",
   "metadata": {
    "ExecuteTime": {
     "end_time": "",
     "start_time": ""
    }
   },
   "outputs": [],
   "source": [
    "# 書き込み\n",
    "\n"
   ]
  },
  {
   "cell_type": "code",
   "execution_count": null,
   "id": "35a77e87479ae895",
   "metadata": {},
   "outputs": [],
   "source": [
    "# 確認\n",
    "# TODO ここを追加したものだけ確認できるようにする(pathの文字列で判別)。あとできればshapeとか確認したい\n"
   ]
  },
  {
   "cell_type": "markdown",
   "id": "3ea079d49be76317",
   "metadata": {},
   "source": [
    "### dioptasデータ"
   ]
  },
  {
   "cell_type": "code",
   "execution_count": null,
   "id": "9e3a905fb30c9ade",
   "metadata": {},
   "outputs": [],
   "source": [
    "# 階層pathを作る\n",
    "# TODO 1d-patternとdatによる背景\n",
    "# TODO いずれこれは無くしたい。nxsでやる\n",
    "\n"
   ]
  },
  {
   "cell_type": "code",
   "execution_count": null,
   "id": "adea1fa968dc5c71",
   "metadata": {},
   "outputs": [],
   "source": [
    "# 配列を作る\n",
    "\n"
   ]
  },
  {
   "cell_type": "code",
   "execution_count": null,
   "id": "6343f2c6481d4e8d",
   "metadata": {},
   "outputs": [],
   "source": [
    "# 書き込み\n",
    "\n"
   ]
  },
  {
   "cell_type": "code",
   "execution_count": null,
   "id": "b9b387ece6cf2a36",
   "metadata": {},
   "outputs": [],
   "source": [
    "# 確認\n",
    "\n"
   ]
  },
  {
   "cell_type": "markdown",
   "id": "86eb787e21ddbf20",
   "metadata": {},
   "source": [
    "# 正しく入れられているかテスト"
   ]
  },
  {
   "cell_type": "markdown",
   "id": "ea67e8d22b6d6063",
   "metadata": {},
   "source": [
    "## 前準備"
   ]
  },
  {
   "cell_type": "code",
   "execution_count": null,
   "id": "2d3cf2eb3a65f2f5",
   "metadata": {
    "ExecuteTime": {
     "end_time": "",
     "start_time": ""
    }
   },
   "outputs": [],
   "source": [
    "# path一覧を取得する\n",
    "class Hdf5Path:\n",
    "    def __init__(self, *, hdf: h5py.File):\n",
    "        self.f = hdf\n",
    "        self.path_num = 0\n",
    "        self.path_list = []\n",
    "        self.get_hdf5_all_path(f=self.f)\n",
    "        \n",
    "    def get_hdf5_all_path(self, f, path=\"\"):\n",
    "        for key in f.keys():\n",
    "            current_path = path + \"/\" + key\n",
    "            if isinstance(f[key], h5py.Group): # もしkey先がgroupの場合\n",
    "                self.get_hdf5_all_path(f[key], path=current_path)\n",
    "            else:\n",
    "                print(f\"{self.path_num: <2}: {current_path}\")\n",
    "                self.path_num += 1\n",
    "                self.path_list.append(current_path)"
   ]
  },
  {
   "cell_type": "code",
   "execution_count": null,
   "id": "51ac3ba0f60d1dac",
   "metadata": {
    "ExecuteTime": {
     "end_time": "",
     "start_time": ""
    }
   },
   "outputs": [],
   "source": [
    "def fetch_from_hdf5(hdf: h5py.File, layer_path: str): # クラスにつける\n",
    "    with h5py.File(hdf, \"r\") as f:\n",
    "        dataset = f[layer_path]\n",
    "\n",
    "        if dataset.shape == (): # スカラー(単一値)の場合\n",
    "            data = dataset[()] # スカラーの場合の読み取り\n",
    "        else:\n",
    "            data = f.get(layer_path)[:]\n",
    "    return data"
   ]
  },
  {
   "cell_type": "code",
   "execution_count": null,
   "id": "8fe8cadfff4927fc",
   "metadata": {},
   "outputs": [],
   "source": [
    "with h5py.File(hdf5_name, \"r\") as f:\n",
    "    hdf_path = Hdf5Path(hdf=f)"
   ]
  },
  {
   "cell_type": "markdown",
   "id": "a547364198d96056",
   "metadata": {},
   "source": [
    "## テスト"
   ]
  },
  {
   "cell_type": "code",
   "execution_count": null,
   "id": "f1cba85a03cc7673",
   "metadata": {
    "ExecuteTime": {
     "end_time": "",
     "start_time": ""
    }
   },
   "outputs": [],
   "source": [
    "# Speデータ\n",
    "\n",
    "\n"
   ]
  },
  {
   "cell_type": "code",
   "execution_count": null,
   "id": "92426682ad5966f0",
   "metadata": {
    "ExecuteTime": {
     "end_time": "",
     "start_time": ""
    }
   },
   "outputs": [],
   "source": [
    "# calibデータ\n",
    "\n",
    "# ファイル名がspeと違わないか確認\n",
    "# speの形で確認\n"
   ]
  },
  {
   "cell_type": "code",
   "execution_count": null,
   "id": "3706e2e824cb4c60",
   "metadata": {
    "ExecuteTime": {
     "end_time": "",
     "start_time": ""
    }
   },
   "outputs": [],
   "source": [
    "# distデータ\n",
    "\n",
    "# ファイル名がspeと違わないか確認\n",
    "# speの形で確認\n"
   ]
  },
  {
   "cell_type": "code",
   "execution_count": null,
   "id": "1cb706122701d2d1",
   "metadata": {
    "ExecuteTime": {
     "end_time": "",
     "start_time": ""
    }
   },
   "outputs": [],
   "source": [
    "# Laserデータはテストしない"
   ]
  },
  {
   "cell_type": "code",
   "execution_count": null,
   "id": "4128836be5c0fbb4",
   "metadata": {},
   "outputs": [],
   "source": [
    "# Nxsデータ\n",
    "\n",
    "# speと"
   ]
  },
  {
   "cell_type": "code",
   "execution_count": null,
   "id": "b4c3b7382127afbf",
   "metadata": {},
   "outputs": [],
   "source": []
  }
 ],
 "metadata": {
  "kernelspec": {
   "display_name": "Python 3",
   "language": "python",
   "name": "python3"
  },
  "language_info": {
   "codemirror_mode": {
    "name": "ipython",
    "version": 2
   },
   "file_extension": ".py",
   "mimetype": "text/x-python",
   "name": "python",
   "nbconvert_exporter": "python",
   "pygments_lexer": "ipython2",
   "version": "2.7.6"
  }
 },
 "nbformat": 4,
 "nbformat_minor": 5
}
