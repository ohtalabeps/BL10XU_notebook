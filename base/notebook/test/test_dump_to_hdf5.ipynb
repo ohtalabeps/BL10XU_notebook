{
 "cells": [
  {
   "cell_type": "code",
   "execution_count": null,
   "id": "initial_id",
   "metadata": {
    "ExecuteTime": {
     "end_time": "",
     "start_time": ""
    },
    "collapsed": true
   },
   "outputs": [],
   "source": [
    "import os\n",
    "import sys\n",
    "import matplotlib.pyplot as plt\n",
    "import numpy as np\n",
    "\n",
    "\"\"\"\n",
    "このnotebookがbaseフォルダを読めるようになるための処理\n",
    "\"\"\"\n",
    "\n",
    "root_rel = '../../'\n",
    "\n",
    "# 相対パスを絶対パスに変換してsys.pathに追加\n",
    "root_abs = os.path.abspath(root_rel)\n",
    "if root_abs not in sys.path:\n",
    "    sys.path.append(root_abs)\n",
    "print(root_abs)\n"
   ]
  },
  {
   "cell_type": "markdown",
   "id": "35c0deb816a50cad",
   "metadata": {},
   "source": [
    "# テストデータのpath"
   ]
  },
  {
   "cell_type": "code",
   "execution_count": null,
   "id": "1320623d44f93fe2",
   "metadata": {
    "ExecuteTime": {
     "end_time": "",
     "start_time": ""
    }
   },
   "outputs": [],
   "source": [
    "# テストデータのpath\n",
    "dist_path = \"rotated_OIbDia08_6_dist(50).csv\"\n",
    "calib_path = \"rotated_OIbDia08_6_calib.csv\"\n",
    "spe_path = \"OIbDia08_ 06.spe\"\n",
    "\n",
    "nxs_path = \"OIbDia08_6_00000.nxs\"\n",
    "poni_path = \"Dioptas_lambda_MgS400_CeO2_240511.poni\""
   ]
  },
  {
   "cell_type": "markdown",
   "id": "37972d5a503fbdac",
   "metadata": {},
   "source": [
    "# HDF5ファイルの設定"
   ]
  },
  {
   "cell_type": "code",
   "execution_count": null,
   "id": "af11294c81e701a1",
   "metadata": {
    "ExecuteTime": {
     "end_time": "",
     "start_time": ""
    }
   },
   "outputs": [],
   "source": [
    "import h5py"
   ]
  },
  {
   "cell_type": "code",
   "execution_count": null,
   "id": "a3794954673f3b19",
   "metadata": {
    "ExecuteTime": {
     "end_time": "",
     "start_time": ""
    }
   },
   "outputs": [],
   "source": [
    "def show_hdf5_hierarchy(f, indent=0, path=\"\"):\n",
    "    for key in f.keys():\n",
    "        print(\" \" * indent + \"/\" + key)  # グループ名を出力\n",
    "        current_path = path + \"/\" + key\n",
    "        if isinstance(f[key], h5py.Group): # もしkey先がgroupの場合\n",
    "            path += \"/\"\n",
    "            show_hdf5_hierarchy(f[key], indent + 4, path=current_path)  # グループ内のさらに深い階層を出力\n",
    "        else:\n",
    "            print(\" \" * indent + f\" --> path:  \\\"{current_path}\\\"\")\n",
    "            print(\" \" * indent + f\"       L {type(f[key])}\")\n",
    "            dataset = f[key]\n",
    "            \n",
    "            if dataset.shape == (): # スカラー(単一値)の場合\n",
    "                value = str(dataset[()]) # スカラーの場合の読み取り\n",
    "            else:\n",
    "                value = str(f.get(key)[0])\n",
    "                \n",
    "            if len(value) > 20:\n",
    "                print(\" \" * indent + f\"       L {value[:20]}\")\n",
    "            else:\n",
    "                print(\" \" * indent + f\"       L {value}\")\n",
    "\n"
   ]
  },
  {
   "cell_type": "code",
   "execution_count": null,
   "id": "a9d4aa6c3cd7c0d2",
   "metadata": {
    "ExecuteTime": {
     "end_time": "",
     "start_time": ""
    }
   },
   "outputs": [],
   "source": [
    "# calibのテストで作ったやつ\n",
    "with h5py.File(\"CalibData.hdf5\", \"r\") as f: \n",
    "    show_hdf5_hierarchy(f)"
   ]
  },
  {
   "cell_type": "markdown",
   "id": "2ab639df9a83eea",
   "metadata": {},
   "source": [
    "# 全部入れてみる"
   ]
  },
  {
   "cell_type": "code",
   "execution_count": null,
   "id": "ccaebb74ba2268d3",
   "metadata": {
    "ExecuteTime": {
     "end_time": "",
     "start_time": ""
    }
   },
   "outputs": [],
   "source": [
    "# これに入れる\n",
    "hdf5_name = \"hdf5_test.hdf5\""
   ]
  },
  {
   "cell_type": "code",
   "execution_count": null,
   "id": "d88a102e409a42ab",
   "metadata": {
    "ExecuteTime": {
     "end_time": "",
     "start_time": ""
    }
   },
   "outputs": [],
   "source": [
    "from model.Temperature import (\n",
    "    Laser,\n",
    "    Spe,\n",
    "    T_calib,\n",
    "    T_dist\n",
    ")\n",
    "\n",
    "from model.XRD import Nxs"
   ]
  },
  {
   "cell_type": "markdown",
   "id": "59912389964d780f",
   "metadata": {},
   "source": [
    "## Speデータ"
   ]
  },
  {
   "cell_type": "code",
   "execution_count": null,
   "id": "869862084a60fd6f",
   "metadata": {
    "ExecuteTime": {
     "end_time": "",
     "start_time": ""
    }
   },
   "outputs": [],
   "source": [
    "spe = Spe.SpeFile(filepath=spe_path)"
   ]
  },
  {
   "cell_type": "code",
   "execution_count": null,
   "id": "e99c88c2b0b42b00",
   "metadata": {
    "ExecuteTime": {
     "end_time": "",
     "start_time": ""
    }
   },
   "outputs": [],
   "source": [
    "dir(spe)"
   ]
  },
  {
   "cell_type": "code",
   "execution_count": null,
   "id": "e9ad3e0e2e91829",
   "metadata": {
    "ExecuteTime": {
     "end_time": "",
     "start_time": ""
    }
   },
   "outputs": [],
   "source": [
    "# 階層pathを作る\n",
    "data_layer = \"data/\" # 一応冗長にしてる\n",
    "temperature_layer = data_layer + \"temperature/\""
   ]
  },
  {
   "cell_type": "code",
   "execution_count": null,
   "id": "1d38c4fa6ca2ceb5",
   "metadata": {
    "ExecuteTime": {
     "end_time": "",
     "start_time": ""
    }
   },
   "outputs": [],
   "source": [
    "spe_layer = temperature_layer + \"spe/\"\n",
    "\n",
    "param_layer = spe_layer + \"param/\"\n",
    "arr_layer = spe_layer + \"arr/\"\n",
    "\n",
    "# speのparam\n",
    "spe_path_layer = param_layer + \"spe_path\"\n",
    "spe_frame_num_layer = param_layer + \"spe_frame_num\"\n",
    "spe_exposure_ms_layer = param_layer + \"spe_exposure_ms\"\n",
    "spe_fps_layer = param_layer + \"spe_fps\"\n",
    "spe_OD_layer = param_layer + \"spe_OD\"\n",
    "spe_date_layer = param_layer + \"spe_date\"\n",
    "spe_calibration_date_layer = param_layer + \"spe_calibration_date\"\n",
    "# speのarr\n",
    "spe_img_layer = arr_layer + \"spe_img\"\n",
    "spe_wl_arr = arr_layer + \"spe_wl_arr\"\n",
    "spe_time_arr = arr_layer + \"spe_time_arr\"\n",
    "spe_pixel_arr = arr_layer + \"spe_pixel_arr\""
   ]
  },
  {
   "cell_type": "code",
   "execution_count": null,
   "id": "64eb57f511497e9c",
   "metadata": {
    "ExecuteTime": {
     "end_time": "",
     "start_time": ""
    }
   },
   "outputs": [],
   "source": [
    "spe.time_arr = np.arange(spe.num_frames) / spe.framerate\n",
    "spe.pixel_arr = np.arange(spe.roi_height)"
   ]
  },
  {
   "cell_type": "code",
   "execution_count": null,
   "id": "bf19a2c11aa61103",
   "metadata": {
    "ExecuteTime": {
     "end_time": "",
     "start_time": ""
    }
   },
   "outputs": [],
   "source": [
    "# 書き込み\n",
    "# これはHDF5モデルに任せる。\n",
    "with h5py.File(hdf5_name, \"w\") as f:\n",
    "    # TODO 今はめんどくさくてやってないが、ここでデータ型を指定しておくべきかもしれない\n",
    "    # param\n",
    "    f.create_dataset(spe_path_layer,             data=spe.filename)\n",
    "    f.create_dataset(spe_frame_num_layer,        data=spe.num_frames)\n",
    "    f.create_dataset(spe_exposure_ms_layer,      data=spe.exposure_time)\n",
    "    f.create_dataset(spe_fps_layer,              data=spe.framerate)\n",
    "    f.create_dataset(spe_OD_layer,               data=spe.OD)\n",
    "    f.create_dataset(spe_date_layer,             data=spe.date)\n",
    "    f.create_dataset(spe_calibration_date_layer, data=spe.calibration_date)\n",
    "    # arr\n",
    "    f.create_dataset(spe_img_layer, data=spe.img)\n",
    "    f.create_dataset(spe_wl_arr,    data=spe.x_calibration)\n",
    "    f.create_dataset(spe_time_arr,  data=spe.time_arr)\n",
    "    f.create_dataset(spe_pixel_arr, data=spe.time_arr)"
   ]
  },
  {
   "cell_type": "code",
   "execution_count": null,
   "id": "d829a88ccbd74218",
   "metadata": {
    "ExecuteTime": {
     "end_time": "",
     "start_time": ""
    }
   },
   "outputs": [],
   "source": [
    "# 確認\n",
    "with h5py.File(hdf5_name, \"r\") as f:\n",
    "    show_hdf5_hierarchy(f)"
   ]
  },
  {
   "cell_type": "markdown",
   "id": "398212ca1f9c2c6c",
   "metadata": {},
   "source": [
    "## calibデータ"
   ]
  },
  {
   "cell_type": "code",
   "execution_count": null,
   "id": "e16173f84e5c7677",
   "metadata": {},
   "outputs": [],
   "source": []
  },
  {
   "cell_type": "code",
   "execution_count": null,
   "id": "6fd0c69cd3e3ff38",
   "metadata": {
    "ExecuteTime": {
     "end_time": "",
     "start_time": ""
    }
   },
   "outputs": [],
   "source": [
    "# 確認\n",
    "with h5py.File(hdf5_name, \"r\") as f:\n",
    "    show_hdf5_hierarchy(f)"
   ]
  },
  {
   "cell_type": "markdown",
   "id": "3b33e5804540929a",
   "metadata": {},
   "source": [
    "## distデータ"
   ]
  },
  {
   "cell_type": "code",
   "execution_count": null,
   "id": "b12efda6b00132c7",
   "metadata": {
    "ExecuteTime": {
     "end_time": "",
     "start_time": ""
    }
   },
   "outputs": [],
   "source": []
  },
  {
   "cell_type": "code",
   "execution_count": null,
   "id": "4120fa71e93b2b4c",
   "metadata": {
    "ExecuteTime": {
     "end_time": "",
     "start_time": ""
    }
   },
   "outputs": [],
   "source": []
  },
  {
   "cell_type": "code",
   "execution_count": null,
   "id": "b06851dd9f004e3a",
   "metadata": {
    "ExecuteTime": {
     "end_time": "",
     "start_time": ""
    }
   },
   "outputs": [],
   "source": [
    "# 確認\n",
    "with h5py.File(hdf5_name, \"r\") as f:\n",
    "    show_hdf5_hierarchy(f)\n"
   ]
  },
  {
   "cell_type": "code",
   "execution_count": null,
   "id": "d3a2b23000a33947",
   "metadata": {},
   "outputs": [],
   "source": []
  },
  {
   "cell_type": "code",
   "execution_count": null,
   "id": "152fcba6be489fb",
   "metadata": {},
   "outputs": [],
   "source": []
  },
  {
   "cell_type": "code",
   "execution_count": null,
   "id": "a45f2e33d504a01f",
   "metadata": {},
   "outputs": [],
   "source": []
  },
  {
   "cell_type": "markdown",
   "id": "75a0143c9707b158",
   "metadata": {},
   "source": [
    "## laserデータ"
   ]
  },
  {
   "cell_type": "code",
   "execution_count": null,
   "id": "c712b902b5dcf66e",
   "metadata": {},
   "outputs": [],
   "source": [
    "# 確認\n",
    "with h5py.File(hdf5_name, \"r\") as f:\n",
    "    show_hdf5_hierarchy(f)\n"
   ]
  },
  {
   "cell_type": "code",
   "execution_count": null,
   "id": "4d848e677e78dd8f",
   "metadata": {},
   "outputs": [],
   "source": []
  },
  {
   "cell_type": "code",
   "execution_count": null,
   "id": "b6ae30dc98a83619",
   "metadata": {},
   "outputs": [],
   "source": []
  },
  {
   "cell_type": "code",
   "execution_count": null,
   "id": "7b7ae42a3b9a1150",
   "metadata": {},
   "outputs": [],
   "source": []
  }
 ],
 "metadata": {
  "kernelspec": {
   "display_name": "Python 3",
   "language": "python",
   "name": "python3"
  },
  "language_info": {
   "codemirror_mode": {
    "name": "ipython",
    "version": 2
   },
   "file_extension": ".py",
   "mimetype": "text/x-python",
   "name": "python",
   "nbconvert_exporter": "python",
   "pygments_lexer": "ipython2",
   "version": "2.7.6"
  }
 },
 "nbformat": 4,
 "nbformat_minor": 5
}
