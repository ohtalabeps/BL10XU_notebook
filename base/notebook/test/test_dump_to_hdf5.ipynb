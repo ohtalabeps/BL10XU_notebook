{
 "cells": [
  {
   "cell_type": "code",
   "execution_count": null,
   "id": "initial_id",
   "metadata": {
    "ExecuteTime": {
     "end_time": "",
     "start_time": ""
    },
    "collapsed": true
   },
   "outputs": [],
   "source": [
    "import os\n",
    "import sys\n",
    "import matplotlib.pyplot as plt\n",
    "\n",
    "\"\"\"\n",
    "このnotebookがbaseフォルダを読めるようになるための処理\n",
    "\"\"\"\n",
    "\n",
    "root_rel = '../../'\n",
    "\n",
    "# 相対パスを絶対パスに変換してsys.pathに追加\n",
    "root_abs = os.path.abspath(root_rel)\n",
    "if root_abs not in sys.path:\n",
    "    sys.path.append(root_abs)\n",
    "print(root_abs)\n"
   ]
  },
  {
   "cell_type": "markdown",
   "id": "35c0deb816a50cad",
   "metadata": {},
   "source": [
    "# テストデータのpath"
   ]
  },
  {
   "cell_type": "code",
   "execution_count": null,
   "id": "1320623d44f93fe2",
   "metadata": {
    "ExecuteTime": {
     "end_time": "",
     "start_time": ""
    }
   },
   "outputs": [],
   "source": [
    "# テストデータのpath\n",
    "dist_path = \"rotated_OIbDia08_6_dist(50).csv\"\n",
    "calib_path = \"rotated_OIbDia08_6_calib.csv\"\n",
    "spe_path = \"OIbDia08_ 06.spe\"\n",
    "\n",
    "nxs_path = \"OIbDia08_6_00000.nxs\"\n",
    "poni_path = \"Dioptas_lambda_MgS400_CeO2_240511.poni\""
   ]
  },
  {
   "cell_type": "markdown",
   "id": "ede58246cf85e09c",
   "metadata": {},
   "source": [
    "# calibで試す"
   ]
  },
  {
   "cell_type": "code",
   "execution_count": null,
   "id": "d3af65b86a7d3373",
   "metadata": {
    "ExecuteTime": {
     "end_time": "",
     "start_time": ""
    }
   },
   "outputs": [],
   "source": [
    "from model.Temperature.T_calib import T_calib\n",
    "calib = T_calib(filepath=calib_path)"
   ]
  },
  {
   "cell_type": "code",
   "execution_count": null,
   "id": "34cf7476512b965b",
   "metadata": {
    "ExecuteTime": {
     "end_time": "",
     "start_time": ""
    }
   },
   "outputs": [],
   "source": [
    "calib.dump_to_hdf5(frame_num=800)"
   ]
  },
  {
   "cell_type": "code",
   "execution_count": null,
   "id": "af11294c81e701a1",
   "metadata": {
    "ExecuteTime": {
     "end_time": "",
     "start_time": ""
    }
   },
   "outputs": [],
   "source": [
    "import h5py"
   ]
  },
  {
   "cell_type": "code",
   "execution_count": null,
   "id": "a3794954673f3b19",
   "metadata": {
    "ExecuteTime": {
     "end_time": "",
     "start_time": ""
    }
   },
   "outputs": [],
   "source": [
    "def show_hdf5_hierarchy(f, indent=0):\n",
    "    for key in f.keys():\n",
    "        print(\" \" * indent + \"/\" + key)  # グループ名を出力\n",
    "        if isinstance(f[key], h5py.Group): # もしkey先がgroupの場合\n",
    "            show_hdf5_hierarchy(f[key], indent + 4)  # グループ内のさらに深い階層を出力"
   ]
  },
  {
   "cell_type": "code",
   "execution_count": null,
   "id": "a9d4aa6c3cd7c0d2",
   "metadata": {
    "ExecuteTime": {
     "end_time": "",
     "start_time": ""
    }
   },
   "outputs": [],
   "source": [
    "with h5py.File(\"CalibData.hdf5\", \"r\") as f:\n",
    "    show_hdf5_hierarchy(f)\n",
    "    spectrum = f.get('temperature/calib_data')[700, :]"
   ]
  },
  {
   "cell_type": "code",
   "execution_count": null,
   "id": "38365cbab0297aa6",
   "metadata": {
    "ExecuteTime": {
     "end_time": "",
     "start_time": ""
    }
   },
   "outputs": [],
   "source": [
    "plt.imshow(spectrum[:, 50:-50])"
   ]
  },
  {
   "cell_type": "code",
   "execution_count": null,
   "id": "9be8b6eea218fbc9",
   "metadata": {
    "ExecuteTime": {
     "end_time": "",
     "start_time": ""
    }
   },
   "outputs": [],
   "source": [
    "for pixel in range(375, 385):\n",
    "    plt.plot(spectrum[pixel, 50:-50])"
   ]
  },
  {
   "cell_type": "markdown",
   "id": "2ab639df9a83eea",
   "metadata": {},
   "source": [
    "# 全部入れてみる"
   ]
  },
  {
   "cell_type": "code",
   "execution_count": null,
   "id": "d88a102e409a42ab",
   "metadata": {
    "ExecuteTime": {
     "end_time": "",
     "start_time": ""
    }
   },
   "outputs": [],
   "source": []
  },
  {
   "cell_type": "code",
   "execution_count": null,
   "id": "869862084a60fd6f",
   "metadata": {
    "ExecuteTime": {
     "end_time": "",
     "start_time": ""
    }
   },
   "outputs": [],
   "source": []
  },
  {
   "cell_type": "code",
   "execution_count": null,
   "id": "e99c88c2b0b42b00",
   "metadata": {
    "ExecuteTime": {
     "end_time": "",
     "start_time": ""
    }
   },
   "outputs": [],
   "source": []
  },
  {
   "cell_type": "code",
   "execution_count": null,
   "id": "1d38c4fa6ca2ceb5",
   "metadata": {
    "ExecuteTime": {
     "end_time": "",
     "start_time": ""
    }
   },
   "outputs": [],
   "source": []
  },
  {
   "cell_type": "code",
   "execution_count": null,
   "id": "bf19a2c11aa61103",
   "metadata": {
    "ExecuteTime": {
     "end_time": "",
     "start_time": ""
    }
   },
   "outputs": [],
   "source": []
  },
  {
   "cell_type": "code",
   "execution_count": null,
   "id": "d829a88ccbd74218",
   "metadata": {},
   "outputs": [],
   "source": []
  }
 ],
 "metadata": {
  "kernelspec": {
   "display_name": "Python 3",
   "language": "python",
   "name": "python3"
  },
  "language_info": {
   "codemirror_mode": {
    "name": "ipython",
    "version": 2
   },
   "file_extension": ".py",
   "mimetype": "text/x-python",
   "name": "python",
   "nbconvert_exporter": "python",
   "pygments_lexer": "ipython2",
   "version": "2.7.6"
  }
 },
 "nbformat": 4,
 "nbformat_minor": 5
}
