{
 "cells": [
  {
   "cell_type": "code",
   "execution_count": null,
   "id": "initial_id",
   "metadata": {
    "ExecuteTime": {
     "end_time": "",
     "start_time": ""
    },
    "collapsed": true
   },
   "outputs": [],
   "source": [
    "import os\n",
    "import sys\n",
    "import matplotlib.pyplot as plt\n",
    "import numpy as np\n",
    "\n",
    "\"\"\"\n",
    "このnotebookがbaseフォルダを読めるようになるための処理\n",
    "\"\"\"\n",
    "\n",
    "root_rel = '../../'\n",
    "\n",
    "# 相対パスを絶対パスに変換してsys.pathに追加\n",
    "root_abs = os.path.abspath(root_rel)\n",
    "if root_abs not in sys.path:\n",
    "    sys.path.append(root_abs)\n",
    "print(root_abs)\n"
   ]
  },
  {
   "cell_type": "markdown",
   "id": "8d79bb015bde338e",
   "metadata": {},
   "source": [
    "# モデル読み込み"
   ]
  },
  {
   "cell_type": "code",
   "execution_count": null,
   "id": "5c1d15aa1abcba7d",
   "metadata": {
    "ExecuteTime": {
     "end_time": "",
     "start_time": ""
    }
   },
   "outputs": [],
   "source": [
    "from model.Temperature.Laser import LaserProfile"
   ]
  },
  {
   "cell_type": "markdown",
   "id": "b3e25998abb12a4c",
   "metadata": {},
   "source": [
    "# テスト"
   ]
  },
  {
   "cell_type": "code",
   "execution_count": null,
   "id": "97cde27e8518e0b5",
   "metadata": {
    "ExecuteTime": {
     "end_time": "",
     "start_time": ""
    }
   },
   "outputs": [],
   "source": [
    "# 初期化\n",
    "laser = LaserProfile()"
   ]
  },
  {
   "cell_type": "code",
   "execution_count": null,
   "id": "20162357806f3d33",
   "metadata": {
    "ExecuteTime": {
     "end_time": "",
     "start_time": ""
    }
   },
   "outputs": [],
   "source": [
    "dir(laser)"
   ]
  },
  {
   "cell_type": "markdown",
   "id": "b95190f56f37bdc",
   "metadata": {},
   "source": [
    "# パラメータ設定"
   ]
  },
  {
   "cell_type": "code",
   "execution_count": null,
   "id": "b106e5df99665743",
   "metadata": {
    "ExecuteTime": {
     "end_time": "",
     "start_time": ""
    }
   },
   "outputs": [],
   "source": [
    "# Linearの場合\n",
    "laser.start_power = 10\n",
    "laser.goal_power = 28\n",
    "\n",
    "laser.width = 18_000"
   ]
  },
  {
   "cell_type": "code",
   "execution_count": null,
   "id": "9d45fe373b3a0d5a",
   "metadata": {
    "ExecuteTime": {
     "end_time": "",
     "start_time": ""
    }
   },
   "outputs": [],
   "source": [
    "laser.get_plot_values()"
   ]
  },
  {
   "cell_type": "code",
   "execution_count": null,
   "id": "b53661daf5af459e",
   "metadata": {
    "ExecuteTime": {
     "end_time": "",
     "start_time": ""
    }
   },
   "outputs": [],
   "source": [
    "laser.show_profile_plot()"
   ]
  },
  {
   "cell_type": "code",
   "execution_count": null,
   "id": "883a35fdc6bf8331",
   "metadata": {
    "ExecuteTime": {
     "end_time": "",
     "start_time": ""
    }
   },
   "outputs": [],
   "source": []
  },
  {
   "cell_type": "markdown",
   "id": "2eec9528305409ce",
   "metadata": {},
   "source": [
    "# develop"
   ]
  },
  {
   "cell_type": "code",
   "execution_count": null,
   "id": "abfaf51eb675a5c8",
   "metadata": {
    "ExecuteTime": {
     "end_time": "",
     "start_time": ""
    }
   },
   "outputs": [],
   "source": [
    "laser.step_num"
   ]
  },
  {
   "cell_type": "code",
   "execution_count": null,
   "id": "3dfb7f1f5c739222",
   "metadata": {
    "ExecuteTime": {
     "end_time": "",
     "start_time": ""
    }
   },
   "outputs": [],
   "source": [
    "laser.energy_step"
   ]
  },
  {
   "cell_type": "code",
   "execution_count": null,
   "id": "e8a669ad3539807e",
   "metadata": {
    "ExecuteTime": {
     "end_time": "",
     "start_time": ""
    }
   },
   "outputs": [],
   "source": [
    "laser.time_series/1000"
   ]
  },
  {
   "cell_type": "code",
   "execution_count": null,
   "id": "931b22dddf69fc9b",
   "metadata": {
    "ExecuteTime": {
     "end_time": "",
     "start_time": ""
    }
   },
   "outputs": [],
   "source": [
    "laser.time_series.shape"
   ]
  },
  {
   "cell_type": "code",
   "execution_count": null,
   "id": "e7239a1ef5641d51",
   "metadata": {
    "ExecuteTime": {
     "end_time": "",
     "start_time": ""
    }
   },
   "outputs": [],
   "source": [
    "x = np.arange(laser.time_series.shape[0])\n",
    "plt.scatter(x, laser.time_series/1000)\n",
    "plt.xlim(0, 10)"
   ]
  },
  {
   "cell_type": "code",
   "execution_count": null,
   "id": "3fb7ec6e0b0448f0",
   "metadata": {
    "ExecuteTime": {
     "end_time": "",
     "start_time": ""
    }
   },
   "outputs": [],
   "source": [
    "# 時間配列\n",
    "\n",
    "# start\n",
    "time_arr = np.zeros(1)\n",
    "\n",
    "# 加熱はじめ\n",
    "time_arr = np.r_[time_arr, laser.delay + laser.time_adjust]\n",
    "time_arr = np.r_[time_arr, laser.delay + laser.time_adjust]\n",
    "\n",
    "# step加熱\n",
    "# FIXME\n",
    "#   time_adjustは一回にする\n",
    "#   time_series[i+1]がわかりづらい。計算する\n",
    "for i in range(int(laser.step_num)):\n",
    "    time_arr = np.r_[time_arr, laser.time_series[i+1]+ laser.time_adjust]\n",
    "    time_arr = np.r_[time_arr, laser.time_series[i+1]+ laser.time_adjust]\n",
    "\n",
    "# 加熱終わり\n",
    "time_arr = np.r_[time_arr, time_arr[-1]] # クエンチ\n",
    "end_time = laser.delay + laser.width + laser.residue\n",
    "time_arr = np.r_[time_arr, end_time]\n",
    "\n",
    "time_arr /= 1000\n",
    "time_arr"
   ]
  },
  {
   "cell_type": "code",
   "execution_count": null,
   "id": "ef5120eb9e5a7556",
   "metadata": {
    "ExecuteTime": {
     "end_time": "",
     "start_time": ""
    }
   },
   "outputs": [],
   "source": [
    "# エネルギー配列\n",
    "\n",
    "# start\n",
    "energy_arr = np.zeros(1)\n",
    "\n",
    "# 加熱はじめ\n",
    "energy_arr = np.r_[energy_arr, np.array([0])]\n",
    "energy_arr = np.r_[energy_arr, laser.start_power]\n",
    "\n",
    "# step加熱\n",
    "energy = laser.start_power\n",
    "for i in range(int(laser.step_num)):\n",
    "    energy_arr = np.r_[energy_arr, energy]\n",
    "    energy += laser.energy_step\n",
    "    energy_arr = np.r_[energy_arr, energy]\n",
    "\n",
    "# 加熱終わり\n",
    "energy_arr = np.r_[energy_arr, np.zeros(1)]\n",
    "energy_arr = np.r_[energy_arr, np.zeros(1)]\n",
    "\n",
    "energy_arr"
   ]
  },
  {
   "cell_type": "code",
   "execution_count": null,
   "id": "254b7bea5e061a3d",
   "metadata": {
    "ExecuteTime": {
     "end_time": "",
     "start_time": ""
    }
   },
   "outputs": [],
   "source": [
    "plt.figure(figsize=(6,6), dpi=1000)\n",
    "plt.plot(time_arr, energy_arr, lw=0.5)  "
   ]
  },
  {
   "cell_type": "code",
   "execution_count": null,
   "id": "dc72437075cdeb7",
   "metadata": {
    "ExecuteTime": {
     "end_time": "",
     "start_time": ""
    }
   },
   "outputs": [],
   "source": []
  }
 ],
 "metadata": {
  "kernelspec": {
   "display_name": "Python 3",
   "language": "python",
   "name": "python3"
  },
  "language_info": {
   "codemirror_mode": {
    "name": "ipython",
    "version": 2
   },
   "file_extension": ".py",
   "mimetype": "text/x-python",
   "name": "python",
   "nbconvert_exporter": "python",
   "pygments_lexer": "ipython2",
   "version": "2.7.6"
  }
 },
 "nbformat": 4,
 "nbformat_minor": 5
}
