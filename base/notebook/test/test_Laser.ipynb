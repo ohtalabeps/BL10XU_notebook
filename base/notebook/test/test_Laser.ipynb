{
 "cells": [
  {
   "cell_type": "code",
   "execution_count": null,
   "id": "initial_id",
   "metadata": {
    "ExecuteTime": {
     "end_time": "",
     "start_time": ""
    },
    "collapsed": true
   },
   "outputs": [],
   "source": [
    "import os\n",
    "import sys\n",
    "import matplotlib.pyplot as plt\n",
    "import numpy as np\n",
    "\n",
    "\"\"\"\n",
    "このnotebookがbaseフォルダを読めるようになるための処理\n",
    "\"\"\"\n",
    "\n",
    "root_rel = '../../'\n",
    "\n",
    "# 相対パスを絶対パスに変換してsys.pathに追加\n",
    "root_abs = os.path.abspath(root_rel)\n",
    "if root_abs not in sys.path:\n",
    "    sys.path.append(root_abs)\n",
    "print(root_abs)\n"
   ]
  },
  {
   "cell_type": "markdown",
   "id": "8d79bb015bde338e",
   "metadata": {},
   "source": [
    "# モデル読み込み"
   ]
  },
  {
   "cell_type": "code",
   "execution_count": null,
   "id": "5c1d15aa1abcba7d",
   "metadata": {
    "ExecuteTime": {
     "end_time": "",
     "start_time": ""
    }
   },
   "outputs": [],
   "source": [
    "from model.Temperature.Laser import LaserProfile"
   ]
  },
  {
   "cell_type": "markdown",
   "id": "b3e25998abb12a4c",
   "metadata": {},
   "source": [
    "# テスト"
   ]
  },
  {
   "cell_type": "code",
   "execution_count": null,
   "id": "97cde27e8518e0b5",
   "metadata": {
    "ExecuteTime": {
     "end_time": "",
     "start_time": ""
    }
   },
   "outputs": [],
   "source": [
    "# 初期化\n",
    "laser = LaserProfile()"
   ]
  },
  {
   "cell_type": "code",
   "execution_count": null,
   "id": "20162357806f3d33",
   "metadata": {
    "ExecuteTime": {
     "end_time": "",
     "start_time": ""
    }
   },
   "outputs": [],
   "source": [
    "dir(laser)"
   ]
  },
  {
   "cell_type": "markdown",
   "id": "b95190f56f37bdc",
   "metadata": {},
   "source": [
    "# パラメータ設定"
   ]
  },
  {
   "cell_type": "code",
   "execution_count": null,
   "id": "b106e5df99665743",
   "metadata": {
    "ExecuteTime": {
     "end_time": "",
     "start_time": ""
    }
   },
   "outputs": [],
   "source": [
    "# Linearの場合\n",
    "laser.start_power = 10\n",
    "laser.goal_power = 50\n",
    "\n",
    "laser.width = 18_000"
   ]
  },
  {
   "cell_type": "code",
   "execution_count": null,
   "id": "883a35fdc6bf8331",
   "metadata": {
    "ExecuteTime": {
     "end_time": "",
     "start_time": ""
    }
   },
   "outputs": [],
   "source": []
  },
  {
   "cell_type": "code",
   "execution_count": null,
   "id": "1aac5ddb5425d885",
   "metadata": {
    "ExecuteTime": {
     "end_time": "",
     "start_time": ""
    }
   },
   "outputs": [],
   "source": []
  },
  {
   "cell_type": "code",
   "execution_count": null,
   "id": "9d45fe373b3a0d5a",
   "metadata": {
    "ExecuteTime": {
     "end_time": "",
     "start_time": ""
    }
   },
   "outputs": [],
   "source": [
    "laser.get_plot_values()"
   ]
  },
  {
   "cell_type": "code",
   "execution_count": null,
   "id": "b53661daf5af459e",
   "metadata": {
    "ExecuteTime": {
     "end_time": "",
     "start_time": ""
    }
   },
   "outputs": [],
   "source": [
    "laser.show_profile_plot()"
   ]
  },
  {
   "cell_type": "code",
   "execution_count": null,
   "id": "3fb7ec6e0b0448f0",
   "metadata": {
    "ExecuteTime": {
     "end_time": "",
     "start_time": ""
    }
   },
   "outputs": [],
   "source": []
  }
 ],
 "metadata": {
  "kernelspec": {
   "display_name": "Python 3",
   "language": "python",
   "name": "python3"
  },
  "language_info": {
   "codemirror_mode": {
    "name": "ipython",
    "version": 2
   },
   "file_extension": ".py",
   "mimetype": "text/x-python",
   "name": "python",
   "nbconvert_exporter": "python",
   "pygments_lexer": "ipython2",
   "version": "2.7.6"
  }
 },
 "nbformat": 4,
 "nbformat_minor": 5
}
