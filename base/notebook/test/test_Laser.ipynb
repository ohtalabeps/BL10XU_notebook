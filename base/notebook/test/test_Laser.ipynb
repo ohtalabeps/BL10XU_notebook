{
 "cells": [
  {
   "cell_type": "code",
   "execution_count": null,
   "id": "initial_id",
   "metadata": {
    "ExecuteTime": {
     "end_time": "",
     "start_time": ""
    },
    "collapsed": true
   },
   "outputs": [],
   "source": [
    "import os\n",
    "import sys\n",
    "import matplotlib.pyplot as plt\n",
    "import numpy as np\n",
    "\n",
    "\"\"\"\n",
    "このnotebookがbaseフォルダを読めるようになるための処理\n",
    "\"\"\"\n",
    "\n",
    "root_rel = '../../'\n",
    "\n",
    "# 相対パスを絶対パスに変換してsys.pathに追加\n",
    "root_abs = os.path.abspath(root_rel)\n",
    "if root_abs not in sys.path:\n",
    "    sys.path.append(root_abs)\n",
    "print(root_abs)\n"
   ]
  },
  {
   "cell_type": "markdown",
   "id": "8d79bb015bde338e",
   "metadata": {},
   "source": [
    "# モデル読み込み"
   ]
  },
  {
   "cell_type": "code",
   "execution_count": null,
   "id": "5c1d15aa1abcba7d",
   "metadata": {
    "ExecuteTime": {
     "end_time": "",
     "start_time": ""
    }
   },
   "outputs": [],
   "source": [
    "from model.Temperature.Laser import LaserProfile"
   ]
  },
  {
   "cell_type": "markdown",
   "id": "b3e25998abb12a4c",
   "metadata": {},
   "source": [
    "# テスト"
   ]
  },
  {
   "cell_type": "code",
   "execution_count": null,
   "id": "97cde27e8518e0b5",
   "metadata": {
    "ExecuteTime": {
     "end_time": "",
     "start_time": ""
    }
   },
   "outputs": [],
   "source": [
    "# 初期化\n",
    "laser_const = LaserProfile()"
   ]
  },
  {
   "cell_type": "code",
   "execution_count": null,
   "id": "20162357806f3d33",
   "metadata": {
    "ExecuteTime": {
     "end_time": "",
     "start_time": ""
    }
   },
   "outputs": [],
   "source": [
    "dir(laser_const)"
   ]
  },
  {
   "cell_type": "code",
   "execution_count": null,
   "id": "5284202101f674be",
   "metadata": {
    "ExecuteTime": {
     "end_time": "",
     "start_time": ""
    }
   },
   "outputs": [],
   "source": [
    "# linearのwidthが、上のwidthより小さい場合\n",
    "# 最後が定常加熱になる\n",
    "# base_widthとlinear_widthを実装する。\n",
    "# base >= linearである必要がある\n",
    "# base < linearでもレーザー出てたような。エネルギーの上がり方が途中までになる？"
   ]
  },
  {
   "cell_type": "markdown",
   "id": "6d2cf97052434408",
   "metadata": {},
   "source": [
    "# 定常加熱の場合"
   ]
  },
  {
   "cell_type": "markdown",
   "id": "b0dd3e6b86660fc5",
   "metadata": {},
   "source": [
    "## パラメータ設定"
   ]
  },
  {
   "cell_type": "code",
   "execution_count": null,
   "id": "c6aa7c32730de939",
   "metadata": {
    "ExecuteTime": {
     "end_time": "",
     "start_time": ""
    }
   },
   "outputs": [],
   "source": [
    "# 設定するパラメータ\n",
    "# 辞書にする\n",
    "linear = False\n",
    "power_W = 10\n",
    "base_width_ms = 8_000\n",
    "whole_time_ms = 10_000\n",
    "laser_diameter_um = 17.5"
   ]
  },
  {
   "cell_type": "code",
   "execution_count": null,
   "id": "4fd2770a27f851cd",
   "metadata": {
    "ExecuteTime": {
     "end_time": "",
     "start_time": ""
    }
   },
   "outputs": [],
   "source": [
    "# クラスにつける\n",
    "laser_const.linear = linear\n",
    "laser_const.power_W = power_W\n",
    "laser_const.base_width_ms = base_width_ms\n",
    "laser_const.whole_time_ms = whole_time_ms\n",
    "laser_const.laser_diameter_um = laser_diameter_um"
   ]
  },
  {
   "cell_type": "code",
   "execution_count": null,
   "id": "3144a9db4ae753cb",
   "metadata": {
    "ExecuteTime": {
     "end_time": "",
     "start_time": ""
    }
   },
   "outputs": [],
   "source": [
    "laser_const.get_laser_profile_arr()"
   ]
  },
  {
   "cell_type": "code",
   "execution_count": null,
   "id": "807767b723696e77",
   "metadata": {
    "ExecuteTime": {
     "end_time": "",
     "start_time": ""
    }
   },
   "outputs": [],
   "source": [
    "plt.plot(laser_const.time_arr, laser_const.power_arr)\n",
    "plt.scatter(laser_const.time_arr, laser_const.power_arr)\n"
   ]
  },
  {
   "cell_type": "markdown",
   "id": "7a6adeb956dfccdc",
   "metadata": {},
   "source": [
    "# 線形加熱の場合"
   ]
  },
  {
   "cell_type": "code",
   "execution_count": null,
   "id": "407f14df8fa51e6b",
   "metadata": {
    "ExecuteTime": {
     "end_time": "",
     "start_time": ""
    }
   },
   "outputs": [],
   "source": [
    "# 初期化\n",
    "laser_linear = LaserProfile()"
   ]
  },
  {
   "cell_type": "markdown",
   "id": "b95190f56f37bdc",
   "metadata": {},
   "source": [
    "## パラメータ設定"
   ]
  },
  {
   "cell_type": "code",
   "execution_count": null,
   "id": "76b3f7d80d16f3da",
   "metadata": {
    "ExecuteTime": {
     "end_time": "",
     "start_time": ""
    }
   },
   "outputs": [],
   "source": [
    "# 設定するパラメータ\n",
    "params_dict = {\n",
    "    'linear': True,\n",
    "    'base_width_ms': 18_000,\n",
    "    'linear_width_ms': 18_000,\n",
    "    'whole_time_ms': 20_000,\n",
    "    'laser_diameter_um': 17.5,\n",
    "    'start_power_W': 14,\n",
    "    'goal_power_W': 50,\n",
    "    'step_width_ms': 100,\n",
    "}"
   ]
  },
  {
   "cell_type": "code",
   "execution_count": null,
   "id": "b106e5df99665743",
   "metadata": {
    "ExecuteTime": {
     "end_time": "",
     "start_time": ""
    }
   },
   "outputs": [],
   "source": [
    "params_list = list(params_dict.keys())"
   ]
  },
  {
   "cell_type": "code",
   "execution_count": null,
   "id": "9dd29970708079ab",
   "metadata": {
    "ExecuteTime": {
     "end_time": "",
     "start_time": ""
    }
   },
   "outputs": [],
   "source": [
    "for param in params_list:\n",
    "    print(f\"{param}: {params_dict[param]}\")"
   ]
  },
  {
   "cell_type": "code",
   "execution_count": null,
   "id": "9d45fe373b3a0d5a",
   "metadata": {
    "ExecuteTime": {
     "end_time": "",
     "start_time": ""
    }
   },
   "outputs": [],
   "source": [
    "for param in params_list:\n",
    "    exec(f\"laser_linear.{param} = {params_dict[param]}\")\n",
    "    exec(f\"print(laser_linear.{param})\")"
   ]
  },
  {
   "cell_type": "code",
   "execution_count": null,
   "id": "883a35fdc6bf8331",
   "metadata": {
    "ExecuteTime": {
     "end_time": "",
     "start_time": ""
    }
   },
   "outputs": [],
   "source": [
    "laser_linear.get_laser_profile_arr()"
   ]
  },
  {
   "cell_type": "code",
   "execution_count": null,
   "id": "d7f607d02f34f805",
   "metadata": {
    "ExecuteTime": {
     "end_time": "",
     "start_time": ""
    }
   },
   "outputs": [],
   "source": [
    "plt.plot(laser_linear.time_arr, laser_linear.power_arr)\n",
    "plt.scatter(laser_linear.time_arr, laser_linear.power_arr, s=1)"
   ]
  },
  {
   "cell_type": "markdown",
   "id": "c09e95c27afdd9e7",
   "metadata": {},
   "source": [
    "## 最後だけ定常する場合"
   ]
  },
  {
   "cell_type": "code",
   "execution_count": null,
   "id": "c4e4a30bed273af6",
   "metadata": {
    "ExecuteTime": {
     "end_time": "",
     "start_time": ""
    }
   },
   "outputs": [],
   "source": [
    "\n",
    "# 設定するパラメータ\n",
    "params_dict = {\n",
    "    'linear': True,\n",
    "    'base_width_ms': 18_000,\n",
    "    'linear_width_ms': 15_000,\n",
    "    'whole_time_ms': 20_000,\n",
    "    'laser_diameter_um': 17.5,\n",
    "    'start_power_W': 0,\n",
    "    'goal_power_W': 15,\n",
    "    'step_width_ms': 100,\n",
    "}\n",
    "\n",
    "params_list = list(params_dict.keys())\n",
    "for param in params_list:\n",
    "    print(f\"{param}: {params_dict[param]}\")\n",
    "for param in params_list:\n",
    "    exec(f\"laser_linear.{param} = {params_dict[param]}\")\n",
    "    exec(f\"print(laser_linear.{param})\")\n",
    "laser_linear.get_laser_profile_arr()\n"
   ]
  },
  {
   "cell_type": "code",
   "execution_count": null,
   "id": "d46417889a8e4a3c",
   "metadata": {
    "ExecuteTime": {
     "end_time": "",
     "start_time": ""
    }
   },
   "outputs": [],
   "source": [
    "\n",
    "plt.plot(laser_linear.time_arr, laser_linear.power_arr)\n",
    "plt.scatter(laser_linear.time_arr, laser_linear.power_arr, s=1)\n"
   ]
  },
  {
   "cell_type": "markdown",
   "id": "2eec9528305409ce",
   "metadata": {},
   "source": [
    "# develop"
   ]
  },
  {
   "cell_type": "code",
   "execution_count": null,
   "id": "abfaf51eb675a5c8",
   "metadata": {
    "ExecuteTime": {
     "end_time": "",
     "start_time": ""
    }
   },
   "outputs": [],
   "source": [
    "laser.step_num"
   ]
  },
  {
   "cell_type": "code",
   "execution_count": null,
   "id": "3dfb7f1f5c739222",
   "metadata": {},
   "outputs": [],
   "source": [
    "laser.energy_step"
   ]
  },
  {
   "cell_type": "code",
   "execution_count": null,
   "id": "e8a669ad3539807e",
   "metadata": {
    "ExecuteTime": {
     "end_time": "",
     "start_time": ""
    }
   },
   "outputs": [],
   "source": [
    "laser.time_series/1000"
   ]
  },
  {
   "cell_type": "code",
   "execution_count": null,
   "id": "931b22dddf69fc9b",
   "metadata": {},
   "outputs": [],
   "source": [
    "laser.time_series.shape"
   ]
  },
  {
   "cell_type": "code",
   "execution_count": null,
   "id": "e7239a1ef5641d51",
   "metadata": {},
   "outputs": [],
   "source": [
    "x = np.arange(laser.time_series.shape[0])\n",
    "plt.scatter(x, laser.time_series/1000)\n",
    "plt.xlim(0, 10)"
   ]
  },
  {
   "cell_type": "code",
   "execution_count": null,
   "id": "3fb7ec6e0b0448f0",
   "metadata": {},
   "outputs": [],
   "source": [
    "# 時間配列\n",
    "\n",
    "# start\n",
    "time_arr = np.zeros(1)\n",
    "\n",
    "# 加熱はじめ\n",
    "time_arr = np.r_[time_arr, laser.delay + laser.time_adjust]\n",
    "time_arr = np.r_[time_arr, laser.delay + laser.time_adjust]\n",
    "\n",
    "# step加熱\n",
    "# FIXME\n",
    "#   time_adjustは一回にする\n",
    "#   time_series[i+1]がわかりづらい。計算する\n",
    "for i in range(int(laser.step_num)):\n",
    "    time_arr = np.r_[time_arr, laser.time_series[i+1]+ laser.time_adjust]\n",
    "    time_arr = np.r_[time_arr, laser.time_series[i+1]+ laser.time_adjust]\n",
    "\n",
    "# 加熱終わり\n",
    "time_arr = np.r_[time_arr, time_arr[-1]] # クエンチ\n",
    "end_time = laser.delay + laser.width + laser.residue\n",
    "time_arr = np.r_[time_arr, end_time]\n",
    "\n",
    "time_arr /= 1000\n",
    "time_arr"
   ]
  },
  {
   "cell_type": "code",
   "execution_count": null,
   "id": "ef5120eb9e5a7556",
   "metadata": {},
   "outputs": [],
   "source": [
    "# エネルギー配列\n",
    "\n",
    "# start\n",
    "energy_arr = np.zeros(1)\n",
    "\n",
    "# 加熱はじめ\n",
    "energy_arr = np.r_[energy_arr, np.array([0])]\n",
    "energy_arr = np.r_[energy_arr, laser.start_power]\n",
    "\n",
    "# step加熱\n",
    "energy = laser.start_power\n",
    "for i in range(int(laser.step_num)):\n",
    "    energy_arr = np.r_[energy_arr, energy]\n",
    "    energy += laser.energy_step\n",
    "    energy_arr = np.r_[energy_arr, energy]\n",
    "\n",
    "# 加熱終わり\n",
    "energy_arr = np.r_[energy_arr, np.zeros(1)]\n",
    "energy_arr = np.r_[energy_arr, np.zeros(1)]\n",
    "\n",
    "energy_arr"
   ]
  },
  {
   "cell_type": "code",
   "execution_count": null,
   "id": "254b7bea5e061a3d",
   "metadata": {},
   "outputs": [],
   "source": [
    "plt.figure(figsize=(6,6), dpi=1000)\n",
    "plt.plot(time_arr, energy_arr, lw=0.5)  "
   ]
  },
  {
   "cell_type": "markdown",
   "id": "8c90be0378eaeefa",
   "metadata": {},
   "source": [
    "# クラスの方の配列をplotして確認"
   ]
  },
  {
   "cell_type": "code",
   "execution_count": null,
   "id": "e0b60d8868653ce1",
   "metadata": {},
   "outputs": [],
   "source": [
    "plt.figure(figsize=(6,6), dpi=1000)\n",
    "plt.plot(laser.time_arr, laser.energy_arr, lw=0.5)  \n"
   ]
  }
 ],
 "metadata": {
  "kernelspec": {
   "display_name": "Python 3",
   "language": "python",
   "name": "python3"
  },
  "language_info": {
   "codemirror_mode": {
    "name": "ipython",
    "version": 2
   },
   "file_extension": ".py",
   "mimetype": "text/x-python",
   "name": "python",
   "nbconvert_exporter": "python",
   "pygments_lexer": "ipython2",
   "version": "2.7.6"
  }
 },
 "nbformat": 4,
 "nbformat_minor": 5
}
